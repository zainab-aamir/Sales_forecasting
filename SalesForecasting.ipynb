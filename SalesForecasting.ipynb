{
  "nbformat": 4,
  "nbformat_minor": 0,
  "metadata": {
    "colab": {
      "provenance": [],
      "authorship_tag": "ABX9TyP2tfoo06onhZAcG1AmliFP",
      "include_colab_link": true
    },
    "kernelspec": {
      "name": "python3",
      "display_name": "Python 3"
    },
    "language_info": {
      "name": "python"
    }
  },
  "cells": [
    {
      "cell_type": "markdown",
      "metadata": {
        "id": "view-in-github",
        "colab_type": "text"
      },
      "source": [
        "<a href=\"https://colab.research.google.com/github/zainab-aamir/Sales_forecasting/blob/main/SalesForecasting.ipynb\" target=\"_parent\"><img src=\"https://colab.research.google.com/assets/colab-badge.svg\" alt=\"Open In Colab\"/></a>"
      ]
    },
    {
      "cell_type": "code",
      "execution_count": null,
      "metadata": {
        "colab": {
          "base_uri": "https://localhost:8080/"
        },
        "id": "qIQ1Jq8IlX1e",
        "outputId": "72fb7f17-1389-4a36-8365-0eae43092dcc"
      },
      "outputs": [
        {
          "output_type": "stream",
          "name": "stdout",
          "text": [
            "\u001b[2K     \u001b[90m━━━━━━━━━━━━━━━━━━━━━━━━━━━━━━━━━━━━━━━━\u001b[0m \u001b[32m152.8/152.8 kB\u001b[0m \u001b[31m1.8 MB/s\u001b[0m eta \u001b[36m0:00:00\u001b[0m\n",
            "\u001b[2K     \u001b[90m━━━━━━━━━━━━━━━━━━━━━━━━━━━━━━━━━━━━━━━━\u001b[0m \u001b[32m98.7/98.7 MB\u001b[0m \u001b[31m8.8 MB/s\u001b[0m eta \u001b[36m0:00:00\u001b[0m\n",
            "\u001b[2K     \u001b[90m━━━━━━━━━━━━━━━━━━━━━━━━━━━━━━━━━━━━━━━━\u001b[0m \u001b[32m1.7/1.7 MB\u001b[0m \u001b[31m74.7 MB/s\u001b[0m eta \u001b[36m0:00:00\u001b[0m\n",
            "\u001b[2K     \u001b[90m━━━━━━━━━━━━━━━━━━━━━━━━━━━━━━━━━━━━━━━━\u001b[0m \u001b[32m108.3/108.3 kB\u001b[0m \u001b[31m12.0 MB/s\u001b[0m eta \u001b[36m0:00:00\u001b[0m\n",
            "\u001b[?25h  Preparing metadata (setup.py) ... \u001b[?25l\u001b[?25hdone\n",
            "\u001b[2K     \u001b[90m━━━━━━━━━━━━━━━━━━━━━━━━━━━━━━━━━━━━━━━━\u001b[0m \u001b[32m139.4/139.4 kB\u001b[0m \u001b[31m12.5 MB/s\u001b[0m eta \u001b[36m0:00:00\u001b[0m\n",
            "\u001b[2K     \u001b[90m━━━━━━━━━━━━━━━━━━━━━━━━━━━━━━━━━━━━━━━━\u001b[0m \u001b[32m433.2/433.2 kB\u001b[0m \u001b[31m31.4 MB/s\u001b[0m eta \u001b[36m0:00:00\u001b[0m\n",
            "\u001b[2K     \u001b[90m━━━━━━━━━━━━━━━━━━━━━━━━━━━━━━━━━━━━━━━━\u001b[0m \u001b[32m109.3/109.3 kB\u001b[0m \u001b[31m10.8 MB/s\u001b[0m eta \u001b[36m0:00:00\u001b[0m\n",
            "\u001b[2K     \u001b[90m━━━━━━━━━━━━━━━━━━━━━━━━━━━━━━━━━━━━━━━━\u001b[0m \u001b[32m277.6/277.6 kB\u001b[0m \u001b[31m23.3 MB/s\u001b[0m eta \u001b[36m0:00:00\u001b[0m\n",
            "\u001b[2K     \u001b[90m━━━━━━━━━━━━━━━━━━━━━━━━━━━━━━━━━━━━━━━━\u001b[0m \u001b[32m2.8/2.8 MB\u001b[0m \u001b[31m55.8 MB/s\u001b[0m eta \u001b[36m0:00:00\u001b[0m\n",
            "\u001b[2K     \u001b[90m━━━━━━━━━━━━━━━━━━━━━━━━━━━━━━━━━━━━━━━━\u001b[0m \u001b[32m913.9/913.9 kB\u001b[0m \u001b[31m52.8 MB/s\u001b[0m eta \u001b[36m0:00:00\u001b[0m\n",
            "\u001b[?25h  Preparing metadata (setup.py) ... \u001b[?25l\u001b[?25hdone\n",
            "\u001b[2K     \u001b[90m━━━━━━━━━━━━━━━━━━━━━━━━━━━━━━━━━━━━━━━━\u001b[0m \u001b[32m1.6/1.6 MB\u001b[0m \u001b[31m52.7 MB/s\u001b[0m eta \u001b[36m0:00:00\u001b[0m\n",
            "\u001b[2K     \u001b[90m━━━━━━━━━━━━━━━━━━━━━━━━━━━━━━━━━━━━━━━━\u001b[0m \u001b[32m2.3/2.3 MB\u001b[0m \u001b[31m62.6 MB/s\u001b[0m eta \u001b[36m0:00:00\u001b[0m\n",
            "\u001b[2K     \u001b[90m━━━━━━━━━━━━━━━━━━━━━━━━━━━━━━━━━━━━━━━━\u001b[0m \u001b[32m1.6/1.6 MB\u001b[0m \u001b[31m63.2 MB/s\u001b[0m eta \u001b[36m0:00:00\u001b[0m\n",
            "\u001b[2K     \u001b[90m━━━━━━━━━━━━━━━━━━━━━━━━━━━━━━━━━━━━━━━━\u001b[0m \u001b[32m105.0/105.0 kB\u001b[0m \u001b[31m10.4 MB/s\u001b[0m eta \u001b[36m0:00:00\u001b[0m\n",
            "\u001b[2K     \u001b[90m━━━━━━━━━━━━━━━━━━━━━━━━━━━━━━━━━━━━━━━━\u001b[0m \u001b[32m46.2/46.2 kB\u001b[0m \u001b[31m4.8 MB/s\u001b[0m eta \u001b[36m0:00:00\u001b[0m\n",
            "\u001b[2K     \u001b[90m━━━━━━━━━━━━━━━━━━━━━━━━━━━━━━━━━━━━━━━━\u001b[0m \u001b[32m194.6/194.6 kB\u001b[0m \u001b[31m17.2 MB/s\u001b[0m eta \u001b[36m0:00:00\u001b[0m\n",
            "\u001b[2K     \u001b[90m━━━━━━━━━━━━━━━━━━━━━━━━━━━━━━━━━━━━━━━━\u001b[0m \u001b[32m58.1/58.1 kB\u001b[0m \u001b[31m6.8 MB/s\u001b[0m eta \u001b[36m0:00:00\u001b[0m\n",
            "\u001b[?25h  Building wheel for xhtml2pdf (setup.py) ... \u001b[?25l\u001b[?25hdone\n",
            "  Building wheel for svglib (setup.py) ... \u001b[?25l\u001b[?25hdone\n"
          ]
        }
      ],
      "source": [
        "%pip install -Uq upgini catboost"
      ]
    },
    {
      "cell_type": "markdown",
      "source": [
        "Prepare Input Data"
      ],
      "metadata": {
        "id": "Y9s_uOlSm5LL"
      }
    },
    {
      "cell_type": "code",
      "source": [
        "from os.path import exists\n",
        "import pandas as pd\n",
        "\n",
        "df = pd.read_csv(\"train.csv\")\n",
        "\n",
        "num_rows = df.shape[0]\n",
        "print(\"Number of rows in the DataFrame:\", num_rows)\n"
      ],
      "metadata": {
        "colab": {
          "base_uri": "https://localhost:8080/"
        },
        "id": "djaoLLy9l4JY",
        "outputId": "fa514be9-e8a7-41c2-9af2-710a168cc467"
      },
      "execution_count": null,
      "outputs": [
        {
          "output_type": "stream",
          "name": "stdout",
          "text": [
            "Number of rows in the DataFrame: 913000\n"
          ]
        }
      ]
    },
    {
      "cell_type": "code",
      "source": [
        "df = df.sample(n=19_000, random_state=0)\n",
        "\n",
        "df[\"store\"] = df[\"store\"].astype(str)\n",
        "df[\"item\"] = df[\"item\"].astype(str)\n",
        "\n",
        "df[\"date\"] = pd.to_datetime(df[\"date\"])\n",
        "\n",
        "df.sort_values(\"date\", inplace=True)\n",
        "df.reset_index(inplace=True, drop=True)\n",
        "df.head()\n"
      ],
      "metadata": {
        "colab": {
          "base_uri": "https://localhost:8080/",
          "height": 206
        },
        "id": "Zoj9jX0wq3Jb",
        "outputId": "89bd39f8-250d-4d7e-a836-0d5660a7045e"
      },
      "execution_count": null,
      "outputs": [
        {
          "output_type": "execute_result",
          "data": {
            "text/plain": [
              "        date store item  sales\n",
              "0 2013-01-01     7    5      5\n",
              "1 2013-01-01     4    9     19\n",
              "2 2013-01-01     1   33     37\n",
              "3 2013-01-01     3   41     14\n",
              "4 2013-01-01     5   24     26"
            ],
            "text/html": [
              "\n",
              "  <div id=\"df-4efdbe87-cf8f-4370-8e64-6a7f5d9b9a66\" class=\"colab-df-container\">\n",
              "    <div>\n",
              "<style scoped>\n",
              "    .dataframe tbody tr th:only-of-type {\n",
              "        vertical-align: middle;\n",
              "    }\n",
              "\n",
              "    .dataframe tbody tr th {\n",
              "        vertical-align: top;\n",
              "    }\n",
              "\n",
              "    .dataframe thead th {\n",
              "        text-align: right;\n",
              "    }\n",
              "</style>\n",
              "<table border=\"1\" class=\"dataframe\">\n",
              "  <thead>\n",
              "    <tr style=\"text-align: right;\">\n",
              "      <th></th>\n",
              "      <th>date</th>\n",
              "      <th>store</th>\n",
              "      <th>item</th>\n",
              "      <th>sales</th>\n",
              "    </tr>\n",
              "  </thead>\n",
              "  <tbody>\n",
              "    <tr>\n",
              "      <th>0</th>\n",
              "      <td>2013-01-01</td>\n",
              "      <td>7</td>\n",
              "      <td>5</td>\n",
              "      <td>5</td>\n",
              "    </tr>\n",
              "    <tr>\n",
              "      <th>1</th>\n",
              "      <td>2013-01-01</td>\n",
              "      <td>4</td>\n",
              "      <td>9</td>\n",
              "      <td>19</td>\n",
              "    </tr>\n",
              "    <tr>\n",
              "      <th>2</th>\n",
              "      <td>2013-01-01</td>\n",
              "      <td>1</td>\n",
              "      <td>33</td>\n",
              "      <td>37</td>\n",
              "    </tr>\n",
              "    <tr>\n",
              "      <th>3</th>\n",
              "      <td>2013-01-01</td>\n",
              "      <td>3</td>\n",
              "      <td>41</td>\n",
              "      <td>14</td>\n",
              "    </tr>\n",
              "    <tr>\n",
              "      <th>4</th>\n",
              "      <td>2013-01-01</td>\n",
              "      <td>5</td>\n",
              "      <td>24</td>\n",
              "      <td>26</td>\n",
              "    </tr>\n",
              "  </tbody>\n",
              "</table>\n",
              "</div>\n",
              "    <div class=\"colab-df-buttons\">\n",
              "\n",
              "  <div class=\"colab-df-container\">\n",
              "    <button class=\"colab-df-convert\" onclick=\"convertToInteractive('df-4efdbe87-cf8f-4370-8e64-6a7f5d9b9a66')\"\n",
              "            title=\"Convert this dataframe to an interactive table.\"\n",
              "            style=\"display:none;\">\n",
              "\n",
              "  <svg xmlns=\"http://www.w3.org/2000/svg\" height=\"24px\" viewBox=\"0 -960 960 960\">\n",
              "    <path d=\"M120-120v-720h720v720H120Zm60-500h600v-160H180v160Zm220 220h160v-160H400v160Zm0 220h160v-160H400v160ZM180-400h160v-160H180v160Zm440 0h160v-160H620v160ZM180-180h160v-160H180v160Zm440 0h160v-160H620v160Z\"/>\n",
              "  </svg>\n",
              "    </button>\n",
              "\n",
              "  <style>\n",
              "    .colab-df-container {\n",
              "      display:flex;\n",
              "      gap: 12px;\n",
              "    }\n",
              "\n",
              "    .colab-df-convert {\n",
              "      background-color: #E8F0FE;\n",
              "      border: none;\n",
              "      border-radius: 50%;\n",
              "      cursor: pointer;\n",
              "      display: none;\n",
              "      fill: #1967D2;\n",
              "      height: 32px;\n",
              "      padding: 0 0 0 0;\n",
              "      width: 32px;\n",
              "    }\n",
              "\n",
              "    .colab-df-convert:hover {\n",
              "      background-color: #E2EBFA;\n",
              "      box-shadow: 0px 1px 2px rgba(60, 64, 67, 0.3), 0px 1px 3px 1px rgba(60, 64, 67, 0.15);\n",
              "      fill: #174EA6;\n",
              "    }\n",
              "\n",
              "    .colab-df-buttons div {\n",
              "      margin-bottom: 4px;\n",
              "    }\n",
              "\n",
              "    [theme=dark] .colab-df-convert {\n",
              "      background-color: #3B4455;\n",
              "      fill: #D2E3FC;\n",
              "    }\n",
              "\n",
              "    [theme=dark] .colab-df-convert:hover {\n",
              "      background-color: #434B5C;\n",
              "      box-shadow: 0px 1px 3px 1px rgba(0, 0, 0, 0.15);\n",
              "      filter: drop-shadow(0px 1px 2px rgba(0, 0, 0, 0.3));\n",
              "      fill: #FFFFFF;\n",
              "    }\n",
              "  </style>\n",
              "\n",
              "    <script>\n",
              "      const buttonEl =\n",
              "        document.querySelector('#df-4efdbe87-cf8f-4370-8e64-6a7f5d9b9a66 button.colab-df-convert');\n",
              "      buttonEl.style.display =\n",
              "        google.colab.kernel.accessAllowed ? 'block' : 'none';\n",
              "\n",
              "      async function convertToInteractive(key) {\n",
              "        const element = document.querySelector('#df-4efdbe87-cf8f-4370-8e64-6a7f5d9b9a66');\n",
              "        const dataTable =\n",
              "          await google.colab.kernel.invokeFunction('convertToInteractive',\n",
              "                                                    [key], {});\n",
              "        if (!dataTable) return;\n",
              "\n",
              "        const docLinkHtml = 'Like what you see? Visit the ' +\n",
              "          '<a target=\"_blank\" href=https://colab.research.google.com/notebooks/data_table.ipynb>data table notebook</a>'\n",
              "          + ' to learn more about interactive tables.';\n",
              "        element.innerHTML = '';\n",
              "        dataTable['output_type'] = 'display_data';\n",
              "        await google.colab.output.renderOutput(dataTable, element);\n",
              "        const docLink = document.createElement('div');\n",
              "        docLink.innerHTML = docLinkHtml;\n",
              "        element.appendChild(docLink);\n",
              "      }\n",
              "    </script>\n",
              "  </div>\n",
              "\n",
              "\n",
              "<div id=\"df-a9b107e7-a3d6-4b11-8fa3-73b7c8756b63\">\n",
              "  <button class=\"colab-df-quickchart\" onclick=\"quickchart('df-a9b107e7-a3d6-4b11-8fa3-73b7c8756b63')\"\n",
              "            title=\"Suggest charts\"\n",
              "            style=\"display:none;\">\n",
              "\n",
              "<svg xmlns=\"http://www.w3.org/2000/svg\" height=\"24px\"viewBox=\"0 0 24 24\"\n",
              "     width=\"24px\">\n",
              "    <g>\n",
              "        <path d=\"M19 3H5c-1.1 0-2 .9-2 2v14c0 1.1.9 2 2 2h14c1.1 0 2-.9 2-2V5c0-1.1-.9-2-2-2zM9 17H7v-7h2v7zm4 0h-2V7h2v10zm4 0h-2v-4h2v4z\"/>\n",
              "    </g>\n",
              "</svg>\n",
              "  </button>\n",
              "\n",
              "<style>\n",
              "  .colab-df-quickchart {\n",
              "      --bg-color: #E8F0FE;\n",
              "      --fill-color: #1967D2;\n",
              "      --hover-bg-color: #E2EBFA;\n",
              "      --hover-fill-color: #174EA6;\n",
              "      --disabled-fill-color: #AAA;\n",
              "      --disabled-bg-color: #DDD;\n",
              "  }\n",
              "\n",
              "  [theme=dark] .colab-df-quickchart {\n",
              "      --bg-color: #3B4455;\n",
              "      --fill-color: #D2E3FC;\n",
              "      --hover-bg-color: #434B5C;\n",
              "      --hover-fill-color: #FFFFFF;\n",
              "      --disabled-bg-color: #3B4455;\n",
              "      --disabled-fill-color: #666;\n",
              "  }\n",
              "\n",
              "  .colab-df-quickchart {\n",
              "    background-color: var(--bg-color);\n",
              "    border: none;\n",
              "    border-radius: 50%;\n",
              "    cursor: pointer;\n",
              "    display: none;\n",
              "    fill: var(--fill-color);\n",
              "    height: 32px;\n",
              "    padding: 0;\n",
              "    width: 32px;\n",
              "  }\n",
              "\n",
              "  .colab-df-quickchart:hover {\n",
              "    background-color: var(--hover-bg-color);\n",
              "    box-shadow: 0 1px 2px rgba(60, 64, 67, 0.3), 0 1px 3px 1px rgba(60, 64, 67, 0.15);\n",
              "    fill: var(--button-hover-fill-color);\n",
              "  }\n",
              "\n",
              "  .colab-df-quickchart-complete:disabled,\n",
              "  .colab-df-quickchart-complete:disabled:hover {\n",
              "    background-color: var(--disabled-bg-color);\n",
              "    fill: var(--disabled-fill-color);\n",
              "    box-shadow: none;\n",
              "  }\n",
              "\n",
              "  .colab-df-spinner {\n",
              "    border: 2px solid var(--fill-color);\n",
              "    border-color: transparent;\n",
              "    border-bottom-color: var(--fill-color);\n",
              "    animation:\n",
              "      spin 1s steps(1) infinite;\n",
              "  }\n",
              "\n",
              "  @keyframes spin {\n",
              "    0% {\n",
              "      border-color: transparent;\n",
              "      border-bottom-color: var(--fill-color);\n",
              "      border-left-color: var(--fill-color);\n",
              "    }\n",
              "    20% {\n",
              "      border-color: transparent;\n",
              "      border-left-color: var(--fill-color);\n",
              "      border-top-color: var(--fill-color);\n",
              "    }\n",
              "    30% {\n",
              "      border-color: transparent;\n",
              "      border-left-color: var(--fill-color);\n",
              "      border-top-color: var(--fill-color);\n",
              "      border-right-color: var(--fill-color);\n",
              "    }\n",
              "    40% {\n",
              "      border-color: transparent;\n",
              "      border-right-color: var(--fill-color);\n",
              "      border-top-color: var(--fill-color);\n",
              "    }\n",
              "    60% {\n",
              "      border-color: transparent;\n",
              "      border-right-color: var(--fill-color);\n",
              "    }\n",
              "    80% {\n",
              "      border-color: transparent;\n",
              "      border-right-color: var(--fill-color);\n",
              "      border-bottom-color: var(--fill-color);\n",
              "    }\n",
              "    90% {\n",
              "      border-color: transparent;\n",
              "      border-bottom-color: var(--fill-color);\n",
              "    }\n",
              "  }\n",
              "</style>\n",
              "\n",
              "  <script>\n",
              "    async function quickchart(key) {\n",
              "      const quickchartButtonEl =\n",
              "        document.querySelector('#' + key + ' button');\n",
              "      quickchartButtonEl.disabled = true;  // To prevent multiple clicks.\n",
              "      quickchartButtonEl.classList.add('colab-df-spinner');\n",
              "      try {\n",
              "        const charts = await google.colab.kernel.invokeFunction(\n",
              "            'suggestCharts', [key], {});\n",
              "      } catch (error) {\n",
              "        console.error('Error during call to suggestCharts:', error);\n",
              "      }\n",
              "      quickchartButtonEl.classList.remove('colab-df-spinner');\n",
              "      quickchartButtonEl.classList.add('colab-df-quickchart-complete');\n",
              "    }\n",
              "    (() => {\n",
              "      let quickchartButtonEl =\n",
              "        document.querySelector('#df-a9b107e7-a3d6-4b11-8fa3-73b7c8756b63 button');\n",
              "      quickchartButtonEl.style.display =\n",
              "        google.colab.kernel.accessAllowed ? 'block' : 'none';\n",
              "    })();\n",
              "  </script>\n",
              "</div>\n",
              "    </div>\n",
              "  </div>\n"
            ]
          },
          "metadata": {},
          "execution_count": 6
        }
      ]
    },
    {
      "cell_type": "code",
      "source": [
        "train = df[df[\"date\"] < \"2017-01-01\"]\n",
        "test = df[df[\"date\"] >= \"2017-01-01\"]"
      ],
      "metadata": {
        "id": "DTwvw2x-tsYw"
      },
      "execution_count": null,
      "outputs": []
    },
    {
      "cell_type": "code",
      "source": [
        "train_features = train.drop(columns = [\"sales\"])\n",
        "train_target = train [\"sales\"]\n",
        "\n",
        "test_features = test.drop(columns = [\"sales\"])\n",
        "test_target = test [\"sales\"]"
      ],
      "metadata": {
        "id": "1zueevjpuQ2q"
      },
      "execution_count": null,
      "outputs": []
    },
    {
      "cell_type": "markdown",
      "source": [
        "Add relevant features through upgini library"
      ],
      "metadata": {
        "id": "Rs_9Mkkku7cB"
      }
    },
    {
      "cell_type": "code",
      "source": [
        "from upgini import FeaturesEnricher, SearchKey\n",
        "from upgini.metadata import CVType\n",
        "\n",
        "enricher = FeaturesEnricher(\n",
        "    search_keys= {\n",
        "        \"date\": SearchKey.DATE,\n",
        "    },\n",
        "    CV = CVType.time_series\n",
        ")\n",
        "\n",
        "enricher.fit(train_features,\n",
        "             train_target,\n",
        "              eval_set=[(test_features, test_target)])"
      ],
      "metadata": {
        "colab": {
          "base_uri": "https://localhost:8080/",
          "height": 1000
        },
        "id": "02MJscspvD15",
        "outputId": "d359d223-e406-4b63-848b-038212bbb460"
      },
      "execution_count": null,
      "outputs": [
        {
          "output_type": "stream",
          "name": "stdout",
          "text": [
            "WARNING: Unsupported arguments: {'CV': <CVType.time_series: 'time_series'>}\n"
          ]
        },
        {
          "output_type": "display_data",
          "data": {
            "text/plain": [
              "<IPython.core.display.Javascript object>"
            ],
            "application/javascript": [
              "\n",
              "                        window.visitorId = import('https://openfpcdn.io/fingerprintjs/v3')\n",
              "                            .then(FingerprintJS => FingerprintJS.load())\n",
              "                            .then(fp => fp.get())\n",
              "                            .then(result => result.visitorId);\n",
              "                    "
            ]
          },
          "metadata": {}
        },
        {
          "output_type": "display_data",
          "data": {
            "text/plain": [
              "[============================================================] 100% Finished"
            ],
            "text/html": [
              "<progress style='width:60ex' max='100' value='100'></progress>  100% Finished</br>"
            ]
          },
          "metadata": {}
        },
        {
          "output_type": "display_data",
          "data": {
            "text/plain": [
              "<IPython.core.display.Javascript object>"
            ],
            "application/javascript": [
              "\n",
              "                        window.visitorId = import('https://openfpcdn.io/fingerprintjs/v3')\n",
              "                            .then(FingerprintJS => FingerprintJS.load())\n",
              "                            .then(fp => fp.get())\n",
              "                            .then(result => result.visitorId);\n",
              "                    "
            ]
          },
          "metadata": {}
        },
        {
          "output_type": "display_data",
          "data": {
            "text/plain": [
              "<IPython.core.display.Javascript object>"
            ],
            "application/javascript": [
              "\n",
              "                        window.visitorId = import('https://openfpcdn.io/fingerprintjs/v3')\n",
              "                            .then(FingerprintJS => FingerprintJS.load())\n",
              "                            .then(fp => fp.get())\n",
              "                            .then(result => result.visitorId);\n",
              "                    "
            ]
          },
          "metadata": {}
        },
        {
          "output_type": "display_data",
          "data": {
            "text/plain": [
              "<IPython.core.display.Javascript object>"
            ],
            "application/javascript": [
              "\n",
              "                        window.visitorId = import('https://openfpcdn.io/fingerprintjs/v3')\n",
              "                            .then(FingerprintJS => FingerprintJS.load())\n",
              "                            .then(fp => fp.get())\n",
              "                            .then(result => result.visitorId);\n",
              "                    "
            ]
          },
          "metadata": {}
        },
        {
          "output_type": "display_data",
          "data": {
            "text/plain": [
              "<IPython.core.display.Javascript object>"
            ],
            "application/javascript": [
              "\n",
              "                        window.visitorId = import('https://openfpcdn.io/fingerprintjs/v3')\n",
              "                            .then(FingerprintJS => FingerprintJS.load())\n",
              "                            .then(fp => fp.get())\n",
              "                            .then(result => result.visitorId);\n",
              "                    "
            ]
          },
          "metadata": {}
        },
        {
          "output_type": "display_data",
          "data": {
            "text/plain": [
              "<IPython.core.display.Javascript object>"
            ],
            "application/javascript": [
              "\n",
              "                        window.visitorId = import('https://openfpcdn.io/fingerprintjs/v3')\n",
              "                            .then(FingerprintJS => FingerprintJS.load())\n",
              "                            .then(fp => fp.get())\n",
              "                            .then(result => result.visitorId);\n",
              "                    "
            ]
          },
          "metadata": {}
        },
        {
          "output_type": "display_data",
          "data": {
            "text/plain": [
              "<IPython.core.display.Javascript object>"
            ],
            "application/javascript": [
              "\n",
              "                        window.visitorId = import('https://openfpcdn.io/fingerprintjs/v3')\n",
              "                            .then(FingerprintJS => FingerprintJS.load())\n",
              "                            .then(fp => fp.get())\n",
              "                            .then(result => result.visitorId);\n",
              "                    "
            ]
          },
          "metadata": {}
        },
        {
          "output_type": "stream",
          "name": "stdout",
          "text": [
            "\n",
            "WARNING: Search started with DATE search key only\n",
            "Try to add other keys like the COUNTRY, POSTAL_CODE, PHONE NUMBER, EMAIL/HEM, IPv4 to your training dataset\n",
            "for search through all the available data sources.\n",
            "See docs https://github.com/upgini/upgini#-total-239-countries-and-up-to-41-years-of-history"
          ]
        },
        {
          "output_type": "display_data",
          "data": {
            "text/plain": [
              "<IPython.core.display.Javascript object>"
            ],
            "application/javascript": [
              "\n",
              "                        window.visitorId = import('https://openfpcdn.io/fingerprintjs/v3')\n",
              "                            .then(FingerprintJS => FingerprintJS.load())\n",
              "                            .then(fp => fp.get())\n",
              "                            .then(result => result.visitorId);\n",
              "                    "
            ]
          },
          "metadata": {}
        },
        {
          "output_type": "display_data",
          "data": {
            "text/plain": [
              "<IPython.core.display.Javascript object>"
            ],
            "application/javascript": [
              "\n",
              "                        window.visitorId = import('https://openfpcdn.io/fingerprintjs/v3')\n",
              "                            .then(FingerprintJS => FingerprintJS.load())\n",
              "                            .then(fp => fp.get())\n",
              "                            .then(result => result.visitorId);\n",
              "                    "
            ]
          },
          "metadata": {}
        },
        {
          "output_type": "stream",
          "name": "stdout",
          "text": [
            "\n",
            "Detected task type: ModelTaskType.REGRESSION\n",
            "\n"
          ]
        },
        {
          "output_type": "display_data",
          "data": {
            "text/plain": [
              "<IPython.core.display.Javascript object>"
            ],
            "application/javascript": [
              "\n",
              "                        window.visitorId = import('https://openfpcdn.io/fingerprintjs/v3')\n",
              "                            .then(FingerprintJS => FingerprintJS.load())\n",
              "                            .then(fp => fp.get())\n",
              "                            .then(result => result.visitorId);\n",
              "                    "
            ]
          },
          "metadata": {}
        },
        {
          "output_type": "display_data",
          "data": {
            "text/plain": [
              "<IPython.core.display.Javascript object>"
            ],
            "application/javascript": [
              "\n",
              "                        window.visitorId = import('https://openfpcdn.io/fingerprintjs/v3')\n",
              "                            .then(FingerprintJS => FingerprintJS.load())\n",
              "                            .then(fp => fp.get())\n",
              "                            .then(result => result.visitorId);\n",
              "                    "
            ]
          },
          "metadata": {}
        },
        {
          "output_type": "display_data",
          "data": {
            "text/plain": [
              "<IPython.core.display.Javascript object>"
            ],
            "application/javascript": [
              "\n",
              "                        window.visitorId = import('https://openfpcdn.io/fingerprintjs/v3')\n",
              "                            .then(FingerprintJS => FingerprintJS.load())\n",
              "                            .then(fp => fp.get())\n",
              "                            .then(result => result.visitorId);\n",
              "                    "
            ]
          },
          "metadata": {}
        },
        {
          "output_type": "display_data",
          "data": {
            "text/plain": [
              "<IPython.core.display.Javascript object>"
            ],
            "application/javascript": [
              "\n",
              "                        window.visitorId = import('https://openfpcdn.io/fingerprintjs/v3')\n",
              "                            .then(FingerprintJS => FingerprintJS.load())\n",
              "                            .then(fp => fp.get())\n",
              "                            .then(result => result.visitorId);\n",
              "                    "
            ]
          },
          "metadata": {}
        },
        {
          "output_type": "display_data",
          "data": {
            "text/plain": [
              "<IPython.core.display.Javascript object>"
            ],
            "application/javascript": [
              "\n",
              "                        window.visitorId = import('https://openfpcdn.io/fingerprintjs/v3')\n",
              "                            .then(FingerprintJS => FingerprintJS.load())\n",
              "                            .then(fp => fp.get())\n",
              "                            .then(result => result.visitorId);\n",
              "                    "
            ]
          },
          "metadata": {}
        },
        {
          "output_type": "display_data",
          "data": {
            "text/plain": [
              "<IPython.core.display.Javascript object>"
            ],
            "application/javascript": [
              "\n",
              "                        window.visitorId = import('https://openfpcdn.io/fingerprintjs/v3')\n",
              "                            .then(FingerprintJS => FingerprintJS.load())\n",
              "                            .then(fp => fp.get())\n",
              "                            .then(result => result.visitorId);\n",
              "                    "
            ]
          },
          "metadata": {}
        },
        {
          "output_type": "display_data",
          "data": {
            "text/plain": [
              "<IPython.core.display.Javascript object>"
            ],
            "application/javascript": [
              "\n",
              "                        window.visitorId = import('https://openfpcdn.io/fingerprintjs/v3')\n",
              "                            .then(FingerprintJS => FingerprintJS.load())\n",
              "                            .then(fp => fp.get())\n",
              "                            .then(result => result.visitorId);\n",
              "                    "
            ]
          },
          "metadata": {}
        },
        {
          "output_type": "display_data",
          "data": {
            "text/plain": [
              "<IPython.core.display.Javascript object>"
            ],
            "application/javascript": [
              "\n",
              "                        window.visitorId = import('https://openfpcdn.io/fingerprintjs/v3')\n",
              "                            .then(FingerprintJS => FingerprintJS.load())\n",
              "                            .then(fp => fp.get())\n",
              "                            .then(result => result.visitorId);\n",
              "                    "
            ]
          },
          "metadata": {}
        },
        {
          "output_type": "display_data",
          "data": {
            "text/plain": [
              "<IPython.core.display.HTML object>"
            ],
            "text/html": [
              "<table><tr><th style='font-weight:bold'>Column name</th><th style='font-weight:bold'>Status</th><th style='font-weight:bold'>Errors</th></tr><tr><td>target</td><td style='background-color:#DAF7A6;color:black'>All valid</td><td>-</td></tr><tr><td>date</td><td style='background-color:#DAF7A6;color:black'>All valid</td><td>-</td></tr></table>"
            ]
          },
          "metadata": {}
        },
        {
          "output_type": "display_data",
          "data": {
            "text/plain": [
              "<IPython.core.display.Javascript object>"
            ],
            "application/javascript": [
              "\n",
              "                        window.visitorId = import('https://openfpcdn.io/fingerprintjs/v3')\n",
              "                            .then(FingerprintJS => FingerprintJS.load())\n",
              "                            .then(fp => fp.get())\n",
              "                            .then(result => result.visitorId);\n",
              "                    "
            ]
          },
          "metadata": {}
        },
        {
          "output_type": "display_data",
          "data": {
            "text/plain": [
              "<IPython.core.display.Javascript object>"
            ],
            "application/javascript": [
              "\n",
              "                            window.clientIP = fetch(\"https://api.ipify.org\")\n",
              "                                .then(response => response.text())\n",
              "                                .then(data => data);\n",
              "                        "
            ]
          },
          "metadata": {}
        },
        {
          "output_type": "display_data",
          "data": {
            "text/plain": [
              "<IPython.core.display.Javascript object>"
            ],
            "application/javascript": [
              "\n",
              "                        window.visitorId = import('https://openfpcdn.io/fingerprintjs/v3')\n",
              "                            .then(FingerprintJS => FingerprintJS.load())\n",
              "                            .then(fp => fp.get())\n",
              "                            .then(result => result.visitorId);\n",
              "                    "
            ]
          },
          "metadata": {}
        },
        {
          "output_type": "display_data",
          "data": {
            "text/plain": [
              "<IPython.core.display.Javascript object>"
            ],
            "application/javascript": [
              "\n",
              "                            window.clientIP = fetch(\"https://api.ipify.org\")\n",
              "                                .then(response => response.text())\n",
              "                                .then(data => data);\n",
              "                        "
            ]
          },
          "metadata": {}
        },
        {
          "output_type": "display_data",
          "data": {
            "text/plain": [
              "<IPython.core.display.Javascript object>"
            ],
            "application/javascript": [
              "\n",
              "                            window.clientIP = fetch(\"https://api.ipify.org\")\n",
              "                                .then(response => response.text())\n",
              "                                .then(data => data);\n",
              "                        "
            ]
          },
          "metadata": {}
        },
        {
          "output_type": "display_data",
          "data": {
            "text/plain": [
              "<IPython.core.display.Javascript object>"
            ],
            "application/javascript": [
              "\n",
              "                            window.clientIP = fetch(\"https://api.ipify.org\")\n",
              "                                .then(response => response.text())\n",
              "                                .then(data => data);\n",
              "                        "
            ]
          },
          "metadata": {}
        },
        {
          "output_type": "display_data",
          "data": {
            "text/plain": [
              "<IPython.core.display.Javascript object>"
            ],
            "application/javascript": [
              "\n",
              "                            window.clientIP = fetch(\"https://api.ipify.org\")\n",
              "                                .then(response => response.text())\n",
              "                                .then(data => data);\n",
              "                        "
            ]
          },
          "metadata": {}
        },
        {
          "output_type": "display_data",
          "data": {
            "text/plain": [
              "<IPython.core.display.Javascript object>"
            ],
            "application/javascript": [
              "\n",
              "                            window.clientIP = fetch(\"https://api.ipify.org\")\n",
              "                                .then(response => response.text())\n",
              "                                .then(data => data);\n",
              "                        "
            ]
          },
          "metadata": {}
        },
        {
          "output_type": "display_data",
          "data": {
            "text/plain": [
              "<IPython.core.display.Javascript object>"
            ],
            "application/javascript": [
              "\n",
              "                            window.clientIP = fetch(\"https://api.ipify.org\")\n",
              "                                .then(response => response.text())\n",
              "                                .then(data => data);\n",
              "                        "
            ]
          },
          "metadata": {}
        },
        {
          "output_type": "display_data",
          "data": {
            "text/plain": [
              "<IPython.core.display.Javascript object>"
            ],
            "application/javascript": [
              "\n",
              "                            window.clientIP = fetch(\"https://api.ipify.org\")\n",
              "                                .then(response => response.text())\n",
              "                                .then(data => data);\n",
              "                        "
            ]
          },
          "metadata": {}
        },
        {
          "output_type": "display_data",
          "data": {
            "text/plain": [
              "<IPython.core.display.Javascript object>"
            ],
            "application/javascript": [
              "\n",
              "                            window.clientIP = fetch(\"https://api.ipify.org\")\n",
              "                                .then(response => response.text())\n",
              "                                .then(data => data);\n",
              "                        "
            ]
          },
          "metadata": {}
        },
        {
          "output_type": "display_data",
          "data": {
            "text/plain": [
              "<IPython.core.display.Javascript object>"
            ],
            "application/javascript": [
              "\n",
              "                            window.clientIP = fetch(\"https://api.ipify.org\")\n",
              "                                .then(response => response.text())\n",
              "                                .then(data => data);\n",
              "                        "
            ]
          },
          "metadata": {}
        },
        {
          "output_type": "display_data",
          "data": {
            "text/plain": [
              "<IPython.core.display.Javascript object>"
            ],
            "application/javascript": [
              "\n",
              "                            window.clientIP = fetch(\"https://api.ipify.org\")\n",
              "                                .then(response => response.text())\n",
              "                                .then(data => data);\n",
              "                        "
            ]
          },
          "metadata": {}
        },
        {
          "output_type": "display_data",
          "data": {
            "text/plain": [
              "<IPython.core.display.Javascript object>"
            ],
            "application/javascript": [
              "\n",
              "                            window.clientIP = fetch(\"https://api.ipify.org\")\n",
              "                                .then(response => response.text())\n",
              "                                .then(data => data);\n",
              "                        "
            ]
          },
          "metadata": {}
        },
        {
          "output_type": "display_data",
          "data": {
            "text/plain": [
              "<IPython.core.display.Javascript object>"
            ],
            "application/javascript": [
              "\n",
              "                            window.clientIP = fetch(\"https://api.ipify.org\")\n",
              "                                .then(response => response.text())\n",
              "                                .then(data => data);\n",
              "                        "
            ]
          },
          "metadata": {}
        },
        {
          "output_type": "display_data",
          "data": {
            "text/plain": [
              "<IPython.core.display.Javascript object>"
            ],
            "application/javascript": [
              "\n",
              "                            window.clientIP = fetch(\"https://api.ipify.org\")\n",
              "                                .then(response => response.text())\n",
              "                                .then(data => data);\n",
              "                        "
            ]
          },
          "metadata": {}
        },
        {
          "output_type": "display_data",
          "data": {
            "text/plain": [
              "<IPython.core.display.Javascript object>"
            ],
            "application/javascript": [
              "\n",
              "                            window.clientIP = fetch(\"https://api.ipify.org\")\n",
              "                                .then(response => response.text())\n",
              "                                .then(data => data);\n",
              "                        "
            ]
          },
          "metadata": {}
        },
        {
          "output_type": "display_data",
          "data": {
            "text/plain": [
              "<IPython.core.display.Javascript object>"
            ],
            "application/javascript": [
              "\n",
              "                            window.clientIP = fetch(\"https://api.ipify.org\")\n",
              "                                .then(response => response.text())\n",
              "                                .then(data => data);\n",
              "                        "
            ]
          },
          "metadata": {}
        },
        {
          "output_type": "display_data",
          "data": {
            "text/plain": [
              "<IPython.core.display.Javascript object>"
            ],
            "application/javascript": [
              "\n",
              "                            window.clientIP = fetch(\"https://api.ipify.org\")\n",
              "                                .then(response => response.text())\n",
              "                                .then(data => data);\n",
              "                        "
            ]
          },
          "metadata": {}
        },
        {
          "output_type": "display_data",
          "data": {
            "text/plain": [
              "<IPython.core.display.Javascript object>"
            ],
            "application/javascript": [
              "\n",
              "                            window.clientIP = fetch(\"https://api.ipify.org\")\n",
              "                                .then(response => response.text())\n",
              "                                .then(data => data);\n",
              "                        "
            ]
          },
          "metadata": {}
        },
        {
          "output_type": "display_data",
          "data": {
            "text/plain": [
              "<IPython.core.display.Javascript object>"
            ],
            "application/javascript": [
              "\n",
              "                            window.clientIP = fetch(\"https://api.ipify.org\")\n",
              "                                .then(response => response.text())\n",
              "                                .then(data => data);\n",
              "                        "
            ]
          },
          "metadata": {}
        },
        {
          "output_type": "stream",
          "name": "stdout",
          "text": [
            "\n",
            "Running search request, search_id=29607e20-1ba0-4dd7-a770-46c8841aab55\n",
            "We'll send email notification once it's completed, just use your personal api_key from profile.upgini.com\n",
            "\n",
            "\u001b[92m\u001b[1m\n",
            "63 relevant feature(s) found with the search keys: ['date']\u001b[0m\n"
          ]
        },
        {
          "output_type": "display_data",
          "data": {
            "text/plain": [
              "<IPython.core.display.HTML object>"
            ],
            "text/html": [
              "<style>\n",
              "            .upgini-df thead th {\n",
              "                font-weight:bold;\n",
              "                text-align: center;\n",
              "                padding: 0.5em;\n",
              "                border-bottom: 2px solid black;\n",
              "            }\n",
              "\n",
              "            .upgini-df tbody td {\n",
              "                padding: 0.5em;\n",
              "            }\n",
              "\n",
              "            .upgini-df tbody tr:nth-child(odd) {\n",
              "                background-color: #ffffff;\n",
              "            }\n",
              "\n",
              "            .upgini-df tbody tr:nth-child(even) {\n",
              "                background-color: #f2f2f2;\n",
              "            }\n",
              "\n",
              "            .upgini-text {\n",
              "                text-align: left;\n",
              "            }\n",
              "\n",
              "            .upgini-number {\n",
              "                text-align: center;\n",
              "            }\n",
              "        </style>\n",
              "        <h2>Relevant features</h2>\n",
              "        <div style=\"display:flex; flex-direction:column; align-items:flex-end; width: fit-content;\">\n",
              "            <div style=\"text-align: right\">\n",
              "                <button onclick=navigator.clipboard.writeText(decodeURI('Feature%20name%09SHAP%20value%09Coverage%20%25%09Value%20preview%09Provider%09Source%09Feature%20type%0Af_weather_date_weather_umap_31_fa6d9a99%090.0113%09100.0%095.6748,%204.8025,%204.7647%09Upgini%09Weather%20%26%20climate%20normals%20data%09Premium%0Af_autofe_mul_203%090.0078%09100.0%090.4223,%200.5678,%20-0.5857%09Upgini%09AutoFE%3A%20features%20from%20%3Ca%20href%3D%27https%3A%2F%2Fupgini.com%2F%23data_sources%27%20target%3D%27_blank%27%20rel%3D%27noopener%20noreferrer%27%3ECalendar%20data%3C%2Fa%3E,%3Ca%20href%3D%27https%3A%2F%2Fupgini.com%2F%23data_sources%27%20target%3D%27_blank%27%20rel%3D%27noopener%20noreferrer%27%3EMarkets%20data%3C%2Fa%3E%09Free%0Af_autofe_div_1974%090.0073%09100.0%090.818,%201.3844,%201.3667%09Upgini%09AutoFE%3A%20features%20from%20%3Ca%20href%3D%27https%3A%2F%2Fupgini.com%2F%23data_sources%27%20target%3D%27_blank%27%20rel%3D%27noopener%20noreferrer%27%3EMarkets%20data%3C%2Fa%3E%09Free%0Af_autofe_div_1910%090.0069%09100.0%092.6102,%202.7732,%202.4907%09Upgini%09AutoFE%3A%20features%20from%20%3Ca%20href%3D%27https%3A%2F%2Fupgini.com%2F%23data_sources%27%20target%3D%27_blank%27%20rel%3D%27noopener%20noreferrer%27%3EMarkets%20data%3C%2Fa%3E%09Free%0Af_economic_date_cbpol_pca_9_bde660b4%090.0067%09100.0%09-1.5639,%20-2.5108,%20-2.4447%09Upgini%09World%20economic%20indicators%09Free%0Af_autofe_div_1313%090.0062%09100.0%091.0812,%20-1.0553,%200.004%09Upgini%09AutoFE%3A%20features%20from%20%3Ca%20href%3D%27https%3A%2F%2Fupgini.com%2F%23data_sources%27%20target%3D%27_blank%27%20rel%3D%27noopener%20noreferrer%27%3ECalendar%20data%3C%2Fa%3E,%3Ca%20href%3D%27https%3A%2F%2Fupgini.com%2F%23data_sources%27%20target%3D%27_blank%27%20rel%3D%27noopener%20noreferrer%27%3EMarkets%20data%3C%2Fa%3E%09Free%0Af_autofe_div_1235%090.0061%09100.0%09-0.4045,%200.7664,%20-0.8314%09Upgini%09AutoFE%3A%20features%20from%20%3Ca%20href%3D%27https%3A%2F%2Fupgini.com%2F%23data_sources%27%20target%3D%27_blank%27%20rel%3D%27noopener%20noreferrer%27%3ECalendar%20data%3C%2Fa%3E,%3Ca%20href%3D%27https%3A%2F%2Fupgini.com%2F%23data_sources%27%20target%3D%27_blank%27%20rel%3D%27noopener%20noreferrer%27%3EMarkets%20data%3C%2Fa%3E%09Free%0Af_autofe_mul_61%090.0061%09100.0%090.3165,%200.9809,%200.4933%09Upgini%09AutoFE%3A%20features%20from%20%3Ca%20href%3D%27https%3A%2F%2Fupgini.com%2F%23data_sources%27%20target%3D%27_blank%27%20rel%3D%27noopener%20noreferrer%27%3ECalendar%20data%3C%2Fa%3E,%3Ca%20href%3D%27https%3A%2F%2Fupgini.com%2F%23data_sources%27%20target%3D%27_blank%27%20rel%3D%27noopener%20noreferrer%27%3EMarkets%20data%3C%2Fa%3E%09Free%0Af_autofe_mul_106%090.0052%09100.0%090.4885,%200.5922,%20-0.6279%09Upgini%09AutoFE%3A%20features%20from%20%3Ca%20href%3D%27https%3A%2F%2Fupgini.com%2F%23data_sources%27%20target%3D%27_blank%27%20rel%3D%27noopener%20noreferrer%27%3ECalendar%20data%3C%2Fa%3E,%3Ca%20href%3D%27https%3A%2F%2Fupgini.com%2F%23data_sources%27%20target%3D%27_blank%27%20rel%3D%27noopener%20noreferrer%27%3EMarkets%20data%3C%2Fa%3E%09Free%0Af_autofe_div_1992%090.0051%09100.0%0930.1825,%2033.6368,%2014.3183%09Upgini%09AutoFE%3A%20features%20from%20%3Ca%20href%3D%27https%3A%2F%2Fupgini.com%2F%23data_sources%27%20target%3D%27_blank%27%20rel%3D%27noopener%20noreferrer%27%3EMarkets%20data%3C%2Fa%3E%09Free%0Af_autofe_mul_148%090.0049%09100.0%090.9488,%20-0.311,%200.6907%09Upgini%09AutoFE%3A%20features%20from%20%3Ca%20href%3D%27https%3A%2F%2Fupgini.com%2F%23data_sources%27%20target%3D%27_blank%27%20rel%3D%27noopener%20noreferrer%27%3ECalendar%20data%3C%2Fa%3E,%3Ca%20href%3D%27https%3A%2F%2Fupgini.com%2F%23data_sources%27%20target%3D%27_blank%27%20rel%3D%27noopener%20noreferrer%27%3EMarkets%20data%3C%2Fa%3E%09Free%0Af_autofe_div_1228%090.0047%09100.0%09-0.0097,%20-0.0046,%20-0.0171%09Upgini%09AutoFE%3A%20features%20from%20%3Ca%20href%3D%27https%3A%2F%2Fupgini.com%2F%23data_sources%27%20target%3D%27_blank%27%20rel%3D%27noopener%20noreferrer%27%3ECalendar%20data%3C%2Fa%3E,%3Ca%20href%3D%27https%3A%2F%2Fupgini.com%2F%23data_sources%27%20target%3D%27_blank%27%20rel%3D%27noopener%20noreferrer%27%3EMarkets%20data%3C%2Fa%3E%09Free%0Af_autofe_mul_626%090.0046%09100.0%09113.1533,%2053.6197,%2036.0365%09Upgini%09AutoFE%3A%20features%20from%20%3Ca%20href%3D%27https%3A%2F%2Fupgini.com%2F%23data_sources%27%20target%3D%27_blank%27%20rel%3D%27noopener%20noreferrer%27%3EMarkets%20data%3C%2Fa%3E%09Free%0Af_autofe_div_2088%090.0042%09100.0%09338.1747,%20312.6612,%20282.7625%09Upgini%09AutoFE%3A%20features%20from%20%3Ca%20href%3D%27https%3A%2F%2Fupgini.com%2F%23data_sources%27%20target%3D%27_blank%27%20rel%3D%27noopener%20noreferrer%27%3EMarkets%20data%3C%2Fa%3E%09Free%0Af_weather_date_weather_umap_48_b39cd0c4%090.0042%09100.0%094.86,%205.0663,%204.5208%09Upgini%09Weather%20%26%20climate%20normals%20data%09Premium%0Af_autofe_mul_151%090.0041%09100.0%09-0.7718,%200.459,%20-0.3729%09Upgini%09AutoFE%3A%20features%20from%20%3Ca%20href%3D%27https%3A%2F%2Fupgini.com%2F%23data_sources%27%20target%3D%27_blank%27%20rel%3D%27noopener%20noreferrer%27%3ECalendar%20data%3C%2Fa%3E,%3Ca%20href%3D%27https%3A%2F%2Fupgini.com%2F%23data_sources%27%20target%3D%27_blank%27%20rel%3D%27noopener%20noreferrer%27%3EMarkets%20data%3C%2Fa%3E%09Free%0Af_autofe_mul_794%090.0041%09100.0%091.1641,%201.1579,%200.9618%09Upgini%09AutoFE%3A%20features%20from%20%3Ca%20href%3D%27https%3A%2F%2Fupgini.com%2F%23data_sources%27%20target%3D%27_blank%27%20rel%3D%27noopener%20noreferrer%27%3EMarkets%20data%3C%2Fa%3E%09Free%0Af_autofe_div_1311%090.004%09100.0%090.0048,%200.0,%200.0138%09Upgini%09AutoFE%3A%20features%20from%20%3Ca%20href%3D%27https%3A%2F%2Fupgini.com%2F%23data_sources%27%20target%3D%27_blank%27%20rel%3D%27noopener%20noreferrer%27%3ECalendar%20data%3C%2Fa%3E,%3Ca%20href%3D%27https%3A%2F%2Fupgini.com%2F%23data_sources%27%20target%3D%27_blank%27%20rel%3D%27noopener%20noreferrer%27%3EMarkets%20data%3C%2Fa%3E%09Free%0Af_autofe_div_1895%090.0038%09100.0%091.1468,%201.0999,%200.9523%09Upgini%09AutoFE%3A%20features%20from%20%3Ca%20href%3D%27https%3A%2F%2Fupgini.com%2F%23data_sources%27%20target%3D%27_blank%27%20rel%3D%27noopener%20noreferrer%27%3EMarkets%20data%3C%2Fa%3E%09Free%0Af_autofe_div_1097%090.0038%09100.0%09-0.8878,%200.5928,%20-0.2297%09Upgini%09AutoFE%3A%20features%20from%20%3Ca%20href%3D%27https%3A%2F%2Fupgini.com%2F%23data_sources%27%20target%3D%27_blank%27%20rel%3D%27noopener%20noreferrer%27%3ECalendar%20data%3C%2Fa%3E,%3Ca%20href%3D%27https%3A%2F%2Fupgini.com%2F%23data_sources%27%20target%3D%27_blank%27%20rel%3D%27noopener%20noreferrer%27%3EMarkets%20data%3C%2Fa%3E%09Free%0Af_autofe_mul_104%090.0037%09100.0%09-40.3274,%2065.2794,%2064.4252%09Upgini%09AutoFE%3A%20features%20from%20%3Ca%20href%3D%27https%3A%2F%2Fupgini.com%2F%23data_sources%27%20target%3D%27_blank%27%20rel%3D%27noopener%20noreferrer%27%3ECalendar%20data%3C%2Fa%3E,%3Ca%20href%3D%27https%3A%2F%2Fupgini.com%2F%23data_sources%27%20target%3D%27_blank%27%20rel%3D%27noopener%20noreferrer%27%3EMarkets%20data%3C%2Fa%3E%09Free%0Af_autofe_div_1876%090.0037%09100.0%091.0133,%200.956,%201.106%09Upgini%09AutoFE%3A%20features%20from%20%3Ca%20href%3D%27https%3A%2F%2Fupgini.com%2F%23data_sources%27%20target%3D%27_blank%27%20rel%3D%27noopener%20noreferrer%27%3EMarkets%20data%3C%2Fa%3E%09Free%0Af_autofe_mul_29%090.0035%09100.0%09-1.0918,%200.6154,%200.5231%09Upgini%09AutoFE%3A%20features%20from%20%3Ca%20href%3D%27https%3A%2F%2Fupgini.com%2F%23data_sources%27%20target%3D%27_blank%27%20rel%3D%27noopener%20noreferrer%27%3ECalendar%20data%3C%2Fa%3E,%3Ca%20href%3D%27https%3A%2F%2Fupgini.com%2F%23data_sources%27%20target%3D%27_blank%27%20rel%3D%27noopener%20noreferrer%27%3EMarkets%20data%3C%2Fa%3E%09Free%0Af_autofe_div_2040%090.0035%09100.0%091.1102,%201.0877,%200.809%09Upgini%09AutoFE%3A%20features%20from%20%3Ca%20href%3D%27https%3A%2F%2Fupgini.com%2F%23data_sources%27%20target%3D%27_blank%27%20rel%3D%27noopener%20noreferrer%27%3EMarkets%20data%3C%2Fa%3E%09Free%0Af_events_date_year_cos1_9014a856%090.003%09100.0%09-0.4597,%200.815,%20-0.6584%09Upgini%09Calendar%20data%09Free%0Af_weather_date_weather_umap_12_d03be9a0%090.0028%09100.0%095.9462,%204.2975,%204.7619%09Upgini%09Weather%20%26%20climate%20normals%20data%09Premium%0Af_autofe_mul_658%090.0027%09100.0%090.8086,%200.8095,%200.7729%09Upgini%09AutoFE%3A%20features%20from%20%3Ca%20href%3D%27https%3A%2F%2Fupgini.com%2F%23data_sources%27%20target%3D%27_blank%27%20rel%3D%27noopener%20noreferrer%27%3EMarkets%20data%3C%2Fa%3E%09Free%0Af_autofe_div_1312%090.0025%09100.0%091.6268,%20-1.0189,%200.5707%09Upgini%09AutoFE%3A%20features%20from%20%3Ca%20href%3D%27https%3A%2F%2Fupgini.com%2F%23data_sources%27%20target%3D%27_blank%27%20rel%3D%27noopener%20noreferrer%27%3ECalendar%20data%3C%2Fa%3E,%3Ca%20href%3D%27https%3A%2F%2Fupgini.com%2F%23data_sources%27%20target%3D%27_blank%27%20rel%3D%27noopener%20noreferrer%27%3EMarkets%20data%3C%2Fa%3E%09Free%0Af_autofe_div_2028%090.0025%09100.0%090.7005,%200.9904,%200.8066%09Upgini%09AutoFE%3A%20features%20from%20%3Ca%20href%3D%27https%3A%2F%2Fupgini.com%2F%23data_sources%27%20target%3D%27_blank%27%20rel%3D%27noopener%20noreferrer%27%3EMarkets%20data%3C%2Fa%3E%09Free%0Af_autofe_div_1234%090.0024%09100.0%090.8902,%200.7239,%200.8936%09Upgini%09AutoFE%3A%20features%20from%20%3Ca%20href%3D%27https%3A%2F%2Fupgini.com%2F%23data_sources%27%20target%3D%27_blank%27%20rel%3D%27noopener%20noreferrer%27%3ECalendar%20data%3C%2Fa%3E,%3Ca%20href%3D%27https%3A%2F%2Fupgini.com%2F%23data_sources%27%20target%3D%27_blank%27%20rel%3D%27noopener%20noreferrer%27%3EMarkets%20data%3C%2Fa%3E%09Free%0Af_autofe_mul_133%090.0024%09100.0%09-0.1844,%200.871,%20-0.2277%09Upgini%09AutoFE%3A%20features%20from%20%3Ca%20href%3D%27https%3A%2F%2Fupgini.com%2F%23data_sources%27%20target%3D%27_blank%27%20rel%3D%27noopener%20noreferrer%27%3ECalendar%20data%3C%2Fa%3E,%3Ca%20href%3D%27https%3A%2F%2Fupgini.com%2F%23data_sources%27%20target%3D%27_blank%27%20rel%3D%27noopener%20noreferrer%27%3EMarkets%20data%3C%2Fa%3E%09Free%0Af_autofe_div_1229%090.0023%09100.0%09-0.9276,%20-0.4132,%20-0.7675%09Upgini%09AutoFE%3A%20features%20from%20%3Ca%20href%3D%27https%3A%2F%2Fupgini.com%2F%23data_sources%27%20target%3D%27_blank%27%20rel%3D%27noopener%20noreferrer%27%3ECalendar%20data%3C%2Fa%3E,%3Ca%20href%3D%27https%3A%2F%2Fupgini.com%2F%23data_sources%27%20target%3D%27_blank%27%20rel%3D%27noopener%20noreferrer%27%3EMarkets%20data%3C%2Fa%3E%09Free%0Af_autofe_div_1107%090.0022%09100.0%090.3407,%20-0.5486,%200.5316%09Upgini%09AutoFE%3A%20features%20from%20%3Ca%20href%3D%27https%3A%2F%2Fupgini.com%2F%23data_sources%27%20target%3D%27_blank%27%20rel%3D%27noopener%20noreferrer%27%3ECalendar%20data%3C%2Fa%3E,%3Ca%20href%3D%27https%3A%2F%2Fupgini.com%2F%23data_sources%27%20target%3D%27_blank%27%20rel%3D%27noopener%20noreferrer%27%3EMarkets%20data%3C%2Fa%3E%09Free%0Af_autofe_mul_158%090.0022%09100.0%091.8667,%200.643,%20-1.0197%09Upgini%09AutoFE%3A%20features%20from%20%3Ca%20href%3D%27https%3A%2F%2Fupgini.com%2F%23data_sources%27%20target%3D%27_blank%27%20rel%3D%27noopener%20noreferrer%27%3ECalendar%20data%3C%2Fa%3E,%3Ca%20href%3D%27https%3A%2F%2Fupgini.com%2F%23data_sources%27%20target%3D%27_blank%27%20rel%3D%27noopener%20noreferrer%27%3EMarkets%20data%3C%2Fa%3E%09Free%0Af_weather_date_weather_umap_13_842ae1fc%090.0021%09100.0%095.019,%205.1093,%204.4839%09Upgini%09Weather%20%26%20climate%20normals%20data%09Premium%0Af_autofe_mul_27%090.0021%09100.0%09-14.1416,%2011.7185,%2010.6367%09Upgini%09AutoFE%3A%20features%20from%20%3Ca%20href%3D%27https%3A%2F%2Fupgini.com%2F%23data_sources%27%20target%3D%27_blank%27%20rel%3D%27noopener%20noreferrer%27%3ECalendar%20data%3C%2Fa%3E,%3Ca%20href%3D%27https%3A%2F%2Fupgini.com%2F%23data_sources%27%20target%3D%27_blank%27%20rel%3D%27noopener%20noreferrer%27%3EMarkets%20data%3C%2Fa%3E%09Free%0Af_autofe_div_1096%090.0019%09100.0%090.0278,%200.011,%200.0105%09Upgini%09AutoFE%3A%20features%20from%20%3Ca%20href%3D%27https%3A%2F%2Fupgini.com%2F%23data_sources%27%20target%3D%27_blank%27%20rel%3D%27noopener%20noreferrer%27%3ECalendar%20data%3C%2Fa%3E,%3Ca%20href%3D%27https%3A%2F%2Fupgini.com%2F%23data_sources%27%20target%3D%27_blank%27%20rel%3D%27noopener%20noreferrer%27%3EMarkets%20data%3C%2Fa%3E%09Free%0Af_autofe_div_1199%090.0018%09100.0%090.5998,%20-0.1898,%20-0.3497%09Upgini%09AutoFE%3A%20features%20from%20%3Ca%20href%3D%27https%3A%2F%2Fupgini.com%2F%23data_sources%27%20target%3D%27_blank%27%20rel%3D%27noopener%20noreferrer%27%3ECalendar%20data%3C%2Fa%3E,%3Ca%20href%3D%27https%3A%2F%2Fupgini.com%2F%23data_sources%27%20target%3D%27_blank%27%20rel%3D%27noopener%20noreferrer%27%3EMarkets%20data%3C%2Fa%3E%09Free%0Af_autofe_mul_147%090.0017%09100.0%09-37.1448,%2056.1753,%2042.5163%09Upgini%09AutoFE%3A%20features%20from%20%3Ca%20href%3D%27https%3A%2F%2Fupgini.com%2F%23data_sources%27%20target%3D%27_blank%27%20rel%3D%27noopener%20noreferrer%27%3ECalendar%20data%3C%2Fa%3E,%3Ca%20href%3D%27https%3A%2F%2Fupgini.com%2F%23data_sources%27%20target%3D%27_blank%27%20rel%3D%27noopener%20noreferrer%27%3EMarkets%20data%3C%2Fa%3E%09Free%0Af_autofe_div_1155%090.0017%09100.0%09-0.9812,%20-1.0399,%201.6614%09Upgini%09AutoFE%3A%20features%20from%20%3Ca%20href%3D%27https%3A%2F%2Fupgini.com%2F%23data_sources%27%20target%3D%27_blank%27%20rel%3D%27noopener%20noreferrer%27%3ECalendar%20data%3C%2Fa%3E,%3Ca%20href%3D%27https%3A%2F%2Fupgini.com%2F%23data_sources%27%20target%3D%27_blank%27%20rel%3D%27noopener%20noreferrer%27%3EMarkets%20data%3C%2Fa%3E%09Free%0Af_autofe_div_1186%090.0017%09100.0%09-0.2212,%20-0.8984,%20-0.1849%09Upgini%09AutoFE%3A%20features%20from%20%3Ca%20href%3D%27https%3A%2F%2Fupgini.com%2F%23data_sources%27%20target%3D%27_blank%27%20rel%3D%27noopener%20noreferrer%27%3ECalendar%20data%3C%2Fa%3E,%3Ca%20href%3D%27https%3A%2F%2Fupgini.com%2F%23data_sources%27%20target%3D%27_blank%27%20rel%3D%27noopener%20noreferrer%27%3EMarkets%20data%3C%2Fa%3E%09Free%0Af_autofe_div_1872%090.0016%09100.0%090.9775,%201.0363,%201.0201%09Upgini%09AutoFE%3A%20features%20from%20%3Ca%20href%3D%27https%3A%2F%2Fupgini.com%2F%23data_sources%27%20target%3D%27_blank%27%20rel%3D%27noopener%20noreferrer%27%3EMarkets%20data%3C%2Fa%3E%09Free%0Af_autofe_mul_72%090.0015%09100.0%09-5.3349,%20-3.7205,%2021.804%09Upgini%09AutoFE%3A%20features%20from%20%3Ca%20href%3D%27https%3A%2F%2Fupgini.com%2F%23data_sources%27%20target%3D%27_blank%27%20rel%3D%27noopener%20noreferrer%27%3ECalendar%20data%3C%2Fa%3E,%3Ca%20href%3D%27https%3A%2F%2Fupgini.com%2F%23data_sources%27%20target%3D%27_blank%27%20rel%3D%27noopener%20noreferrer%27%3EMarkets%20data%3C%2Fa%3E%09Free%0Af_autofe_div_1271%090.0014%09100.0%09-0.4314,%20-0.6809,%201.112%09Upgini%09AutoFE%3A%20features%20from%20%3Ca%20href%3D%27https%3A%2F%2Fupgini.com%2F%23data_sources%27%20target%3D%27_blank%27%20rel%3D%27noopener%20noreferrer%27%3ECalendar%20data%3C%2Fa%3E,%3Ca%20href%3D%27https%3A%2F%2Fupgini.com%2F%23data_sources%27%20target%3D%27_blank%27%20rel%3D%27noopener%20noreferrer%27%3EMarkets%20data%3C%2Fa%3E%09Free%0Af_weather_date_weather_umap_16_25ac8b87%090.0013%09100.0%096.079,%206.2938,%206.1694%09Upgini%09Weather%20%26%20climate%20normals%20data%09Premium%0Af_autofe_div_1611%090.0011%09100.0%09-0.1209,%20-0.4089,%20-0.0344%09Upgini%09AutoFE%3A%20features%20from%20%3Ca%20href%3D%27https%3A%2F%2Fupgini.com%2F%23data_sources%27%20target%3D%27_blank%27%20rel%3D%27noopener%20noreferrer%27%3ECalendar%20data%3C%2Fa%3E,%3Ca%20href%3D%27https%3A%2F%2Fupgini.com%2F%23data_sources%27%20target%3D%27_blank%27%20rel%3D%27noopener%20noreferrer%27%3EMarkets%20data%3C%2Fa%3E%09Free%0Af_autofe_mul_149%090.001%09100.0%09-0.5238,%201.0683,%20-0.4176%09Upgini%09AutoFE%3A%20features%20from%20%3Ca%20href%3D%27https%3A%2F%2Fupgini.com%2F%23data_sources%27%20target%3D%27_blank%27%20rel%3D%27noopener%20noreferrer%27%3ECalendar%20data%3C%2Fa%3E,%3Ca%20href%3D%27https%3A%2F%2Fupgini.com%2F%23data_sources%27%20target%3D%27_blank%27%20rel%3D%27noopener%20noreferrer%27%3EMarkets%20data%3C%2Fa%3E%09Free%0Af_economic_date_cbpol_umap_4_c5ce4e90%090.001%09100.0%095.598,%202.2263,%206.777%09Upgini%09World%20economic%20indicators%09Free%0Af_autofe_mul_815%090.0009%09100.0%09386.055,%20463.8986,%20428.8965%09Upgini%09AutoFE%3A%20features%20from%20%3Ca%20href%3D%27https%3A%2F%2Fupgini.com%2F%23data_sources%27%20target%3D%27_blank%27%20rel%3D%27noopener%20noreferrer%27%3EMarkets%20data%3C%2Fa%3E%09Free%0Af_autofe_div_2071%090.0008%09100.0%090.0025,%200.0032,%200.0031%09Upgini%09AutoFE%3A%20features%20from%20%3Ca%20href%3D%27https%3A%2F%2Fupgini.com%2F%23data_sources%27%20target%3D%27_blank%27%20rel%3D%27noopener%20noreferrer%27%3EMarkets%20data%3C%2Fa%3E%09Free%0Af_autofe_div_1998%090.0007%09100.0%0919.0283,%2015.3131,%2014.6475%09Upgini%09AutoFE%3A%20features%20from%20%3Ca%20href%3D%27https%3A%2F%2Fupgini.com%2F%23data_sources%27%20target%3D%27_blank%27%20rel%3D%27noopener%20noreferrer%27%3EMarkets%20data%3C%2Fa%3E%09Free%0Af_autofe_mul_710%090.0006%09100.0%090.9501,%201.6463,%200.9874%09Upgini%09AutoFE%3A%20features%20from%20%3Ca%20href%3D%27https%3A%2F%2Fupgini.com%2F%23data_sources%27%20target%3D%27_blank%27%20rel%3D%27noopener%20noreferrer%27%3EMarkets%20data%3C%2Fa%3E%09Free%0Af_autofe_mul_218%090.0006%09100.0%09-0.6817,%20-0.4805,%200.8782%09Upgini%09AutoFE%3A%20features%20from%20%3Ca%20href%3D%27https%3A%2F%2Fupgini.com%2F%23data_sources%27%20target%3D%27_blank%27%20rel%3D%27noopener%20noreferrer%27%3ECalendar%20data%3C%2Fa%3E,%3Ca%20href%3D%27https%3A%2F%2Fupgini.com%2F%23data_sources%27%20target%3D%27_blank%27%20rel%3D%27noopener%20noreferrer%27%3EMarkets%20data%3C%2Fa%3E%09Free%0Af_autofe_mul_200%090.0005%09100.0%091.3573,%20-0.2545,%20-1.1785%09Upgini%09AutoFE%3A%20features%20from%20%3Ca%20href%3D%27https%3A%2F%2Fupgini.com%2F%23data_sources%27%20target%3D%27_blank%27%20rel%3D%27noopener%20noreferrer%27%3ECalendar%20data%3C%2Fa%3E,%3Ca%20href%3D%27https%3A%2F%2Fupgini.com%2F%23data_sources%27%20target%3D%27_blank%27%20rel%3D%27noopener%20noreferrer%27%3EMarkets%20data%3C%2Fa%3E%09Free%0Af_autofe_mul_453%090.0005%09100.0%09-0.6461,%20-0.1367,%20-0.7262%09Upgini%09AutoFE%3A%20features%20from%20%3Ca%20href%3D%27https%3A%2F%2Fupgini.com%2F%23data_sources%27%20target%3D%27_blank%27%20rel%3D%27noopener%20noreferrer%27%3ECalendar%20data%3C%2Fa%3E%09Free%0Af_autofe_mul_89%090.0005%09100.0%09-0.2443,%20-0.6784,%200.4926%09Upgini%09AutoFE%3A%20features%20from%20%3Ca%20href%3D%27https%3A%2F%2Fupgini.com%2F%23data_sources%27%20target%3D%27_blank%27%20rel%3D%27noopener%20noreferrer%27%3ECalendar%20data%3C%2Fa%3E,%3Ca%20href%3D%27https%3A%2F%2Fupgini.com%2F%23data_sources%27%20target%3D%27_blank%27%20rel%3D%27noopener%20noreferrer%27%3EMarkets%20data%3C%2Fa%3E%09Free%0Af_economic_date_cpi_umap_9_b7d42666%090.0004%09100.0%0914.3744,%2014.6548,%202.2886%09Upgini%09World%20economic%20indicators%09Free%0Af_autofe_mul_342%090.0004%09100.0%090.6271,%200.2677,%20-0.0784%09Upgini%09AutoFE%3A%20features%20from%20%3Ca%20href%3D%27https%3A%2F%2Fupgini.com%2F%23data_sources%27%20target%3D%27_blank%27%20rel%3D%27noopener%20noreferrer%27%3ECalendar%20data%3C%2Fa%3E%09Free%0Af_economic_date_cbpol_pca_1_31e5f62c%090.0004%09100.0%09-3.8209,%20-3.6288,%20-3.3341%09Upgini%09World%20economic%20indicators%09Free%0Af_autofe_div_1083%090.0004%0985.46637744034707%092.0765,%20-2.0765,%20-2.0765%09Upgini%09AutoFE%3A%20features%20from%20%3Ca%20href%3D%27https%3A%2F%2Fupgini.com%2F%23data_sources%27%20target%3D%27_blank%27%20rel%3D%27noopener%20noreferrer%27%3ECalendar%20data%3C%2Fa%3E%09Free%0Af_autofe_mul_144%090.0003%09100.0%090.376,%20-0.8285,%20-0.9361%09Upgini%09AutoFE%3A%20features%20from%20%3Ca%20href%3D%27https%3A%2F%2Fupgini.com%2F%23data_sources%27%20target%3D%27_blank%27%20rel%3D%27noopener%20noreferrer%27%3ECalendar%20data%3C%2Fa%3E%09Free%0Af_autofe_div_1732%090.0003%09100.0%090.676,%200.7967,%200.842%09Upgini%09AutoFE%3A%20features%20from%20%3Ca%20href%3D%27https%3A%2F%2Fupgini.com%2F%23data_sources%27%20target%3D%27_blank%27%20rel%3D%27noopener%20noreferrer%27%3EMarkets%20data%3C%2Fa%3E%09Free%0Af_autofe_mul_265%090.0003%09100.0%090.2722,%200.3776,%20-0.2536%09Upgini%09AutoFE%3A%20features%20from%20%3Ca%20href%3D%27https%3A%2F%2Fupgini.com%2F%23data_sources%27%20target%3D%27_blank%27%20rel%3D%27noopener%20noreferrer%27%3ECalendar%20data%3C%2Fa%3E%09Free%0A'))>📂 Copy</button>\n",
              "                <a href='mailto:<Share with...>?subject=Relevant external data sources from Upgini.com&body=Feature%20name%09SHAP%20value%09Coverage%20%25%09Value%20preview%09Provider%09Source%09Feature%20type%0Af_weather_date_weather_umap_31_fa6d9a99%090.0113%09100.0%095.6748,%204.8025,%204.7647%09Upgini%09Weather%20%26%20climate%20normals%20data%09Premium%0Af_autofe_mul_203%090.0078%09100.0%090.4223,%200.5678,%20-0.5857%09Upgini%09AutoFE%3A%20features%20from%20%3Ca%20href%3D%27https%3A%2F%2Fupgini.com%2F%23data_sources%27%20target%3D%27_blank%27%20rel%3D%27noopener%20noreferrer%27%3ECalendar%20data%3C%2Fa%3E,%3Ca%20href%3D%27https%3A%2F%2Fupgini.com%2F%23data_sources%27%20target%3D%27_blank%27%20rel%3D%27noopener%20noreferrer%27%3EMarkets%20data%3C%2Fa%3E%09Free%0Af_autofe_div_1974%090.0073%09100.0%090.818,%201.3844,%201.3667%09Upgini%09AutoFE%3A%20features%20from%20%3Ca%20href%3D%27https%3A%2F%2Fupgini.com%2F%23data_sources%27%20target%3D%27_blank%27%20rel%3D%27noopener%20noreferrer%27%3EMarkets%20data%3C%2Fa%3E%09Free%0Af_autofe_div_1910%090.0069%09100.0%092.6102,%202.7732,%202.4907%09Upgini%09AutoFE%3A%20features%20from%20%3Ca%20href%3D%27https%3A%2F%2Fupgini.com%2F%23data_sources%27%20target%3D%27_blank%27%20rel%3D%27noopener%20noreferrer%27%3EMarkets%20data%3C%2Fa%3E%09Free%0Af_economic_date_cbpol_pca_9_bde660b4%090.0067%09100.0%09-1.5639,%20-2.5108,%20-2.4447%09Upgini%09World%20economic%20indicators%09Free%0Af_autofe_div_1313%090.0062%09100.0%091.0812,%20-1.0553,%200.004%09Upgini%09AutoFE%3A%20features%20from%20%3Ca%20href%3D%27https%3A%2F%2Fupgini.com%2F%23data_sources%27%20target%3D%27_blank%27%20rel%3D%27noopener%20noreferrer%27%3ECalendar%20data%3C%2Fa%3E,%3Ca%20href%3D%27https%3A%2F%2Fupgini.com%2F%23data_sources%27%20target%3D%27_blank%27%20rel%3D%27noopener%20noreferrer%27%3EMarkets%20data%3C%2Fa%3E%09Free%0Af_autofe_div_1235%090.0061%09100.0%09-0.4045,%200.7664,%20-0.8314%09Upgini%09AutoFE%3A%20features%20from%20%3Ca%20href%3D%27https%3A%2F%2Fupgini.com%2F%23data_sources%27%20target%3D%27_blank%27%20rel%3D%27noopener%20noreferrer%27%3ECalendar%20data%3C%2Fa%3E,%3Ca%20href%3D%27https%3A%2F%2Fupgini.com%2F%23data_sources%27%20target%3D%27_blank%27%20rel%3D%27noopener%20noreferrer%27%3EMarkets%20data%3C%2Fa%3E%09Free%0Af_autofe_mul_61%090.0061%09100.0%090.3165,%200.9809,%200.4933%09Upgini%09AutoFE%3A%20features%20from%20%3Ca%20href%3D%27https%3A%2F%2Fupgini.com%2F%23data_sources%27%20target%3D%27_blank%27%20rel%3D%27noopener%20noreferrer%27%3ECalendar%20data%3C%2Fa%3E,%3Ca%20href%3D%27https%3A%2F%2Fupgini.com%2F%23data_sources%27%20target%3D%27_blank%27%20rel%3D%27noopener%20noreferrer%27%3EMarkets%20data%3C%2Fa%3E%09Free%0Af_autofe_mul_106%090.0052%09100.0%090.4885,%200.5922,%20-0.6279%09Upgini%09AutoFE%3A%20features%20from%20%3Ca%20href%3D%27https%3A%2F%2Fupgini.com%2F%23data_sources%27%20target%3D%27_blank%27%20rel%3D%27noopener%20noreferrer%27%3ECalendar%20data%3C%2Fa%3E,%3Ca%20href%3D%27https%3A%2F%2Fupgini.com%2F%23data_sources%27%20target%3D%27_blank%27%20rel%3D%27noopener%20noreferrer%27%3EMarkets%20data%3C%2Fa%3E%09Free%0Af_autofe_div_1992%090.0051%09100.0%0930.1825,%2033.6368,%2014.3183%09Upgini%09AutoFE%3A%20features%20from%20%3Ca%20href%3D%27https%3A%2F%2Fupgini.com%2F%23data_sources%27%20target%3D%27_blank%27%20rel%3D%27noopener%20noreferrer%27%3EMarkets%20data%3C%2Fa%3E%09Free%0Af_autofe_mul_148%090.0049%09100.0%090.9488,%20-0.311,%200.6907%09Upgini%09AutoFE%3A%20features%20from%20%3Ca%20href%3D%27https%3A%2F%2Fupgini.com%2F%23data_sources%27%20target%3D%27_blank%27%20rel%3D%27noopener%20noreferrer%27%3ECalendar%20data%3C%2Fa%3E,%3Ca%20href%3D%27https%3A%2F%2Fupgini.com%2F%23data_sources%27%20target%3D%27_blank%27%20rel%3D%27noopener%20noreferrer%27%3EMarkets%20data%3C%2Fa%3E%09Free%0Af_autofe_div_1228%090.0047%09100.0%09-0.0097,%20-0.0046,%20-0.0171%09Upgini%09AutoFE%3A%20features%20from%20%3Ca%20href%3D%27https%3A%2F%2Fupgini.com%2F%23data_sources%27%20target%3D%27_blank%27%20rel%3D%27noopener%20noreferrer%27%3ECalendar%20data%3C%2Fa%3E,%3Ca%20href%3D%27https%3A%2F%2Fupgini.com%2F%23data_sources%27%20target%3D%27_blank%27%20rel%3D%27noopener%20noreferrer%27%3EMarkets%20data%3C%2Fa%3E%09Free%0Af_autofe_mul_626%090.0046%09100.0%09113.1533,%2053.6197,%2036.0365%09Upgini%09AutoFE%3A%20features%20from%20%3Ca%20href%3D%27https%3A%2F%2Fupgini.com%2F%23data_sources%27%20target%3D%27_blank%27%20rel%3D%27noopener%20noreferrer%27%3EMarkets%20data%3C%2Fa%3E%09Free%0Af_autofe_div_2088%090.0042%09100.0%09338.1747,%20312.6612,%20282.7625%09Upgini%09AutoFE%3A%20features%20from%20%3Ca%20href%3D%27https%3A%2F%2Fupgini.com%2F%23data_sources%27%20target%3D%27_blank%27%20rel%3D%27noopener%20noreferrer%27%3EMarkets%20data%3C%2Fa%3E%09Free%0Af_weather_date_weather_umap_48_b39cd0c4%090.0042%09100.0%094.86,%205.0663,%204.5208%09Upgini%09Weather%20%26%20climate%20normals%20data%09Premium%0Af_autofe_mul_151%090.0041%09100.0%09-0.7718,%200.459,%20-0.3729%09Upgini%09AutoFE%3A%20features%20from%20%3Ca%20href%3D%27https%3A%2F%2Fupgini.com%2F%23data_sources%27%20target%3D%27_blank%27%20rel%3D%27noopener%20noreferrer%27%3ECalendar%20data%3C%2Fa%3E,%3Ca%20href%3D%27https%3A%2F%2Fupgini.com%2F%23data_sources%27%20target%3D%27_blank%27%20rel%3D%27noopener%20noreferrer%27%3EMarkets%20data%3C%2Fa%3E%09Free%0Af_autofe_mul_794%090.0041%09100.0%091.1641,%201.1579,%200.9618%09Upgini%09AutoFE%3A%20features%20from%20%3Ca%20href%3D%27https%3A%2F%2Fupgini.com%2F%23data_sources%27%20target%3D%27_blank%27%20rel%3D%27noopener%20noreferrer%27%3EMarkets%20data%3C%2Fa%3E%09Free%0Af_autofe_div_1311%090.004%09100.0%090.0048,%200.0,%200.0138%09Upgini%09AutoFE%3A%20features%20from%20%3Ca%20href%3D%27https%3A%2F%2Fupgini.com%2F%23data_sources%27%20target%3D%27_blank%27%20rel%3D%27noopener%20noreferrer%27%3ECalendar%20data%3C%2Fa%3E,%3Ca%20href%3D%27https%3A%2F%2Fupgini.com%2F%23data_sources%27%20target%3D%27_blank%27%20rel%3D%27noopener%20noreferrer%27%3EMarkets%20data%3C%2Fa%3E%09Free%0Af_autofe_div_1895%090.0038%09100.0%091.1468,%201.0999,%200.9523%09Upgini%09AutoFE%3A%20features%20from%20%3Ca%20href%3D%27https%3A%2F%2Fupgini.com%2F%23data_sources%27%20target%3D%27_blank%27%20rel%3D%27noopener%20noreferrer%27%3EMarkets%20data%3C%2Fa%3E%09Free%0Af_autofe_div_1097%090.0038%09100.0%09-0.8878,%200.5928,%20-0.2297%09Upgini%09AutoFE%3A%20features%20from%20%3Ca%20href%3D%27https%3A%2F%2Fupgini.com%2F%23data_sources%27%20target%3D%27_blank%27%20rel%3D%27noopener%20noreferrer%27%3ECalendar%20data%3C%2Fa%3E,%3Ca%20href%3D%27https%3A%2F%2Fupgini.com%2F%23data_sources%27%20target%3D%27_blank%27%20rel%3D%27noopener%20noreferrer%27%3EMarkets%20data%3C%2Fa%3E%09Free%0Af_autofe_mul_104%090.0037%09100.0%09-40.3274,%2065.2794,%2064.4252%09Upgini%09AutoFE%3A%20features%20from%20%3Ca%20href%3D%27https%3A%2F%2Fupgini.com%2F%23data_sources%27%20target%3D%27_blank%27%20rel%3D%27noopener%20noreferrer%27%3ECalendar%20data%3C%2Fa%3E,%3Ca%20href%3D%27https%3A%2F%2Fupgini.com%2F%23data_sources%27%20target%3D%27_blank%27%20rel%3D%27noopener%20noreferrer%27%3EMarkets%20data%3C%2Fa%3E%09Free%0Af_autofe_div_1876%090.0037%09100.0%091.0133,%200.956,%201.106%09Upgini%09AutoFE%3A%20features%20from%20%3Ca%20href%3D%27https%3A%2F%2Fupgini.com%2F%23data_sources%27%20target%3D%27_blank%27%20rel%3D%27noopener%20noreferrer%27%3EMarkets%20data%3C%2Fa%3E%09Free%0Af_autofe_mul_29%090.0035%09100.0%09-1.0918,%200.6154,%200.5231%09Upgini%09AutoFE%3A%20features%20from%20%3Ca%20href%3D%27https%3A%2F%2Fupgini.com%2F%23data_sources%27%20target%3D%27_blank%27%20rel%3D%27noopener%20noreferrer%27%3ECalendar%20data%3C%2Fa%3E,%3Ca%20href%3D%27https%3A%2F%2Fupgini.com%2F%23data_sources%27%20target%3D%27_blank%27%20rel%3D%27noopener%20noreferrer%27%3EMarkets%20data%3C%2Fa%3E%09Free%0Af_autofe_div_2040%090.0035%09100.0%091.1102,%201.0877,%200.809%09Upgini%09AutoFE%3A%20features%20from%20%3Ca%20href%3D%27https%3A%2F%2Fupgini.com%2F%23data_sources%27%20target%3D%27_blank%27%20rel%3D%27noopener%20noreferrer%27%3EMarkets%20data%3C%2Fa%3E%09Free%0Af_events_date_year_cos1_9014a856%090.003%09100.0%09-0.4597,%200.815,%20-0.6584%09Upgini%09Calendar%20data%09Free%0Af_weather_date_weather_umap_12_d03be9a0%090.0028%09100.0%095.9462,%204.2975,%204.7619%09Upgini%09Weather%20%26%20climate%20normals%20data%09Premium%0Af_autofe_mul_658%090.0027%09100.0%090.8086,%200.8095,%200.7729%09Upgini%09AutoFE%3A%20features%20from%20%3Ca%20href%3D%27https%3A%2F%2Fupgini.com%2F%23data_sources%27%20target%3D%27_blank%27%20rel%3D%27noopener%20noreferrer%27%3EMarkets%20data%3C%2Fa%3E%09Free%0Af_autofe_div_1312%090.0025%09100.0%091.6268,%20-1.0189,%200.5707%09Upgini%09AutoFE%3A%20features%20from%20%3Ca%20href%3D%27https%3A%2F%2Fupgini.com%2F%23data_sources%27%20target%3D%27_blank%27%20rel%3D%27noopener%20noreferrer%27%3ECalendar%20data%3C%2Fa%3E,%3Ca%20href%3D%27https%3A%2F%2Fupgini.com%2F%23data_sources%27%20target%3D%27_blank%27%20rel%3D%27noopener%20noreferrer%27%3EMarkets%20data%3C%2Fa%3E%09Free%0Af_autofe_div_2028%090.0025%09100.0%090.7005,%200.9904,%200.8066%09Upgini%09AutoFE%3A%20features%20from%20%3Ca%20href%3D%27https%3A%2F%2Fupgini.com%2F%23data_sources%27%20target%3D%27_blank%27%20rel%3D%27noopener%20noreferrer%27%3EMarkets%20data%3C%2Fa%3E%09Free%0Af_autofe_div_1234%090.0024%09100.0%090.8902,%200.7239,%200.8936%09Upgini%09AutoFE%3A%20features%20from%20%3Ca%20href%3D%27https%3A%2F%2Fupgini.com%2F%23data_sources%27%20target%3D%27_blank%27%20rel%3D%27noopener%20noreferrer%27%3ECalendar%20data%3C%2Fa%3E,%3Ca%20href%3D%27https%3A%2F%2Fupgini.com%2F%23data_sources%27%20target%3D%27_blank%27%20rel%3D%27noopener%20noreferrer%27%3EMarkets%20data%3C%2Fa%3E%09Free%0Af_autofe_mul_133%090.0024%09100.0%09-0.1844,%200.871,%20-0.2277%09Upgini%09AutoFE%3A%20features%20from%20%3Ca%20href%3D%27https%3A%2F%2Fupgini.com%2F%23data_sources%27%20target%3D%27_blank%27%20rel%3D%27noopener%20noreferrer%27%3ECalendar%20data%3C%2Fa%3E,%3Ca%20href%3D%27https%3A%2F%2Fupgini.com%2F%23data_sources%27%20target%3D%27_blank%27%20rel%3D%27noopener%20noreferrer%27%3EMarkets%20data%3C%2Fa%3E%09Free%0Af_autofe_div_1229%090.0023%09100.0%09-0.9276,%20-0.4132,%20-0.7675%09Upgini%09AutoFE%3A%20features%20from%20%3Ca%20href%3D%27https%3A%2F%2Fupgini.com%2F%23data_sources%27%20target%3D%27_blank%27%20rel%3D%27noopener%20noreferrer%27%3ECalendar%20data%3C%2Fa%3E,%3Ca%20href%3D%27https%3A%2F%2Fupgini.com%2F%23data_sources%27%20target%3D%27_blank%27%20rel%3D%27noopener%20noreferrer%27%3EMarkets%20data%3C%2Fa%3E%09Free%0Af_autofe_div_1107%090.0022%09100.0%090.3407,%20-0.5486,%200.5316%09Upgini%09AutoFE%3A%20features%20from%20%3Ca%20href%3D%27https%3A%2F%2Fupgini.com%2F%23data_sources%27%20target%3D%27_blank%27%20rel%3D%27noopener%20noreferrer%27%3ECalendar%20data%3C%2Fa%3E,%3Ca%20href%3D%27https%3A%2F%2Fupgini.com%2F%23data_sources%27%20target%3D%27_blank%27%20rel%3D%27noopener%20noreferrer%27%3EMarkets%20data%3C%2Fa%3E%09Free%0Af_autofe_mul_158%090.0022%09100.0%091.8667,%200.643,%20-1.0197%09Upgini%09AutoFE%3A%20features%20from%20%3Ca%20href%3D%27https%3A%2F%2Fupgini.com%2F%23data_sources%27%20target%3D%27_blank%27%20rel%3D%27noopener%20noreferrer%27%3ECalendar%20data%3C%2Fa%3E,%3Ca%20href%3D%27https%3A%2F%2Fupgini.com%2F%23data_sources%27%20target%3D%27_blank%27%20rel%3D%27noopener%20noreferrer%27%3EMarkets%20data%3C%2Fa%3E%09Free%0Af_weather_date_weather_umap_13_842ae1fc%090.0021%09100.0%095.019,%205.1093,%204.4839%09Upgini%09Weather%20%26%20climate%20normals%20data%09Premium%0Af_autofe_mul_27%090.0021%09100.0%09-14.1416,%2011.7185,%2010.6367%09Upgini%09AutoFE%3A%20features%20from%20%3Ca%20href%3D%27https%3A%2F%2Fupgini.com%2F%23data_sources%27%20target%3D%27_blank%27%20rel%3D%27noopener%20noreferrer%27%3ECalendar%20data%3C%2Fa%3E,%3Ca%20href%3D%27https%3A%2F%2Fupgini.com%2F%23data_sources%27%20target%3D%27_blank%27%20rel%3D%27noopener%20noreferrer%27%3EMarkets%20data%3C%2Fa%3E%09Free%0Af_autofe_div_1096%090.0019%09100.0%090.0278,%200.011,%200.0105%09Upgini%09AutoFE%3A%20features%20from%20%3Ca%20href%3D%27https%3A%2F%2Fupgini.com%2F%23data_sources%27%20target%3D%27_blank%27%20rel%3D%27noopener%20noreferrer%27%3ECalendar%20data%3C%2Fa%3E,%3Ca%20href%3D%27https%3A%2F%2Fupgini.com%2F%23data_sources%27%20target%3D%27_blank%27%20rel%3D%27noopener%20noreferrer%27%3EMarkets%20data%3C%2Fa%3E%09Free%0Af_autofe_div_1199%090.0018%09100.0%090.5998,%20-0.1898,%20-0.3497%09Upgini%09AutoFE%3A%20features%20from%20%3Ca%20href%3D%27https%3A%2F%2Fupgini.com%2F%23data_sources%27%20target%3D%27_blank%27%20rel%3D%27noopener%20noreferrer%27%3ECalendar%20data%3C%2Fa%3E,%3Ca%20href%3D%27https%3A%2F%2Fupgini.com%2F%23data_sources%27%20target%3D%27_blank%27%20rel%3D%27noopener%20noreferrer%27%3EMarkets%20data%3C%2Fa%3E%09Free%0Af_autofe_mul_147%090.0017%09100.0%09-37.1448,%2056.1753,%2042.5163%09Upgini%09AutoFE%3A%20features%20from%20%3Ca%20href%3D%27https%3A%2F%2Fupgini.com%2F%23data_sources%27%20target%3D%27_blank%27%20rel%3D%27noopener%20noreferrer%27%3ECalendar%20data%3C%2Fa%3E,%3Ca%20href%3D%27https%3A%2F%2Fupgini.com%2F%23data_sources%27%20target%3D%27_blank%27%20rel%3D%27noopener%20noreferrer%27%3EMarkets%20data%3C%2Fa%3E%09Free%0Af_autofe_div_1155%090.0017%09100.0%09-0.9812,%20-1.0399,%201.6614%09Upgini%09AutoFE%3A%20features%20from%20%3Ca%20href%3D%27https%3A%2F%2Fupgini.com%2F%23data_sources%27%20target%3D%27_blank%27%20rel%3D%27noopener%20noreferrer%27%3ECalendar%20data%3C%2Fa%3E,%3Ca%20href%3D%27https%3A%2F%2Fupgini.com%2F%23data_sources%27%20target%3D%27_blank%27%20rel%3D%27noopener%20noreferrer%27%3EMarkets%20data%3C%2Fa%3E%09Free%0Af_autofe_div_1186%090.0017%09100.0%09-0.2212,%20-0.8984,%20-0.1849%09Upgini%09AutoFE%3A%20features%20from%20%3Ca%20href%3D%27https%3A%2F%2Fupgini.com%2F%23data_sources%27%20target%3D%27_blank%27%20rel%3D%27noopener%20noreferrer%27%3ECalendar%20data%3C%2Fa%3E,%3Ca%20href%3D%27https%3A%2F%2Fupgini.com%2F%23data_sources%27%20target%3D%27_blank%27%20rel%3D%27noopener%20noreferrer%27%3EMarkets%20data%3C%2Fa%3E%09Free%0Af_autofe_div_1872%090.0016%09100.0%090.9775,%201.0363,%201.0201%09Upgini%09AutoFE%3A%20features%20from%20%3Ca%20href%3D%27https%3A%2F%2Fupgini.com%2F%23data_sources%27%20target%3D%27_blank%27%20rel%3D%27noopener%20noreferrer%27%3EMarkets%20data%3C%2Fa%3E%09Free%0Af_autofe_mul_72%090.0015%09100.0%09-5.3349,%20-3.7205,%2021.804%09Upgini%09AutoFE%3A%20features%20from%20%3Ca%20href%3D%27https%3A%2F%2Fupgini.com%2F%23data_sources%27%20target%3D%27_blank%27%20rel%3D%27noopener%20noreferrer%27%3ECalendar%20data%3C%2Fa%3E,%3Ca%20href%3D%27https%3A%2F%2Fupgini.com%2F%23data_sources%27%20target%3D%27_blank%27%20rel%3D%27noopener%20noreferrer%27%3EMarkets%20data%3C%2Fa%3E%09Free%0Af_autofe_div_1271%090.0014%09100.0%09-0.4314,%20-0.6809,%201.112%09Upgini%09AutoFE%3A%20features%20from%20%3Ca%20href%3D%27https%3A%2F%2Fupgini.com%2F%23data_sources%27%20target%3D%27_blank%27%20rel%3D%27noopener%20noreferrer%27%3ECalendar%20data%3C%2Fa%3E,%3Ca%20href%3D%27https%3A%2F%2Fupgini.com%2F%23data_sources%27%20target%3D%27_blank%27%20rel%3D%27noopener%20noreferrer%27%3EMarkets%20data%3C%2Fa%3E%09Free%0Af_weather_date_weather_umap_16_25ac8b87%090.0013%09100.0%096.079,%206.2938,%206.1694%09Upgini%09Weather%20%26%20climate%20normals%20data%09Premium%0Af_autofe_div_1611%090.0011%09100.0%09-0.1209,%20-0.4089,%20-0.0344%09Upgini%09AutoFE%3A%20features%20from%20%3Ca%20href%3D%27https%3A%2F%2Fupgini.com%2F%23data_sources%27%20target%3D%27_blank%27%20rel%3D%27noopener%20noreferrer%27%3ECalendar%20data%3C%2Fa%3E,%3Ca%20href%3D%27https%3A%2F%2Fupgini.com%2F%23data_sources%27%20target%3D%27_blank%27%20rel%3D%27noopener%20noreferrer%27%3EMarkets%20data%3C%2Fa%3E%09Free%0Af_autofe_mul_149%090.001%09100.0%09-0.5238,%201.0683,%20-0.4176%09Upgini%09AutoFE%3A%20features%20from%20%3Ca%20href%3D%27https%3A%2F%2Fupgini.com%2F%23data_sources%27%20target%3D%27_blank%27%20rel%3D%27noopener%20noreferrer%27%3ECalendar%20data%3C%2Fa%3E,%3Ca%20href%3D%27https%3A%2F%2Fupgini.com%2F%23data_sources%27%20target%3D%27_blank%27%20rel%3D%27noopener%20noreferrer%27%3EMarkets%20data%3C%2Fa%3E%09Free%0Af_economic_date_cbpol_umap_4_c5ce4e90%090.001%09100.0%095.598,%202.2263,%206.777%09Upgini%09World%20economic%20indicators%09Free%0Af_autofe_mul_815%090.0009%09100.0%09386.055,%20463.8986,%20428.8965%09Upgini%09AutoFE%3A%20features%20from%20%3Ca%20href%3D%27https%3A%2F%2Fupgini.com%2F%23data_sources%27%20target%3D%27_blank%27%20rel%3D%27noopener%20noreferrer%27%3EMarkets%20data%3C%2Fa%3E%09Free%0Af_autofe_div_2071%090.0008%09100.0%090.0025,%200.0032,%200.0031%09Upgini%09AutoFE%3A%20features%20from%20%3Ca%20href%3D%27https%3A%2F%2Fupgini.com%2F%23data_sources%27%20target%3D%27_blank%27%20rel%3D%27noopener%20noreferrer%27%3EMarkets%20data%3C%2Fa%3E%09Free%0Af_autofe_div_1998%090.0007%09100.0%0919.0283,%2015.3131,%2014.6475%09Upgini%09AutoFE%3A%20features%20from%20%3Ca%20href%3D%27https%3A%2F%2Fupgini.com%2F%23data_sources%27%20target%3D%27_blank%27%20rel%3D%27noopener%20noreferrer%27%3EMarkets%20data%3C%2Fa%3E%09Free%0Af_autofe_mul_710%090.0006%09100.0%090.9501,%201.6463,%200.9874%09Upgini%09AutoFE%3A%20features%20from%20%3Ca%20href%3D%27https%3A%2F%2Fupgini.com%2F%23data_sources%27%20target%3D%27_blank%27%20rel%3D%27noopener%20noreferrer%27%3EMarkets%20data%3C%2Fa%3E%09Free%0Af_autofe_mul_218%090.0006%09100.0%09-0.6817,%20-0.4805,%200.8782%09Upgini%09AutoFE%3A%20features%20from%20%3Ca%20href%3D%27https%3A%2F%2Fupgini.com%2F%23data_sources%27%20target%3D%27_blank%27%20rel%3D%27noopener%20noreferrer%27%3ECalendar%20data%3C%2Fa%3E,%3Ca%20href%3D%27https%3A%2F%2Fupgini.com%2F%23data_sources%27%20target%3D%27_blank%27%20rel%3D%27noopener%20noreferrer%27%3EMarkets%20data%3C%2Fa%3E%09Free%0Af_autofe_mul_200%090.0005%09100.0%091.3573,%20-0.2545,%20-1.1785%09Upgini%09AutoFE%3A%20features%20from%20%3Ca%20href%3D%27https%3A%2F%2Fupgini.com%2F%23data_sources%27%20target%3D%27_blank%27%20rel%3D%27noopener%20noreferrer%27%3ECalendar%20data%3C%2Fa%3E,%3Ca%20href%3D%27https%3A%2F%2Fupgini.com%2F%23data_sources%27%20target%3D%27_blank%27%20rel%3D%27noopener%20noreferrer%27%3EMarkets%20data%3C%2Fa%3E%09Free%0Af_autofe_mul_453%090.0005%09100.0%09-0.6461,%20-0.1367,%20-0.7262%09Upgini%09AutoFE%3A%20features%20from%20%3Ca%20href%3D%27https%3A%2F%2Fupgini.com%2F%23data_sources%27%20target%3D%27_blank%27%20rel%3D%27noopener%20noreferrer%27%3ECalendar%20data%3C%2Fa%3E%09Free%0Af_autofe_mul_89%090.0005%09100.0%09-0.2443,%20-0.6784,%200.4926%09Upgini%09AutoFE%3A%20features%20from%20%3Ca%20href%3D%27https%3A%2F%2Fupgini.com%2F%23data_sources%27%20target%3D%27_blank%27%20rel%3D%27noopener%20noreferrer%27%3ECalendar%20data%3C%2Fa%3E,%3Ca%20href%3D%27https%3A%2F%2Fupgini.com%2F%23data_sources%27%20target%3D%27_blank%27%20rel%3D%27noopener%20noreferrer%27%3EMarkets%20data%3C%2Fa%3E%09Free%0Af_economic_date_cpi_umap_9_b7d42666%090.0004%09100.0%0914.3744,%2014.6548,%202.2886%09Upgini%09World%20economic%20indicators%09Free%0Af_autofe_mul_342%090.0004%09100.0%090.6271,%200.2677,%20-0.0784%09Upgini%09AutoFE%3A%20features%20from%20%3Ca%20href%3D%27https%3A%2F%2Fupgini.com%2F%23data_sources%27%20target%3D%27_blank%27%20rel%3D%27noopener%20noreferrer%27%3ECalendar%20data%3C%2Fa%3E%09Free%0Af_economic_date_cbpol_pca_1_31e5f62c%090.0004%09100.0%09-3.8209,%20-3.6288,%20-3.3341%09Upgini%09World%20economic%20indicators%09Free%0Af_autofe_div_1083%090.0004%0985.46637744034707%092.0765,%20-2.0765,%20-2.0765%09Upgini%09AutoFE%3A%20features%20from%20%3Ca%20href%3D%27https%3A%2F%2Fupgini.com%2F%23data_sources%27%20target%3D%27_blank%27%20rel%3D%27noopener%20noreferrer%27%3ECalendar%20data%3C%2Fa%3E%09Free%0Af_autofe_mul_144%090.0003%09100.0%090.376,%20-0.8285,%20-0.9361%09Upgini%09AutoFE%3A%20features%20from%20%3Ca%20href%3D%27https%3A%2F%2Fupgini.com%2F%23data_sources%27%20target%3D%27_blank%27%20rel%3D%27noopener%20noreferrer%27%3ECalendar%20data%3C%2Fa%3E%09Free%0Af_autofe_div_1732%090.0003%09100.0%090.676,%200.7967,%200.842%09Upgini%09AutoFE%3A%20features%20from%20%3Ca%20href%3D%27https%3A%2F%2Fupgini.com%2F%23data_sources%27%20target%3D%27_blank%27%20rel%3D%27noopener%20noreferrer%27%3EMarkets%20data%3C%2Fa%3E%09Free%0Af_autofe_mul_265%090.0003%09100.0%090.2722,%200.3776,%20-0.2536%09Upgini%09AutoFE%3A%20features%20from%20%3Ca%20href%3D%27https%3A%2F%2Fupgini.com%2F%23data_sources%27%20target%3D%27_blank%27%20rel%3D%27noopener%20noreferrer%27%3ECalendar%20data%3C%2Fa%3E%09Free%0A'>\n",
              "                    <button>📨 Share</button>\n",
              "                </a>\n",
              "            </div>\n",
              "            <table class='upgini-df'><thead><th>Feature name</th><th>SHAP value</th><th>Coverage %</th><th>Value preview</th><th>Provider</th><th>Source</th><th>Feature type</th></thead><tbody><tr><td class='upgini-text'><a href='https://docs.upgini.com/public/weather/weather_umap#f_weather_date_weather_umap_31_fa6d9a99' target='_blank' rel='noopener noreferrer'>f_weather_date_weather_umap_31_fa6d9a99</a></td><td class='upgini-number'>0.0113</td><td class='upgini-number'>100.0000</td><td class='upgini-text'>5.6748, 4.8025, 4.7647</td><td class='upgini-text'><a href='https://upgini.com' target='_blank' rel='noopener noreferrer'>Upgini</a></td><td class='upgini-text'><a href='https://upgini.com/#data_sources' target='_blank' rel='noopener noreferrer'>Weather & climate normals data</a></td><td class='upgini-text'>Premium</td></tr><tr><td class='upgini-text'>f_autofe_mul_203</td><td class='upgini-number'>0.0078</td><td class='upgini-number'>100.0000</td><td class='upgini-text'>0.4223, 0.5678, -0.5857</td><td class='upgini-text'><a href='https://upgini.com' target='_blank' rel='noopener noreferrer'>Upgini</a></td><td class='upgini-text'>AutoFE: features from <a href='https://upgini.com/#data_sources' target='_blank' rel='noopener noreferrer'>Calendar data</a>,<a href='https://upgini.com/#data_sources' target='_blank' rel='noopener noreferrer'>Markets data</a></td><td class='upgini-text'>Free</td></tr><tr><td class='upgini-text'>f_autofe_div_1974</td><td class='upgini-number'>0.0073</td><td class='upgini-number'>100.0000</td><td class='upgini-text'>0.818, 1.3844, 1.3667</td><td class='upgini-text'><a href='https://upgini.com' target='_blank' rel='noopener noreferrer'>Upgini</a></td><td class='upgini-text'>AutoFE: features from <a href='https://upgini.com/#data_sources' target='_blank' rel='noopener noreferrer'>Markets data</a></td><td class='upgini-text'>Free</td></tr><tr><td class='upgini-text'>f_autofe_div_1910</td><td class='upgini-number'>0.0069</td><td class='upgini-number'>100.0000</td><td class='upgini-text'>2.6102, 2.7732, 2.4907</td><td class='upgini-text'><a href='https://upgini.com' target='_blank' rel='noopener noreferrer'>Upgini</a></td><td class='upgini-text'>AutoFE: features from <a href='https://upgini.com/#data_sources' target='_blank' rel='noopener noreferrer'>Markets data</a></td><td class='upgini-text'>Free</td></tr><tr><td class='upgini-text'><a href='https://docs.upgini.com/public/economics/cbpol_pca#f_economic_date_cbpol_pca_9_bde660b4' target='_blank' rel='noopener noreferrer'>f_economic_date_cbpol_pca_9_bde660b4</a></td><td class='upgini-number'>0.0067</td><td class='upgini-number'>100.0000</td><td class='upgini-text'>-1.5639, -2.5108, -2.4447</td><td class='upgini-text'><a href='https://upgini.com' target='_blank' rel='noopener noreferrer'>Upgini</a></td><td class='upgini-text'><a href='https://upgini.com/#data_sources' target='_blank' rel='noopener noreferrer'>World economic indicators</a></td><td class='upgini-text'>Free</td></tr><tr><td class='upgini-text'>f_autofe_div_1313</td><td class='upgini-number'>0.0062</td><td class='upgini-number'>100.0000</td><td class='upgini-text'>1.0812, -1.0553, 0.004</td><td class='upgini-text'><a href='https://upgini.com' target='_blank' rel='noopener noreferrer'>Upgini</a></td><td class='upgini-text'>AutoFE: features from <a href='https://upgini.com/#data_sources' target='_blank' rel='noopener noreferrer'>Calendar data</a>,<a href='https://upgini.com/#data_sources' target='_blank' rel='noopener noreferrer'>Markets data</a></td><td class='upgini-text'>Free</td></tr><tr><td class='upgini-text'>f_autofe_div_1235</td><td class='upgini-number'>0.0061</td><td class='upgini-number'>100.0000</td><td class='upgini-text'>-0.4045, 0.7664, -0.8314</td><td class='upgini-text'><a href='https://upgini.com' target='_blank' rel='noopener noreferrer'>Upgini</a></td><td class='upgini-text'>AutoFE: features from <a href='https://upgini.com/#data_sources' target='_blank' rel='noopener noreferrer'>Calendar data</a>,<a href='https://upgini.com/#data_sources' target='_blank' rel='noopener noreferrer'>Markets data</a></td><td class='upgini-text'>Free</td></tr><tr><td class='upgini-text'>f_autofe_mul_61</td><td class='upgini-number'>0.0061</td><td class='upgini-number'>100.0000</td><td class='upgini-text'>0.3165, 0.9809, 0.4933</td><td class='upgini-text'><a href='https://upgini.com' target='_blank' rel='noopener noreferrer'>Upgini</a></td><td class='upgini-text'>AutoFE: features from <a href='https://upgini.com/#data_sources' target='_blank' rel='noopener noreferrer'>Calendar data</a>,<a href='https://upgini.com/#data_sources' target='_blank' rel='noopener noreferrer'>Markets data</a></td><td class='upgini-text'>Free</td></tr><tr><td class='upgini-text'>f_autofe_mul_106</td><td class='upgini-number'>0.0052</td><td class='upgini-number'>100.0000</td><td class='upgini-text'>0.4885, 0.5922, -0.6279</td><td class='upgini-text'><a href='https://upgini.com' target='_blank' rel='noopener noreferrer'>Upgini</a></td><td class='upgini-text'>AutoFE: features from <a href='https://upgini.com/#data_sources' target='_blank' rel='noopener noreferrer'>Calendar data</a>,<a href='https://upgini.com/#data_sources' target='_blank' rel='noopener noreferrer'>Markets data</a></td><td class='upgini-text'>Free</td></tr><tr><td class='upgini-text'>f_autofe_div_1992</td><td class='upgini-number'>0.0051</td><td class='upgini-number'>100.0000</td><td class='upgini-text'>30.1825, 33.6368, 14.3183</td><td class='upgini-text'><a href='https://upgini.com' target='_blank' rel='noopener noreferrer'>Upgini</a></td><td class='upgini-text'>AutoFE: features from <a href='https://upgini.com/#data_sources' target='_blank' rel='noopener noreferrer'>Markets data</a></td><td class='upgini-text'>Free</td></tr><tr><td class='upgini-text'>f_autofe_mul_148</td><td class='upgini-number'>0.0049</td><td class='upgini-number'>100.0000</td><td class='upgini-text'>0.9488, -0.311, 0.6907</td><td class='upgini-text'><a href='https://upgini.com' target='_blank' rel='noopener noreferrer'>Upgini</a></td><td class='upgini-text'>AutoFE: features from <a href='https://upgini.com/#data_sources' target='_blank' rel='noopener noreferrer'>Calendar data</a>,<a href='https://upgini.com/#data_sources' target='_blank' rel='noopener noreferrer'>Markets data</a></td><td class='upgini-text'>Free</td></tr><tr><td class='upgini-text'>f_autofe_div_1228</td><td class='upgini-number'>0.0047</td><td class='upgini-number'>100.0000</td><td class='upgini-text'>-0.0097, -0.0046, -0.0171</td><td class='upgini-text'><a href='https://upgini.com' target='_blank' rel='noopener noreferrer'>Upgini</a></td><td class='upgini-text'>AutoFE: features from <a href='https://upgini.com/#data_sources' target='_blank' rel='noopener noreferrer'>Calendar data</a>,<a href='https://upgini.com/#data_sources' target='_blank' rel='noopener noreferrer'>Markets data</a></td><td class='upgini-text'>Free</td></tr><tr><td class='upgini-text'>f_autofe_mul_626</td><td class='upgini-number'>0.0046</td><td class='upgini-number'>100.0000</td><td class='upgini-text'>113.1533, 53.6197, 36.0365</td><td class='upgini-text'><a href='https://upgini.com' target='_blank' rel='noopener noreferrer'>Upgini</a></td><td class='upgini-text'>AutoFE: features from <a href='https://upgini.com/#data_sources' target='_blank' rel='noopener noreferrer'>Markets data</a></td><td class='upgini-text'>Free</td></tr><tr><td class='upgini-text'>f_autofe_div_2088</td><td class='upgini-number'>0.0042</td><td class='upgini-number'>100.0000</td><td class='upgini-text'>338.1747, 312.6612, 282.7625</td><td class='upgini-text'><a href='https://upgini.com' target='_blank' rel='noopener noreferrer'>Upgini</a></td><td class='upgini-text'>AutoFE: features from <a href='https://upgini.com/#data_sources' target='_blank' rel='noopener noreferrer'>Markets data</a></td><td class='upgini-text'>Free</td></tr><tr><td class='upgini-text'><a href='https://docs.upgini.com/public/weather/weather_umap#f_weather_date_weather_umap_48_b39cd0c4' target='_blank' rel='noopener noreferrer'>f_weather_date_weather_umap_48_b39cd0c4</a></td><td class='upgini-number'>0.0042</td><td class='upgini-number'>100.0000</td><td class='upgini-text'>4.86, 5.0663, 4.5208</td><td class='upgini-text'><a href='https://upgini.com' target='_blank' rel='noopener noreferrer'>Upgini</a></td><td class='upgini-text'><a href='https://upgini.com/#data_sources' target='_blank' rel='noopener noreferrer'>Weather & climate normals data</a></td><td class='upgini-text'>Premium</td></tr><tr><td class='upgini-text'>f_autofe_mul_151</td><td class='upgini-number'>0.0041</td><td class='upgini-number'>100.0000</td><td class='upgini-text'>-0.7718, 0.459, -0.3729</td><td class='upgini-text'><a href='https://upgini.com' target='_blank' rel='noopener noreferrer'>Upgini</a></td><td class='upgini-text'>AutoFE: features from <a href='https://upgini.com/#data_sources' target='_blank' rel='noopener noreferrer'>Calendar data</a>,<a href='https://upgini.com/#data_sources' target='_blank' rel='noopener noreferrer'>Markets data</a></td><td class='upgini-text'>Free</td></tr><tr><td class='upgini-text'>f_autofe_mul_794</td><td class='upgini-number'>0.0041</td><td class='upgini-number'>100.0000</td><td class='upgini-text'>1.1641, 1.1579, 0.9618</td><td class='upgini-text'><a href='https://upgini.com' target='_blank' rel='noopener noreferrer'>Upgini</a></td><td class='upgini-text'>AutoFE: features from <a href='https://upgini.com/#data_sources' target='_blank' rel='noopener noreferrer'>Markets data</a></td><td class='upgini-text'>Free</td></tr><tr><td class='upgini-text'>f_autofe_div_1311</td><td class='upgini-number'>0.0040</td><td class='upgini-number'>100.0000</td><td class='upgini-text'>0.0048, 0.0, 0.0138</td><td class='upgini-text'><a href='https://upgini.com' target='_blank' rel='noopener noreferrer'>Upgini</a></td><td class='upgini-text'>AutoFE: features from <a href='https://upgini.com/#data_sources' target='_blank' rel='noopener noreferrer'>Calendar data</a>,<a href='https://upgini.com/#data_sources' target='_blank' rel='noopener noreferrer'>Markets data</a></td><td class='upgini-text'>Free</td></tr><tr><td class='upgini-text'>f_autofe_div_1895</td><td class='upgini-number'>0.0038</td><td class='upgini-number'>100.0000</td><td class='upgini-text'>1.1468, 1.0999, 0.9523</td><td class='upgini-text'><a href='https://upgini.com' target='_blank' rel='noopener noreferrer'>Upgini</a></td><td class='upgini-text'>AutoFE: features from <a href='https://upgini.com/#data_sources' target='_blank' rel='noopener noreferrer'>Markets data</a></td><td class='upgini-text'>Free</td></tr><tr><td class='upgini-text'>f_autofe_div_1097</td><td class='upgini-number'>0.0038</td><td class='upgini-number'>100.0000</td><td class='upgini-text'>-0.8878, 0.5928, -0.2297</td><td class='upgini-text'><a href='https://upgini.com' target='_blank' rel='noopener noreferrer'>Upgini</a></td><td class='upgini-text'>AutoFE: features from <a href='https://upgini.com/#data_sources' target='_blank' rel='noopener noreferrer'>Calendar data</a>,<a href='https://upgini.com/#data_sources' target='_blank' rel='noopener noreferrer'>Markets data</a></td><td class='upgini-text'>Free</td></tr><tr><td class='upgini-text'>f_autofe_mul_104</td><td class='upgini-number'>0.0037</td><td class='upgini-number'>100.0000</td><td class='upgini-text'>-40.3274, 65.2794, 64.4252</td><td class='upgini-text'><a href='https://upgini.com' target='_blank' rel='noopener noreferrer'>Upgini</a></td><td class='upgini-text'>AutoFE: features from <a href='https://upgini.com/#data_sources' target='_blank' rel='noopener noreferrer'>Calendar data</a>,<a href='https://upgini.com/#data_sources' target='_blank' rel='noopener noreferrer'>Markets data</a></td><td class='upgini-text'>Free</td></tr><tr><td class='upgini-text'>f_autofe_div_1876</td><td class='upgini-number'>0.0037</td><td class='upgini-number'>100.0000</td><td class='upgini-text'>1.0133, 0.956, 1.106</td><td class='upgini-text'><a href='https://upgini.com' target='_blank' rel='noopener noreferrer'>Upgini</a></td><td class='upgini-text'>AutoFE: features from <a href='https://upgini.com/#data_sources' target='_blank' rel='noopener noreferrer'>Markets data</a></td><td class='upgini-text'>Free</td></tr><tr><td class='upgini-text'>f_autofe_mul_29</td><td class='upgini-number'>0.0035</td><td class='upgini-number'>100.0000</td><td class='upgini-text'>-1.0918, 0.6154, 0.5231</td><td class='upgini-text'><a href='https://upgini.com' target='_blank' rel='noopener noreferrer'>Upgini</a></td><td class='upgini-text'>AutoFE: features from <a href='https://upgini.com/#data_sources' target='_blank' rel='noopener noreferrer'>Calendar data</a>,<a href='https://upgini.com/#data_sources' target='_blank' rel='noopener noreferrer'>Markets data</a></td><td class='upgini-text'>Free</td></tr><tr><td class='upgini-text'>f_autofe_div_2040</td><td class='upgini-number'>0.0035</td><td class='upgini-number'>100.0000</td><td class='upgini-text'>1.1102, 1.0877, 0.809</td><td class='upgini-text'><a href='https://upgini.com' target='_blank' rel='noopener noreferrer'>Upgini</a></td><td class='upgini-text'>AutoFE: features from <a href='https://upgini.com/#data_sources' target='_blank' rel='noopener noreferrer'>Markets data</a></td><td class='upgini-text'>Free</td></tr><tr><td class='upgini-text'><a href='https://docs.upgini.com/public/calendar/calendar#f_events_date_year_cos1_9014a856' target='_blank' rel='noopener noreferrer'>f_events_date_year_cos1_9014a856</a></td><td class='upgini-number'>0.0030</td><td class='upgini-number'>100.0000</td><td class='upgini-text'>-0.4597, 0.815, -0.6584</td><td class='upgini-text'><a href='https://upgini.com' target='_blank' rel='noopener noreferrer'>Upgini</a></td><td class='upgini-text'><a href='https://upgini.com/#data_sources' target='_blank' rel='noopener noreferrer'>Calendar data</a></td><td class='upgini-text'>Free</td></tr><tr><td class='upgini-text'><a href='https://docs.upgini.com/public/weather/weather_umap#f_weather_date_weather_umap_12_d03be9a0' target='_blank' rel='noopener noreferrer'>f_weather_date_weather_umap_12_d03be9a0</a></td><td class='upgini-number'>0.0028</td><td class='upgini-number'>100.0000</td><td class='upgini-text'>5.9462, 4.2975, 4.7619</td><td class='upgini-text'><a href='https://upgini.com' target='_blank' rel='noopener noreferrer'>Upgini</a></td><td class='upgini-text'><a href='https://upgini.com/#data_sources' target='_blank' rel='noopener noreferrer'>Weather & climate normals data</a></td><td class='upgini-text'>Premium</td></tr><tr><td class='upgini-text'>f_autofe_mul_658</td><td class='upgini-number'>0.0027</td><td class='upgini-number'>100.0000</td><td class='upgini-text'>0.8086, 0.8095, 0.7729</td><td class='upgini-text'><a href='https://upgini.com' target='_blank' rel='noopener noreferrer'>Upgini</a></td><td class='upgini-text'>AutoFE: features from <a href='https://upgini.com/#data_sources' target='_blank' rel='noopener noreferrer'>Markets data</a></td><td class='upgini-text'>Free</td></tr><tr><td class='upgini-text'>f_autofe_div_1312</td><td class='upgini-number'>0.0025</td><td class='upgini-number'>100.0000</td><td class='upgini-text'>1.6268, -1.0189, 0.5707</td><td class='upgini-text'><a href='https://upgini.com' target='_blank' rel='noopener noreferrer'>Upgini</a></td><td class='upgini-text'>AutoFE: features from <a href='https://upgini.com/#data_sources' target='_blank' rel='noopener noreferrer'>Calendar data</a>,<a href='https://upgini.com/#data_sources' target='_blank' rel='noopener noreferrer'>Markets data</a></td><td class='upgini-text'>Free</td></tr><tr><td class='upgini-text'>f_autofe_div_2028</td><td class='upgini-number'>0.0025</td><td class='upgini-number'>100.0000</td><td class='upgini-text'>0.7005, 0.9904, 0.8066</td><td class='upgini-text'><a href='https://upgini.com' target='_blank' rel='noopener noreferrer'>Upgini</a></td><td class='upgini-text'>AutoFE: features from <a href='https://upgini.com/#data_sources' target='_blank' rel='noopener noreferrer'>Markets data</a></td><td class='upgini-text'>Free</td></tr><tr><td class='upgini-text'>f_autofe_div_1234</td><td class='upgini-number'>0.0024</td><td class='upgini-number'>100.0000</td><td class='upgini-text'>0.8902, 0.7239, 0.8936</td><td class='upgini-text'><a href='https://upgini.com' target='_blank' rel='noopener noreferrer'>Upgini</a></td><td class='upgini-text'>AutoFE: features from <a href='https://upgini.com/#data_sources' target='_blank' rel='noopener noreferrer'>Calendar data</a>,<a href='https://upgini.com/#data_sources' target='_blank' rel='noopener noreferrer'>Markets data</a></td><td class='upgini-text'>Free</td></tr><tr><td class='upgini-text'>f_autofe_mul_133</td><td class='upgini-number'>0.0024</td><td class='upgini-number'>100.0000</td><td class='upgini-text'>-0.1844, 0.871, -0.2277</td><td class='upgini-text'><a href='https://upgini.com' target='_blank' rel='noopener noreferrer'>Upgini</a></td><td class='upgini-text'>AutoFE: features from <a href='https://upgini.com/#data_sources' target='_blank' rel='noopener noreferrer'>Calendar data</a>,<a href='https://upgini.com/#data_sources' target='_blank' rel='noopener noreferrer'>Markets data</a></td><td class='upgini-text'>Free</td></tr><tr><td class='upgini-text'>f_autofe_div_1229</td><td class='upgini-number'>0.0023</td><td class='upgini-number'>100.0000</td><td class='upgini-text'>-0.9276, -0.4132, -0.7675</td><td class='upgini-text'><a href='https://upgini.com' target='_blank' rel='noopener noreferrer'>Upgini</a></td><td class='upgini-text'>AutoFE: features from <a href='https://upgini.com/#data_sources' target='_blank' rel='noopener noreferrer'>Calendar data</a>,<a href='https://upgini.com/#data_sources' target='_blank' rel='noopener noreferrer'>Markets data</a></td><td class='upgini-text'>Free</td></tr><tr><td class='upgini-text'>f_autofe_div_1107</td><td class='upgini-number'>0.0022</td><td class='upgini-number'>100.0000</td><td class='upgini-text'>0.3407, -0.5486, 0.5316</td><td class='upgini-text'><a href='https://upgini.com' target='_blank' rel='noopener noreferrer'>Upgini</a></td><td class='upgini-text'>AutoFE: features from <a href='https://upgini.com/#data_sources' target='_blank' rel='noopener noreferrer'>Calendar data</a>,<a href='https://upgini.com/#data_sources' target='_blank' rel='noopener noreferrer'>Markets data</a></td><td class='upgini-text'>Free</td></tr><tr><td class='upgini-text'>f_autofe_mul_158</td><td class='upgini-number'>0.0022</td><td class='upgini-number'>100.0000</td><td class='upgini-text'>1.8667, 0.643, -1.0197</td><td class='upgini-text'><a href='https://upgini.com' target='_blank' rel='noopener noreferrer'>Upgini</a></td><td class='upgini-text'>AutoFE: features from <a href='https://upgini.com/#data_sources' target='_blank' rel='noopener noreferrer'>Calendar data</a>,<a href='https://upgini.com/#data_sources' target='_blank' rel='noopener noreferrer'>Markets data</a></td><td class='upgini-text'>Free</td></tr><tr><td class='upgini-text'><a href='https://docs.upgini.com/public/weather/weather_umap#f_weather_date_weather_umap_13_842ae1fc' target='_blank' rel='noopener noreferrer'>f_weather_date_weather_umap_13_842ae1fc</a></td><td class='upgini-number'>0.0021</td><td class='upgini-number'>100.0000</td><td class='upgini-text'>5.019, 5.1093, 4.4839</td><td class='upgini-text'><a href='https://upgini.com' target='_blank' rel='noopener noreferrer'>Upgini</a></td><td class='upgini-text'><a href='https://upgini.com/#data_sources' target='_blank' rel='noopener noreferrer'>Weather & climate normals data</a></td><td class='upgini-text'>Premium</td></tr><tr><td class='upgini-text'>f_autofe_mul_27</td><td class='upgini-number'>0.0021</td><td class='upgini-number'>100.0000</td><td class='upgini-text'>-14.1416, 11.7185, 10.6367</td><td class='upgini-text'><a href='https://upgini.com' target='_blank' rel='noopener noreferrer'>Upgini</a></td><td class='upgini-text'>AutoFE: features from <a href='https://upgini.com/#data_sources' target='_blank' rel='noopener noreferrer'>Calendar data</a>,<a href='https://upgini.com/#data_sources' target='_blank' rel='noopener noreferrer'>Markets data</a></td><td class='upgini-text'>Free</td></tr><tr><td class='upgini-text'>f_autofe_div_1096</td><td class='upgini-number'>0.0019</td><td class='upgini-number'>100.0000</td><td class='upgini-text'>0.0278, 0.011, 0.0105</td><td class='upgini-text'><a href='https://upgini.com' target='_blank' rel='noopener noreferrer'>Upgini</a></td><td class='upgini-text'>AutoFE: features from <a href='https://upgini.com/#data_sources' target='_blank' rel='noopener noreferrer'>Calendar data</a>,<a href='https://upgini.com/#data_sources' target='_blank' rel='noopener noreferrer'>Markets data</a></td><td class='upgini-text'>Free</td></tr><tr><td class='upgini-text'>f_autofe_div_1199</td><td class='upgini-number'>0.0018</td><td class='upgini-number'>100.0000</td><td class='upgini-text'>0.5998, -0.1898, -0.3497</td><td class='upgini-text'><a href='https://upgini.com' target='_blank' rel='noopener noreferrer'>Upgini</a></td><td class='upgini-text'>AutoFE: features from <a href='https://upgini.com/#data_sources' target='_blank' rel='noopener noreferrer'>Calendar data</a>,<a href='https://upgini.com/#data_sources' target='_blank' rel='noopener noreferrer'>Markets data</a></td><td class='upgini-text'>Free</td></tr><tr><td class='upgini-text'>f_autofe_mul_147</td><td class='upgini-number'>0.0017</td><td class='upgini-number'>100.0000</td><td class='upgini-text'>-37.1448, 56.1753, 42.5163</td><td class='upgini-text'><a href='https://upgini.com' target='_blank' rel='noopener noreferrer'>Upgini</a></td><td class='upgini-text'>AutoFE: features from <a href='https://upgini.com/#data_sources' target='_blank' rel='noopener noreferrer'>Calendar data</a>,<a href='https://upgini.com/#data_sources' target='_blank' rel='noopener noreferrer'>Markets data</a></td><td class='upgini-text'>Free</td></tr><tr><td class='upgini-text'>f_autofe_div_1155</td><td class='upgini-number'>0.0017</td><td class='upgini-number'>100.0000</td><td class='upgini-text'>-0.9812, -1.0399, 1.6614</td><td class='upgini-text'><a href='https://upgini.com' target='_blank' rel='noopener noreferrer'>Upgini</a></td><td class='upgini-text'>AutoFE: features from <a href='https://upgini.com/#data_sources' target='_blank' rel='noopener noreferrer'>Calendar data</a>,<a href='https://upgini.com/#data_sources' target='_blank' rel='noopener noreferrer'>Markets data</a></td><td class='upgini-text'>Free</td></tr><tr><td class='upgini-text'>f_autofe_div_1186</td><td class='upgini-number'>0.0017</td><td class='upgini-number'>100.0000</td><td class='upgini-text'>-0.2212, -0.8984, -0.1849</td><td class='upgini-text'><a href='https://upgini.com' target='_blank' rel='noopener noreferrer'>Upgini</a></td><td class='upgini-text'>AutoFE: features from <a href='https://upgini.com/#data_sources' target='_blank' rel='noopener noreferrer'>Calendar data</a>,<a href='https://upgini.com/#data_sources' target='_blank' rel='noopener noreferrer'>Markets data</a></td><td class='upgini-text'>Free</td></tr><tr><td class='upgini-text'>f_autofe_div_1872</td><td class='upgini-number'>0.0016</td><td class='upgini-number'>100.0000</td><td class='upgini-text'>0.9775, 1.0363, 1.0201</td><td class='upgini-text'><a href='https://upgini.com' target='_blank' rel='noopener noreferrer'>Upgini</a></td><td class='upgini-text'>AutoFE: features from <a href='https://upgini.com/#data_sources' target='_blank' rel='noopener noreferrer'>Markets data</a></td><td class='upgini-text'>Free</td></tr><tr><td class='upgini-text'>f_autofe_mul_72</td><td class='upgini-number'>0.0015</td><td class='upgini-number'>100.0000</td><td class='upgini-text'>-5.3349, -3.7205, 21.804</td><td class='upgini-text'><a href='https://upgini.com' target='_blank' rel='noopener noreferrer'>Upgini</a></td><td class='upgini-text'>AutoFE: features from <a href='https://upgini.com/#data_sources' target='_blank' rel='noopener noreferrer'>Calendar data</a>,<a href='https://upgini.com/#data_sources' target='_blank' rel='noopener noreferrer'>Markets data</a></td><td class='upgini-text'>Free</td></tr><tr><td class='upgini-text'>f_autofe_div_1271</td><td class='upgini-number'>0.0014</td><td class='upgini-number'>100.0000</td><td class='upgini-text'>-0.4314, -0.6809, 1.112</td><td class='upgini-text'><a href='https://upgini.com' target='_blank' rel='noopener noreferrer'>Upgini</a></td><td class='upgini-text'>AutoFE: features from <a href='https://upgini.com/#data_sources' target='_blank' rel='noopener noreferrer'>Calendar data</a>,<a href='https://upgini.com/#data_sources' target='_blank' rel='noopener noreferrer'>Markets data</a></td><td class='upgini-text'>Free</td></tr><tr><td class='upgini-text'><a href='https://docs.upgini.com/public/weather/weather_umap#f_weather_date_weather_umap_16_25ac8b87' target='_blank' rel='noopener noreferrer'>f_weather_date_weather_umap_16_25ac8b87</a></td><td class='upgini-number'>0.0013</td><td class='upgini-number'>100.0000</td><td class='upgini-text'>6.079, 6.2938, 6.1694</td><td class='upgini-text'><a href='https://upgini.com' target='_blank' rel='noopener noreferrer'>Upgini</a></td><td class='upgini-text'><a href='https://upgini.com/#data_sources' target='_blank' rel='noopener noreferrer'>Weather & climate normals data</a></td><td class='upgini-text'>Premium</td></tr><tr><td class='upgini-text'>f_autofe_div_1611</td><td class='upgini-number'>0.0011</td><td class='upgini-number'>100.0000</td><td class='upgini-text'>-0.1209, -0.4089, -0.0344</td><td class='upgini-text'><a href='https://upgini.com' target='_blank' rel='noopener noreferrer'>Upgini</a></td><td class='upgini-text'>AutoFE: features from <a href='https://upgini.com/#data_sources' target='_blank' rel='noopener noreferrer'>Calendar data</a>,<a href='https://upgini.com/#data_sources' target='_blank' rel='noopener noreferrer'>Markets data</a></td><td class='upgini-text'>Free</td></tr><tr><td class='upgini-text'>f_autofe_mul_149</td><td class='upgini-number'>0.0010</td><td class='upgini-number'>100.0000</td><td class='upgini-text'>-0.5238, 1.0683, -0.4176</td><td class='upgini-text'><a href='https://upgini.com' target='_blank' rel='noopener noreferrer'>Upgini</a></td><td class='upgini-text'>AutoFE: features from <a href='https://upgini.com/#data_sources' target='_blank' rel='noopener noreferrer'>Calendar data</a>,<a href='https://upgini.com/#data_sources' target='_blank' rel='noopener noreferrer'>Markets data</a></td><td class='upgini-text'>Free</td></tr><tr><td class='upgini-text'><a href='https://docs.upgini.com/public/economics/cbpol_umap#f_economic_date_cbpol_umap_4_c5ce4e90' target='_blank' rel='noopener noreferrer'>f_economic_date_cbpol_umap_4_c5ce4e90</a></td><td class='upgini-number'>0.0010</td><td class='upgini-number'>100.0000</td><td class='upgini-text'>5.598, 2.2263, 6.777</td><td class='upgini-text'><a href='https://upgini.com' target='_blank' rel='noopener noreferrer'>Upgini</a></td><td class='upgini-text'><a href='https://upgini.com/#data_sources' target='_blank' rel='noopener noreferrer'>World economic indicators</a></td><td class='upgini-text'>Free</td></tr><tr><td class='upgini-text'>f_autofe_mul_815</td><td class='upgini-number'>0.0009</td><td class='upgini-number'>100.0000</td><td class='upgini-text'>386.055, 463.8986, 428.8965</td><td class='upgini-text'><a href='https://upgini.com' target='_blank' rel='noopener noreferrer'>Upgini</a></td><td class='upgini-text'>AutoFE: features from <a href='https://upgini.com/#data_sources' target='_blank' rel='noopener noreferrer'>Markets data</a></td><td class='upgini-text'>Free</td></tr><tr><td class='upgini-text'>f_autofe_div_2071</td><td class='upgini-number'>0.0008</td><td class='upgini-number'>100.0000</td><td class='upgini-text'>0.0025, 0.0032, 0.0031</td><td class='upgini-text'><a href='https://upgini.com' target='_blank' rel='noopener noreferrer'>Upgini</a></td><td class='upgini-text'>AutoFE: features from <a href='https://upgini.com/#data_sources' target='_blank' rel='noopener noreferrer'>Markets data</a></td><td class='upgini-text'>Free</td></tr><tr><td class='upgini-text'>f_autofe_div_1998</td><td class='upgini-number'>0.0007</td><td class='upgini-number'>100.0000</td><td class='upgini-text'>19.0283, 15.3131, 14.6475</td><td class='upgini-text'><a href='https://upgini.com' target='_blank' rel='noopener noreferrer'>Upgini</a></td><td class='upgini-text'>AutoFE: features from <a href='https://upgini.com/#data_sources' target='_blank' rel='noopener noreferrer'>Markets data</a></td><td class='upgini-text'>Free</td></tr><tr><td class='upgini-text'>f_autofe_mul_710</td><td class='upgini-number'>0.0006</td><td class='upgini-number'>100.0000</td><td class='upgini-text'>0.9501, 1.6463, 0.9874</td><td class='upgini-text'><a href='https://upgini.com' target='_blank' rel='noopener noreferrer'>Upgini</a></td><td class='upgini-text'>AutoFE: features from <a href='https://upgini.com/#data_sources' target='_blank' rel='noopener noreferrer'>Markets data</a></td><td class='upgini-text'>Free</td></tr><tr><td class='upgini-text'>f_autofe_mul_218</td><td class='upgini-number'>0.0006</td><td class='upgini-number'>100.0000</td><td class='upgini-text'>-0.6817, -0.4805, 0.8782</td><td class='upgini-text'><a href='https://upgini.com' target='_blank' rel='noopener noreferrer'>Upgini</a></td><td class='upgini-text'>AutoFE: features from <a href='https://upgini.com/#data_sources' target='_blank' rel='noopener noreferrer'>Calendar data</a>,<a href='https://upgini.com/#data_sources' target='_blank' rel='noopener noreferrer'>Markets data</a></td><td class='upgini-text'>Free</td></tr><tr><td class='upgini-text'>f_autofe_mul_200</td><td class='upgini-number'>0.0005</td><td class='upgini-number'>100.0000</td><td class='upgini-text'>1.3573, -0.2545, -1.1785</td><td class='upgini-text'><a href='https://upgini.com' target='_blank' rel='noopener noreferrer'>Upgini</a></td><td class='upgini-text'>AutoFE: features from <a href='https://upgini.com/#data_sources' target='_blank' rel='noopener noreferrer'>Calendar data</a>,<a href='https://upgini.com/#data_sources' target='_blank' rel='noopener noreferrer'>Markets data</a></td><td class='upgini-text'>Free</td></tr><tr><td class='upgini-text'>f_autofe_mul_453</td><td class='upgini-number'>0.0005</td><td class='upgini-number'>100.0000</td><td class='upgini-text'>-0.6461, -0.1367, -0.7262</td><td class='upgini-text'><a href='https://upgini.com' target='_blank' rel='noopener noreferrer'>Upgini</a></td><td class='upgini-text'>AutoFE: features from <a href='https://upgini.com/#data_sources' target='_blank' rel='noopener noreferrer'>Calendar data</a></td><td class='upgini-text'>Free</td></tr><tr><td class='upgini-text'>f_autofe_mul_89</td><td class='upgini-number'>0.0005</td><td class='upgini-number'>100.0000</td><td class='upgini-text'>-0.2443, -0.6784, 0.4926</td><td class='upgini-text'><a href='https://upgini.com' target='_blank' rel='noopener noreferrer'>Upgini</a></td><td class='upgini-text'>AutoFE: features from <a href='https://upgini.com/#data_sources' target='_blank' rel='noopener noreferrer'>Calendar data</a>,<a href='https://upgini.com/#data_sources' target='_blank' rel='noopener noreferrer'>Markets data</a></td><td class='upgini-text'>Free</td></tr><tr><td class='upgini-text'><a href='https://docs.upgini.com/public/economics/cpi_umap#f_economic_date_cpi_umap_9_b7d42666' target='_blank' rel='noopener noreferrer'>f_economic_date_cpi_umap_9_b7d42666</a></td><td class='upgini-number'>0.0004</td><td class='upgini-number'>100.0000</td><td class='upgini-text'>14.3744, 14.6548, 2.2886</td><td class='upgini-text'><a href='https://upgini.com' target='_blank' rel='noopener noreferrer'>Upgini</a></td><td class='upgini-text'><a href='https://upgini.com/#data_sources' target='_blank' rel='noopener noreferrer'>World economic indicators</a></td><td class='upgini-text'>Free</td></tr><tr><td class='upgini-text'>f_autofe_mul_342</td><td class='upgini-number'>0.0004</td><td class='upgini-number'>100.0000</td><td class='upgini-text'>0.6271, 0.2677, -0.0784</td><td class='upgini-text'><a href='https://upgini.com' target='_blank' rel='noopener noreferrer'>Upgini</a></td><td class='upgini-text'>AutoFE: features from <a href='https://upgini.com/#data_sources' target='_blank' rel='noopener noreferrer'>Calendar data</a></td><td class='upgini-text'>Free</td></tr><tr><td class='upgini-text'><a href='https://docs.upgini.com/public/economics/cbpol_pca#f_economic_date_cbpol_pca_1_31e5f62c' target='_blank' rel='noopener noreferrer'>f_economic_date_cbpol_pca_1_31e5f62c</a></td><td class='upgini-number'>0.0004</td><td class='upgini-number'>100.0000</td><td class='upgini-text'>-3.8209, -3.6288, -3.3341</td><td class='upgini-text'><a href='https://upgini.com' target='_blank' rel='noopener noreferrer'>Upgini</a></td><td class='upgini-text'><a href='https://upgini.com/#data_sources' target='_blank' rel='noopener noreferrer'>World economic indicators</a></td><td class='upgini-text'>Free</td></tr><tr><td class='upgini-text'>f_autofe_div_1083</td><td class='upgini-number'>0.0004</td><td class='upgini-number'>85.4664</td><td class='upgini-text'>2.0765, -2.0765, -2.0765</td><td class='upgini-text'><a href='https://upgini.com' target='_blank' rel='noopener noreferrer'>Upgini</a></td><td class='upgini-text'>AutoFE: features from <a href='https://upgini.com/#data_sources' target='_blank' rel='noopener noreferrer'>Calendar data</a></td><td class='upgini-text'>Free</td></tr><tr><td class='upgini-text'>f_autofe_mul_144</td><td class='upgini-number'>0.0003</td><td class='upgini-number'>100.0000</td><td class='upgini-text'>0.376, -0.8285, -0.9361</td><td class='upgini-text'><a href='https://upgini.com' target='_blank' rel='noopener noreferrer'>Upgini</a></td><td class='upgini-text'>AutoFE: features from <a href='https://upgini.com/#data_sources' target='_blank' rel='noopener noreferrer'>Calendar data</a></td><td class='upgini-text'>Free</td></tr><tr><td class='upgini-text'>f_autofe_div_1732</td><td class='upgini-number'>0.0003</td><td class='upgini-number'>100.0000</td><td class='upgini-text'>0.676, 0.7967, 0.842</td><td class='upgini-text'><a href='https://upgini.com' target='_blank' rel='noopener noreferrer'>Upgini</a></td><td class='upgini-text'>AutoFE: features from <a href='https://upgini.com/#data_sources' target='_blank' rel='noopener noreferrer'>Markets data</a></td><td class='upgini-text'>Free</td></tr><tr><td class='upgini-text'>f_autofe_mul_265</td><td class='upgini-number'>0.0003</td><td class='upgini-number'>100.0000</td><td class='upgini-text'>0.2722, 0.3776, -0.2536</td><td class='upgini-text'><a href='https://upgini.com' target='_blank' rel='noopener noreferrer'>Upgini</a></td><td class='upgini-text'>AutoFE: features from <a href='https://upgini.com/#data_sources' target='_blank' rel='noopener noreferrer'>Calendar data</a></td><td class='upgini-text'>Free</td></tr></tbody></table>\n",
              "        </div>\n",
              "        "
            ]
          },
          "metadata": {}
        },
        {
          "output_type": "display_data",
          "data": {
            "text/plain": [
              "<IPython.core.display.HTML object>"
            ],
            "text/html": [
              "<style>\n",
              "            .upgini-df thead th {\n",
              "                font-weight:bold;\n",
              "                text-align: center;\n",
              "                padding: 0.5em;\n",
              "                border-bottom: 2px solid black;\n",
              "            }\n",
              "\n",
              "            .upgini-df tbody td {\n",
              "                padding: 0.5em;\n",
              "            }\n",
              "\n",
              "            .upgini-df tbody tr:nth-child(odd) {\n",
              "                background-color: #ffffff;\n",
              "            }\n",
              "\n",
              "            .upgini-df tbody tr:nth-child(even) {\n",
              "                background-color: #f2f2f2;\n",
              "            }\n",
              "\n",
              "            .upgini-text {\n",
              "                text-align: left;\n",
              "            }\n",
              "\n",
              "            .upgini-number {\n",
              "                text-align: center;\n",
              "            }\n",
              "        </style>\n",
              "        <h2>Relevant data sources</h2>\n",
              "        <div style=\"display:flex; flex-direction:column; align-items:flex-end; width: fit-content;\">\n",
              "            <div style=\"text-align: right\">\n",
              "                <button onclick=navigator.clipboard.writeText(decodeURI('Provider%09Source%09All%20features%20SHAP%09Number%20of%20relevant%20features%0AUpgini%09AutoFE%3A%20features%20from%20%3Ca%20href%3D%27https%3A%2F%2Fupgini.com%2F%23data_sources%27%20target%3D%27_blank%27%20rel%3D%27noopener%20noreferrer%27%3ECalendar%20data%3C%2Fa%3E,%3Ca%20href%3D%27https%3A%2F%2Fupgini.com%2F%23data_sources%27%20target%3D%27_blank%27%20rel%3D%27noopener%20noreferrer%27%3EMarkets%20data%3C%2Fa%3E%090.0916%0931%0AUpgini%09AutoFE%3A%20features%20from%20%3Ca%20href%3D%27https%3A%2F%2Fupgini.com%2F%23data_sources%27%20target%3D%27_blank%27%20rel%3D%27noopener%20noreferrer%27%3EMarkets%20data%3C%2Fa%3E%090.0533%0917%0AUpgini%09Weather%20%26%20climate%20normals%20data%090.021699999999999997%095%0AUpgini%09World%20economic%20indicators%090.0085%094%0AUpgini%09Calendar%20data%090.003%091%0AUpgini%09AutoFE%3A%20features%20from%20%3Ca%20href%3D%27https%3A%2F%2Fupgini.com%2F%23data_sources%27%20target%3D%27_blank%27%20rel%3D%27noopener%20noreferrer%27%3ECalendar%20data%3C%2Fa%3E%090.0019%095%0A'))>📂 Copy</button>\n",
              "                <a href='mailto:<Share with...>?subject=Relevant external data sources from Upgini.com&body=Provider%09Source%09All%20features%20SHAP%09Number%20of%20relevant%20features%0AUpgini%09AutoFE%3A%20features%20from%20%3Ca%20href%3D%27https%3A%2F%2Fupgini.com%2F%23data_sources%27%20target%3D%27_blank%27%20rel%3D%27noopener%20noreferrer%27%3ECalendar%20data%3C%2Fa%3E,%3Ca%20href%3D%27https%3A%2F%2Fupgini.com%2F%23data_sources%27%20target%3D%27_blank%27%20rel%3D%27noopener%20noreferrer%27%3EMarkets%20data%3C%2Fa%3E%090.0916%0931%0AUpgini%09AutoFE%3A%20features%20from%20%3Ca%20href%3D%27https%3A%2F%2Fupgini.com%2F%23data_sources%27%20target%3D%27_blank%27%20rel%3D%27noopener%20noreferrer%27%3EMarkets%20data%3C%2Fa%3E%090.0533%0917%0AUpgini%09Weather%20%26%20climate%20normals%20data%090.021699999999999997%095%0AUpgini%09World%20economic%20indicators%090.0085%094%0AUpgini%09Calendar%20data%090.003%091%0AUpgini%09AutoFE%3A%20features%20from%20%3Ca%20href%3D%27https%3A%2F%2Fupgini.com%2F%23data_sources%27%20target%3D%27_blank%27%20rel%3D%27noopener%20noreferrer%27%3ECalendar%20data%3C%2Fa%3E%090.0019%095%0A'>\n",
              "                    <button>📨 Share</button>\n",
              "                </a>\n",
              "            </div>\n",
              "            <table class='upgini-df'><thead><th>Provider</th><th>Source</th><th>All features SHAP</th><th>Number of relevant features</th></thead><tbody><tr><td class='upgini-text'><a href='https://upgini.com' target='_blank' rel='noopener noreferrer'>Upgini</a></td><td class='upgini-text'>AutoFE: features from <a href='https://upgini.com/#data_sources' target='_blank' rel='noopener noreferrer'>Calendar data</a>,<a href='https://upgini.com/#data_sources' target='_blank' rel='noopener noreferrer'>Markets data</a></td><td class='upgini-number'>0.0916</td><td class='upgini-number'>31</td></tr><tr><td class='upgini-text'><a href='https://upgini.com' target='_blank' rel='noopener noreferrer'>Upgini</a></td><td class='upgini-text'>AutoFE: features from <a href='https://upgini.com/#data_sources' target='_blank' rel='noopener noreferrer'>Markets data</a></td><td class='upgini-number'>0.0533</td><td class='upgini-number'>17</td></tr><tr><td class='upgini-text'><a href='https://upgini.com' target='_blank' rel='noopener noreferrer'>Upgini</a></td><td class='upgini-text'><a href='https://upgini.com/#data_sources' target='_blank' rel='noopener noreferrer'>Weather & climate normals data</a></td><td class='upgini-number'>0.0217</td><td class='upgini-number'>5</td></tr><tr><td class='upgini-text'><a href='https://upgini.com' target='_blank' rel='noopener noreferrer'>Upgini</a></td><td class='upgini-text'><a href='https://upgini.com/#data_sources' target='_blank' rel='noopener noreferrer'>World economic indicators</a></td><td class='upgini-number'>0.0085</td><td class='upgini-number'>4</td></tr><tr><td class='upgini-text'><a href='https://upgini.com' target='_blank' rel='noopener noreferrer'>Upgini</a></td><td class='upgini-text'><a href='https://upgini.com/#data_sources' target='_blank' rel='noopener noreferrer'>Calendar data</a></td><td class='upgini-number'>0.0030</td><td class='upgini-number'>1</td></tr><tr><td class='upgini-text'><a href='https://upgini.com' target='_blank' rel='noopener noreferrer'>Upgini</a></td><td class='upgini-text'>AutoFE: features from <a href='https://upgini.com/#data_sources' target='_blank' rel='noopener noreferrer'>Calendar data</a></td><td class='upgini-number'>0.0019</td><td class='upgini-number'>5</td></tr></tbody></table>\n",
              "        </div>\n",
              "        "
            ]
          },
          "metadata": {}
        },
        {
          "output_type": "display_data",
          "data": {
            "text/plain": [
              "<IPython.core.display.HTML object>"
            ],
            "text/html": [
              "<style>\n",
              "            .upgini-df thead th {\n",
              "                font-weight:bold;\n",
              "                text-align: center;\n",
              "                padding: 0.5em;\n",
              "                border-bottom: 2px solid black;\n",
              "            }\n",
              "\n",
              "            .upgini-df tbody td {\n",
              "                padding: 0.5em;\n",
              "            }\n",
              "\n",
              "            .upgini-df tbody tr:nth-child(odd) {\n",
              "                background-color: #ffffff;\n",
              "            }\n",
              "\n",
              "            .upgini-df tbody tr:nth-child(even) {\n",
              "                background-color: #f2f2f2;\n",
              "            }\n",
              "\n",
              "            .upgini-text {\n",
              "                text-align: left;\n",
              "            }\n",
              "\n",
              "            .upgini-number {\n",
              "                text-align: center;\n",
              "            }\n",
              "        </style>\n",
              "        <h2>*Description of AutoFE feature names</h2>\n",
              "        <div style=\"display:flex; flex-direction:column; align-items:flex-end; width: fit-content;\">\n",
              "            <div style=\"text-align: right\">\n",
              "                <button onclick=navigator.clipboard.writeText(decodeURI('Sources%09Feature%20name%09Feature%201%09Feature%202%09Function%0A%3Ca%20href%3D%27https%3A%2F%2Fupgini.com%2F%23data_sources%27%20target%3D%27_blank%27%20rel%3D%27noopener%20noreferrer%27%3ECalendar%20data%3C%2Fa%3E,%3Ca%20href%3D%27https%3A%2F%2Fupgini.com%2F%23data_sources%27%20target%3D%27_blank%27%20rel%3D%27noopener%20noreferrer%27%3EMarkets%20data%3C%2Fa%3E%09f_autofe_mul_27%09f_events_date_week_cos1_f6a8c1fc%09f_financial_date_silver_e4e33014%09mul%0A%3Ca%20href%3D%27https%3A%2F%2Fupgini.com%2F%23data_sources%27%20target%3D%27_blank%27%20rel%3D%27noopener%20noreferrer%27%3ECalendar%20data%3C%2Fa%3E,%3Ca%20href%3D%27https%3A%2F%2Fupgini.com%2F%23data_sources%27%20target%3D%27_blank%27%20rel%3D%27noopener%20noreferrer%27%3EMarkets%20data%3C%2Fa%3E%09f_autofe_div_1229%09f_events_date_week_cos1_f6a8c1fc%09f_financial_date_silver_7d_to_7d_1y_shift_55fa8001%09%0A%3Ca%20href%3D%27https%3A%2F%2Fupgini.com%2F%23data_sources%27%20target%3D%27_blank%27%20rel%3D%27noopener%20noreferrer%27%3ECalendar%20data%3C%2Fa%3E%09f_autofe_div_1083%09f_events_date_week_cos1_f6a8c1fc%09f_events_date_week_sin1_847b5db1%09div%0A%3Ca%20href%3D%27https%3A%2F%2Fupgini.com%2F%23data_sources%27%20target%3D%27_blank%27%20rel%3D%27noopener%20noreferrer%27%3ECalendar%20data%3C%2Fa%3E,%3Ca%20href%3D%27https%3A%2F%2Fupgini.com%2F%23data_sources%27%20target%3D%27_blank%27%20rel%3D%27noopener%20noreferrer%27%3EMarkets%20data%3C%2Fa%3E%09f_autofe_div_1096%09f_events_date_week_cos1_f6a8c1fc%09f_financial_date_crude_oil_1f195998%09div%0A%3Ca%20href%3D%27https%3A%2F%2Fupgini.com%2F%23data_sources%27%20target%3D%27_blank%27%20rel%3D%27noopener%20noreferrer%27%3ECalendar%20data%3C%2Fa%3E,%3Ca%20href%3D%27https%3A%2F%2Fupgini.com%2F%23data_sources%27%20target%3D%27_blank%27%20rel%3D%27noopener%20noreferrer%27%3EMarkets%20data%3C%2Fa%3E%09f_autofe_div_1097%09f_events_date_week_cos1_f6a8c1fc%09f_financial_date_crude_oil_7d_to_1y_c3e0ad17%09div%0A%3Ca%20href%3D%27https%3A%2F%2Fupgini.com%2F%23data_sources%27%20target%3D%27_blank%27%20rel%3D%27noopener%20noreferrer%27%3ECalendar%20data%3C%2Fa%3E,%3Ca%20href%3D%27https%3A%2F%2Fupgini.com%2F%23data_sources%27%20target%3D%27_blank%27%20rel%3D%27noopener%20noreferrer%27%3EMarkets%20data%3C%2Fa%3E%09f_autofe_div_1107%09f_events_date_week_cos1_f6a8c1fc%09f_financial_date_natural_gas_7d_to_7d_1y_shift_a5c3c07f%09div%0A%3Ca%20href%3D%27https%3A%2F%2Fupgini.com%2F%23data_sources%27%20target%3D%27_blank%27%20rel%3D%27noopener%20noreferrer%27%3ECalendar%20data%3C%2Fa%3E,%3Ca%20href%3D%27https%3A%2F%2Fupgini.com%2F%23data_sources%27%20target%3D%27_blank%27%20rel%3D%27noopener%20noreferrer%27%3EMarkets%20data%3C%2Fa%3E%09f_autofe_mul_61%09f_events_date_week_cos2_b0a07cfc%09f_financial_date_crude_oil_7d_to_1y_c3e0ad17%09mul%0A%3Ca%20href%3D%27https%3A%2F%2Fupgini.com%2F%23data_sources%27%20target%3D%27_blank%27%20rel%3D%27noopener%20noreferrer%27%3EMarkets%20data%3C%2Fa%3E%09f_autofe_div_1872%09f_events_date_week_cos2_b0a07cfc%09f_financial_date_silver_e4e33014%09%0A%3Ca%20href%3D%27https%3A%2F%2Fupgini.com%2F%23data_sources%27%20target%3D%27_blank%27%20rel%3D%27noopener%20noreferrer%27%3ECalendar%20data%3C%2Fa%3E,%3Ca%20href%3D%27https%3A%2F%2Fupgini.com%2F%23data_sources%27%20target%3D%27_blank%27%20rel%3D%27noopener%20noreferrer%27%3EMarkets%20data%3C%2Fa%3E%09f_autofe_mul_89%09f_events_date_week_cos2_b0a07cfc%09f_financial_date_vix_7d_to_1y_634c77eb%09mul%0A%3Ca%20href%3D%27https%3A%2F%2Fupgini.com%2F%23data_sources%27%20target%3D%27_blank%27%20rel%3D%27noopener%20noreferrer%27%3ECalendar%20data%3C%2Fa%3E,%3Ca%20href%3D%27https%3A%2F%2Fupgini.com%2F%23data_sources%27%20target%3D%27_blank%27%20rel%3D%27noopener%20noreferrer%27%3EMarkets%20data%3C%2Fa%3E%09f_autofe_div_1155%09f_events_date_week_cos2_b0a07cfc%09f_financial_date_silver_7d_to_7d_1y_shift_55fa8001%09div%0A%3Ca%20href%3D%27https%3A%2F%2Fupgini.com%2F%23data_sources%27%20target%3D%27_blank%27%20rel%3D%27noopener%20noreferrer%27%3ECalendar%20data%3C%2Fa%3E,%3Ca%20href%3D%27https%3A%2F%2Fupgini.com%2F%23data_sources%27%20target%3D%27_blank%27%20rel%3D%27noopener%20noreferrer%27%3EMarkets%20data%3C%2Fa%3E%09f_autofe_mul_104%09f_events_date_week_cos3_7525fe31%09f_financial_date_crude_oil_1f195998%09mul%0A%3Ca%20href%3D%27https%3A%2F%2Fupgini.com%2F%23data_sources%27%20target%3D%27_blank%27%20rel%3D%27noopener%20noreferrer%27%3ECalendar%20data%3C%2Fa%3E,%3Ca%20href%3D%27https%3A%2F%2Fupgini.com%2F%23data_sources%27%20target%3D%27_blank%27%20rel%3D%27noopener%20noreferrer%27%3EMarkets%20data%3C%2Fa%3E%09f_autofe_mul_106%09f_events_date_week_cos3_7525fe31%09f_financial_date_crude_oil_7d_to_7d_1y_shift_718136ef%09mul%0A%3Ca%20href%3D%27https%3A%2F%2Fupgini.com%2F%23data_sources%27%20target%3D%27_blank%27%20rel%3D%27noopener%20noreferrer%27%3ECalendar%20data%3C%2Fa%3E,%3Ca%20href%3D%27https%3A%2F%2Fupgini.com%2F%23data_sources%27%20target%3D%27_blank%27%20rel%3D%27noopener%20noreferrer%27%3EMarkets%20data%3C%2Fa%3E%09f_autofe_mul_133%09f_events_date_week_cos3_7525fe31%09f_financial_date_vix_7d_to_1y_634c77eb%09mul%0A%3Ca%20href%3D%27https%3A%2F%2Fupgini.com%2F%23data_sources%27%20target%3D%27_blank%27%20rel%3D%27noopener%20noreferrer%27%3ECalendar%20data%3C%2Fa%3E,%3Ca%20href%3D%27https%3A%2F%2Fupgini.com%2F%23data_sources%27%20target%3D%27_blank%27%20rel%3D%27noopener%20noreferrer%27%3EMarkets%20data%3C%2Fa%3E%09f_autofe_div_1186%09f_events_date_week_cos3_7525fe31%09f_financial_date_crude_oil_7d_to_1y_c3e0ad17%09div%0A%3Ca%20href%3D%27https%3A%2F%2Fupgini.com%2F%23data_sources%27%20target%3D%27_blank%27%20rel%3D%27noopener%20noreferrer%27%3ECalendar%20data%3C%2Fa%3E,%3Ca%20href%3D%27https%3A%2F%2Fupgini.com%2F%23data_sources%27%20target%3D%27_blank%27%20rel%3D%27noopener%20noreferrer%27%3EMarkets%20data%3C%2Fa%3E%09f_autofe_div_1199%09f_events_date_week_cos3_7525fe31%09f_financial_date_silver_7d_to_7d_1y_shift_55fa8001%09div%0A%3Ca%20href%3D%27https%3A%2F%2Fupgini.com%2F%23data_sources%27%20target%3D%27_blank%27%20rel%3D%27noopener%20noreferrer%27%3ECalendar%20data%3C%2Fa%3E%09f_autofe_mul_144%09f_events_date_week_sin1_847b5db1%09f_events_date_year_sin3_e4c1ec0e%09mul%0A%3Ca%20href%3D%27https%3A%2F%2Fupgini.com%2F%23data_sources%27%20target%3D%27_blank%27%20rel%3D%27noopener%20noreferrer%27%3ECalendar%20data%3C%2Fa%3E,%3Ca%20href%3D%27https%3A%2F%2Fupgini.com%2F%23data_sources%27%20target%3D%27_blank%27%20rel%3D%27noopener%20noreferrer%27%3EMarkets%20data%3C%2Fa%3E%09f_autofe_mul_147%09f_events_date_week_sin1_847b5db1%09f_financial_date_crude_oil_1f195998%09mul%0A%3Ca%20href%3D%27https%3A%2F%2Fupgini.com%2F%23data_sources%27%20target%3D%27_blank%27%20rel%3D%27noopener%20noreferrer%27%3ECalendar%20data%3C%2Fa%3E,%3Ca%20href%3D%27https%3A%2F%2Fupgini.com%2F%23data_sources%27%20target%3D%27_blank%27%20rel%3D%27noopener%20noreferrer%27%3EMarkets%20data%3C%2Fa%3E%09f_autofe_mul_148%09f_events_date_week_sin1_847b5db1%09f_financial_date_crude_oil_7d_to_1y_c3e0ad17%09mul%0A%3Ca%20href%3D%27https%3A%2F%2Fupgini.com%2F%23data_sources%27%20target%3D%27_blank%27%20rel%3D%27noopener%20noreferrer%27%3ECalendar%20data%3C%2Fa%3E,%3Ca%20href%3D%27https%3A%2F%2Fupgini.com%2F%23data_sources%27%20target%3D%27_blank%27%20rel%3D%27noopener%20noreferrer%27%3EMarkets%20data%3C%2Fa%3E%09f_autofe_mul_149%09f_events_date_week_sin1_847b5db1%09f_financial_date_crude_oil_7d_to_7d_1y_shift_718136ef%09mul%0A%3Ca%20href%3D%27https%3A%2F%2Fupgini.com%2F%23data_sources%27%20target%3D%27_blank%27%20rel%3D%27noopener%20noreferrer%27%3ECalendar%20data%3C%2Fa%3E,%3Ca%20href%3D%27https%3A%2F%2Fupgini.com%2F%23data_sources%27%20target%3D%27_blank%27%20rel%3D%27noopener%20noreferrer%27%3EMarkets%20data%3C%2Fa%3E%09f_autofe_mul_151%09f_events_date_week_sin1_847b5db1%09f_financial_date_gold_7d_to_1y_ae310379%09mul%0A%3Ca%20href%3D%27https%3A%2F%2Fupgini.com%2F%23data_sources%27%20target%3D%27_blank%27%20rel%3D%27noopener%20noreferrer%27%3ECalendar%20data%3C%2Fa%3E,%3Ca%20href%3D%27https%3A%2F%2Fupgini.com%2F%23data_sources%27%20target%3D%27_blank%27%20rel%3D%27noopener%20noreferrer%27%3EMarkets%20data%3C%2Fa%3E%09f_autofe_mul_158%09f_events_date_week_sin1_847b5db1%09f_financial_date_natural_gas_7d_to_7d_1y_shift_a5c3c07f%09mul%0A%3Ca%20href%3D%27https%3A%2F%2Fupgini.com%2F%23data_sources%27%20target%3D%27_blank%27%20rel%3D%27noopener%20noreferrer%27%3ECalendar%20data%3C%2Fa%3E,%3Ca%20href%3D%27https%3A%2F%2Fupgini.com%2F%23data_sources%27%20target%3D%27_blank%27%20rel%3D%27noopener%20noreferrer%27%3EMarkets%20data%3C%2Fa%3E%09f_autofe_div_1228%09f_events_date_week_sin1_847b5db1%09f_financial_date_crude_oil_1f195998%09div%0A%3Ca%20href%3D%27https%3A%2F%2Fupgini.com%2F%23data_sources%27%20target%3D%27_blank%27%20rel%3D%27noopener%20noreferrer%27%3ECalendar%20data%3C%2Fa%3E,%3Ca%20href%3D%27https%3A%2F%2Fupgini.com%2F%23data_sources%27%20target%3D%27_blank%27%20rel%3D%27noopener%20noreferrer%27%3EMarkets%20data%3C%2Fa%3E%09f_autofe_div_1229%09f_events_date_week_sin1_847b5db1%09f_financial_date_crude_oil_7d_to_1y_c3e0ad17%09div%0A%3Ca%20href%3D%27https%3A%2F%2Fupgini.com%2F%23data_sources%27%20target%3D%27_blank%27%20rel%3D%27noopener%20noreferrer%27%3ECalendar%20data%3C%2Fa%3E,%3Ca%20href%3D%27https%3A%2F%2Fupgini.com%2F%23data_sources%27%20target%3D%27_blank%27%20rel%3D%27noopener%20noreferrer%27%3EMarkets%20data%3C%2Fa%3E%09f_autofe_div_1234%09f_events_date_week_sin1_847b5db1%09f_financial_date_nasdaq_7d_to_1y_b00bfaa7%09div%0A%3Ca%20href%3D%27https%3A%2F%2Fupgini.com%2F%23data_sources%27%20target%3D%27_blank%27%20rel%3D%27noopener%20noreferrer%27%3ECalendar%20data%3C%2Fa%3E,%3Ca%20href%3D%27https%3A%2F%2Fupgini.com%2F%23data_sources%27%20target%3D%27_blank%27%20rel%3D%27noopener%20noreferrer%27%3EMarkets%20data%3C%2Fa%3E%09f_autofe_div_1235%09f_events_date_week_sin1_847b5db1%09f_financial_date_nasdaq_7d_to_7d_1y_shift_4a4dd6ce%09div%0A%3Ca%20href%3D%27https%3A%2F%2Fupgini.com%2F%23data_sources%27%20target%3D%27_blank%27%20rel%3D%27noopener%20noreferrer%27%3ECalendar%20data%3C%2Fa%3E,%3Ca%20href%3D%27https%3A%2F%2Fupgini.com%2F%23data_sources%27%20target%3D%27_blank%27%20rel%3D%27noopener%20noreferrer%27%3EMarkets%20data%3C%2Fa%3E%09f_autofe_mul_200%09f_events_date_week_sin2_e28440a5%09f_financial_date_natural_gas_7d_to_7d_1y_shift_a5c3c07f%09mul%0A%3Ca%20href%3D%27https%3A%2F%2Fupgini.com%2F%23data_sources%27%20target%3D%27_blank%27%20rel%3D%27noopener%20noreferrer%27%3ECalendar%20data%3C%2Fa%3E,%3Ca%20href%3D%27https%3A%2F%2Fupgini.com%2F%23data_sources%27%20target%3D%27_blank%27%20rel%3D%27noopener%20noreferrer%27%3EMarkets%20data%3C%2Fa%3E%09f_autofe_mul_203%09f_events_date_week_sin2_e28440a5%09f_financial_date_silver_7d_to_7d_1y_shift_55fa8001%09mul%0A%3Ca%20href%3D%27https%3A%2F%2Fupgini.com%2F%23data_sources%27%20target%3D%27_blank%27%20rel%3D%27noopener%20noreferrer%27%3ECalendar%20data%3C%2Fa%3E,%3Ca%20href%3D%27https%3A%2F%2Fupgini.com%2F%23data_sources%27%20target%3D%27_blank%27%20rel%3D%27noopener%20noreferrer%27%3EMarkets%20data%3C%2Fa%3E%09f_autofe_mul_218%09f_events_date_week_sin2_e28440a5%09f_financial_date_vix_7d_to_1y_634c77eb%09mul%0A%3Ca%20href%3D%27https%3A%2F%2Fupgini.com%2F%23data_sources%27%20target%3D%27_blank%27%20rel%3D%27noopener%20noreferrer%27%3ECalendar%20data%3C%2Fa%3E,%3Ca%20href%3D%27https%3A%2F%2Fupgini.com%2F%23data_sources%27%20target%3D%27_blank%27%20rel%3D%27noopener%20noreferrer%27%3EMarkets%20data%3C%2Fa%3E%09f_autofe_div_1271%09f_events_date_week_sin2_e28440a5%09f_financial_date_crude_oil_7d_to_1y_c3e0ad17%09div%0A%3Ca%20href%3D%27https%3A%2F%2Fupgini.com%2F%23data_sources%27%20target%3D%27_blank%27%20rel%3D%27noopener%20noreferrer%27%3ECalendar%20data%3C%2Fa%3E,%3Ca%20href%3D%27https%3A%2F%2Fupgini.com%2F%23data_sources%27%20target%3D%27_blank%27%20rel%3D%27noopener%20noreferrer%27%3EMarkets%20data%3C%2Fa%3E%09f_autofe_div_1311%09f_events_date_year_cos1_9014a856%09f_financial_date_crude_oil_1f195998%09div%0A%3Ca%20href%3D%27https%3A%2F%2Fupgini.com%2F%23data_sources%27%20target%3D%27_blank%27%20rel%3D%27noopener%20noreferrer%27%3ECalendar%20data%3C%2Fa%3E,%3Ca%20href%3D%27https%3A%2F%2Fupgini.com%2F%23data_sources%27%20target%3D%27_blank%27%20rel%3D%27noopener%20noreferrer%27%3EMarkets%20data%3C%2Fa%3E%09f_autofe_div_1312%09f_events_date_year_cos1_9014a856%09f_financial_date_crude_oil_7d_to_1y_c3e0ad17%09div%0A%3Ca%20href%3D%27https%3A%2F%2Fupgini.com%2F%23data_sources%27%20target%3D%27_blank%27%20rel%3D%27noopener%20noreferrer%27%3ECalendar%20data%3C%2Fa%3E,%3Ca%20href%3D%27https%3A%2F%2Fupgini.com%2F%23data_sources%27%20target%3D%27_blank%27%20rel%3D%27noopener%20noreferrer%27%3EMarkets%20data%3C%2Fa%3E%09f_autofe_div_1313%09f_events_date_year_cos1_9014a856%09f_financial_date_crude_oil_7d_to_7d_1y_shift_718136ef%09div%0A%3Ca%20href%3D%27https%3A%2F%2Fupgini.com%2F%23data_sources%27%20target%3D%27_blank%27%20rel%3D%27noopener%20noreferrer%27%3ECalendar%20data%3C%2Fa%3E%09f_autofe_mul_265%09f_events_date_year_cos2_7acbaf1b%09f_events_date_year_sin1_3c44bc64%09mul%0A%3Ca%20href%3D%27https%3A%2F%2Fupgini.com%2F%23data_sources%27%20target%3D%27_blank%27%20rel%3D%27noopener%20noreferrer%27%3ECalendar%20data%3C%2Fa%3E%09f_autofe_mul_342%09f_events_date_year_cos5_59183b20%09f_events_date_year_sin1_3c44bc64%09mul%0A%3Ca%20href%3D%27https%3A%2F%2Fupgini.com%2F%23data_sources%27%20target%3D%27_blank%27%20rel%3D%27noopener%20noreferrer%27%3ECalendar%20data%3C%2Fa%3E%09f_autofe_mul_453%09f_events_date_year_sin1_3c44bc64%09f_events_date_year_sin6_af4ea895%09mul%0A%3Ca%20href%3D%27https%3A%2F%2Fupgini.com%2F%23data_sources%27%20target%3D%27_blank%27%20rel%3D%27noopener%20noreferrer%27%3ECalendar%20data%3C%2Fa%3E,%3Ca%20href%3D%27https%3A%2F%2Fupgini.com%2F%23data_sources%27%20target%3D%27_blank%27%20rel%3D%27noopener%20noreferrer%27%3EMarkets%20data%3C%2Fa%3E%09f_autofe_div_1611%09f_events_date_year_sin3_e4c1ec0e%09f_financial_date_natural_gas_92dac942%09div%0A%3Ca%20href%3D%27https%3A%2F%2Fupgini.com%2F%23data_sources%27%20target%3D%27_blank%27%20rel%3D%27noopener%20noreferrer%27%3EMarkets%20data%3C%2Fa%3E%09f_autofe_mul_626%09f_financial_date_crude_oil_1f195998%09f_financial_date_natural_gas_7d_to_7d_1y_shift_a5c3c07f%09mul%0A%3Ca%20href%3D%27https%3A%2F%2Fupgini.com%2F%23data_sources%27%20target%3D%27_blank%27%20rel%3D%27noopener%20noreferrer%27%3EMarkets%20data%3C%2Fa%3E%09f_autofe_mul_658%09f_financial_date_crude_oil_7d_to_1y_c3e0ad17%09f_financial_date_silver_7d_to_7d_1y_shift_55fa8001%09mul%0A%3Ca%20href%3D%27https%3A%2F%2Fupgini.com%2F%23data_sources%27%20target%3D%27_blank%27%20rel%3D%27noopener%20noreferrer%27%3EMarkets%20data%3C%2Fa%3E%09f_autofe_div_1732%09f_financial_date_crude_oil_7d_to_1y_c3e0ad17%09f_financial_date_nasdaq_7d_to_7d_1y_shift_4a4dd6ce%09div%0A%3Ca%20href%3D%27https%3A%2F%2Fupgini.com%2F%23data_sources%27%20target%3D%27_blank%27%20rel%3D%27noopener%20noreferrer%27%3EMarkets%20data%3C%2Fa%3E%09f_autofe_mul_710%09f_financial_date_gold_1d_to_7d_742a0045%09f_financial_date_natural_gas_7d_to_7d_1y_shift_a5c3c07f%09mul%0A%3Ca%20href%3D%27https%3A%2F%2Fupgini.com%2F%23data_sources%27%20target%3D%27_blank%27%20rel%3D%27noopener%20noreferrer%27%3EMarkets%20data%3C%2Fa%3E%09f_autofe_mul_794%09f_financial_date_nasdaq_7d_to_1y_b00bfaa7%09f_financial_date_stoxx_7d_to_1y_2ea815f4%09mul%0A%3Ca%20href%3D%27https%3A%2F%2Fupgini.com%2F%23data_sources%27%20target%3D%27_blank%27%20rel%3D%27noopener%20noreferrer%27%3EMarkets%20data%3C%2Fa%3E%09f_autofe_div_1872%09f_financial_date_nasdaq_7d_to_1y_b00bfaa7%09f_financial_date_snp500_7d_to_1y_378b9f99%09div%0A%3Ca%20href%3D%27https%3A%2F%2Fupgini.com%2F%23data_sources%27%20target%3D%27_blank%27%20rel%3D%27noopener%20noreferrer%27%3EMarkets%20data%3C%2Fa%3E%09f_autofe_div_1876%09f_financial_date_nasdaq_7d_to_1y_b00bfaa7%09f_financial_date_stoxx_7d_to_7d_1y_shift_abef6e91%09div%0A%3Ca%20href%3D%27https%3A%2F%2Fupgini.com%2F%23data_sources%27%20target%3D%27_blank%27%20rel%3D%27noopener%20noreferrer%27%3EMarkets%20data%3C%2Fa%3E%09f_autofe_mul_815%09f_financial_date_nasdaq_7d_to_7d_1y_shift_4a4dd6ce%09f_financial_date_stoxx_043cbcd4%09mul%0A%3Ca%20href%3D%27https%3A%2F%2Fupgini.com%2F%23data_sources%27%20target%3D%27_blank%27%20rel%3D%27noopener%20noreferrer%27%3EMarkets%20data%3C%2Fa%3E%09f_autofe_div_1895%09f_financial_date_nasdaq_7d_to_7d_1y_shift_4a4dd6ce%09f_financial_date_snp500_7d_to_1y_378b9f99%09div%0A%3Ca%20href%3D%27https%3A%2F%2Fupgini.com%2F%23data_sources%27%20target%3D%27_blank%27%20rel%3D%27noopener%20noreferrer%27%3EMarkets%20data%3C%2Fa%3E%09f_autofe_div_1910%09f_financial_date_natural_gas_92dac942%09f_financial_date_natural_gas_7d_to_1y_7a6f300d%09div%0A%3Ca%20href%3D%27https%3A%2F%2Fupgini.com%2F%23data_sources%27%20target%3D%27_blank%27%20rel%3D%27noopener%20noreferrer%27%3EMarkets%20data%3C%2Fa%3E%09f_autofe_div_1974%09f_financial_date_natural_gas_7d_to_7d_1y_shift_a5c3c07f%09f_financial_date_silver_7d_to_7d_1y_shift_55fa8001%09div%0A%3Ca%20href%3D%27https%3A%2F%2Fupgini.com%2F%23data_sources%27%20target%3D%27_blank%27%20rel%3D%27noopener%20noreferrer%27%3EMarkets%20data%3C%2Fa%3E%09f_autofe_div_1992%09f_financial_date_silver_e4e33014%09f_financial_date_silver_7d_to_7d_1y_shift_55fa8001%09div%0A%3Ca%20href%3D%27https%3A%2F%2Fupgini.com%2F%23data_sources%27%20target%3D%27_blank%27%20rel%3D%27noopener%20noreferrer%27%3EMarkets%20data%3C%2Fa%3E%09f_autofe_div_1998%09f_financial_date_silver_e4e33014%09f_financial_date_stoxx_7d_to_1y_2ea815f4%09div%0A%3Ca%20href%3D%27https%3A%2F%2Fupgini.com%2F%23data_sources%27%20target%3D%27_blank%27%20rel%3D%27noopener%20noreferrer%27%3EMarkets%20data%3C%2Fa%3E%09f_autofe_div_2028%09f_financial_date_silver_7d_to_7d_1y_shift_55fa8001%09f_financial_date_snp500_7d_to_1y_378b9f99%09div%0A%3Ca%20href%3D%27https%3A%2F%2Fupgini.com%2F%23data_sources%27%20target%3D%27_blank%27%20rel%3D%27noopener%20noreferrer%27%3EMarkets%20data%3C%2Fa%3E%09f_autofe_div_2040%09f_financial_date_silver_7d_to_7d_1y_shift_55fa8001%09f_financial_date_vix_7d_to_1y_634c77eb%09div%0A%3Ca%20href%3D%27https%3A%2F%2Fupgini.com%2F%23data_sources%27%20target%3D%27_blank%27%20rel%3D%27noopener%20noreferrer%27%3EMarkets%20data%3C%2Fa%3E%09f_autofe_div_2071%09f_financial_date_snp500_7d_to_1y_378b9f99%09f_financial_date_stoxx_043cbcd4%09div%0A%3Ca%20href%3D%27https%3A%2F%2Fupgini.com%2F%23data_sources%27%20target%3D%27_blank%27%20rel%3D%27noopener%20noreferrer%27%3EMarkets%20data%3C%2Fa%3E%09f_autofe_div_2088%09f_financial_date_stoxx_043cbcd4%09f_financial_date_usd_7d_to_7d_1y_shift_35cb53e9%09div%0A'))>📂 Copy</button>\n",
              "                <a href='mailto:<Share with...>?subject=Relevant external data sources from Upgini.com&body=Sources%09Feature%20name%09Feature%201%09Feature%202%09Function%0A%3Ca%20href%3D%27https%3A%2F%2Fupgini.com%2F%23data_sources%27%20target%3D%27_blank%27%20rel%3D%27noopener%20noreferrer%27%3ECalendar%20data%3C%2Fa%3E,%3Ca%20href%3D%27https%3A%2F%2Fupgini.com%2F%23data_sources%27%20target%3D%27_blank%27%20rel%3D%27noopener%20noreferrer%27%3EMarkets%20data%3C%2Fa%3E%09f_autofe_mul_27%09f_events_date_week_cos1_f6a8c1fc%09f_financial_date_silver_e4e33014%09mul%0A%3Ca%20href%3D%27https%3A%2F%2Fupgini.com%2F%23data_sources%27%20target%3D%27_blank%27%20rel%3D%27noopener%20noreferrer%27%3ECalendar%20data%3C%2Fa%3E,%3Ca%20href%3D%27https%3A%2F%2Fupgini.com%2F%23data_sources%27%20target%3D%27_blank%27%20rel%3D%27noopener%20noreferrer%27%3EMarkets%20data%3C%2Fa%3E%09f_autofe_div_1229%09f_events_date_week_cos1_f6a8c1fc%09f_financial_date_silver_7d_to_7d_1y_shift_55fa8001%09%0A%3Ca%20href%3D%27https%3A%2F%2Fupgini.com%2F%23data_sources%27%20target%3D%27_blank%27%20rel%3D%27noopener%20noreferrer%27%3ECalendar%20data%3C%2Fa%3E%09f_autofe_div_1083%09f_events_date_week_cos1_f6a8c1fc%09f_events_date_week_sin1_847b5db1%09div%0A%3Ca%20href%3D%27https%3A%2F%2Fupgini.com%2F%23data_sources%27%20target%3D%27_blank%27%20rel%3D%27noopener%20noreferrer%27%3ECalendar%20data%3C%2Fa%3E,%3Ca%20href%3D%27https%3A%2F%2Fupgini.com%2F%23data_sources%27%20target%3D%27_blank%27%20rel%3D%27noopener%20noreferrer%27%3EMarkets%20data%3C%2Fa%3E%09f_autofe_div_1096%09f_events_date_week_cos1_f6a8c1fc%09f_financial_date_crude_oil_1f195998%09div%0A%3Ca%20href%3D%27https%3A%2F%2Fupgini.com%2F%23data_sources%27%20target%3D%27_blank%27%20rel%3D%27noopener%20noreferrer%27%3ECalendar%20data%3C%2Fa%3E,%3Ca%20href%3D%27https%3A%2F%2Fupgini.com%2F%23data_sources%27%20target%3D%27_blank%27%20rel%3D%27noopener%20noreferrer%27%3EMarkets%20data%3C%2Fa%3E%09f_autofe_div_1097%09f_events_date_week_cos1_f6a8c1fc%09f_financial_date_crude_oil_7d_to_1y_c3e0ad17%09div%0A%3Ca%20href%3D%27https%3A%2F%2Fupgini.com%2F%23data_sources%27%20target%3D%27_blank%27%20rel%3D%27noopener%20noreferrer%27%3ECalendar%20data%3C%2Fa%3E,%3Ca%20href%3D%27https%3A%2F%2Fupgini.com%2F%23data_sources%27%20target%3D%27_blank%27%20rel%3D%27noopener%20noreferrer%27%3EMarkets%20data%3C%2Fa%3E%09f_autofe_div_1107%09f_events_date_week_cos1_f6a8c1fc%09f_financial_date_natural_gas_7d_to_7d_1y_shift_a5c3c07f%09div%0A%3Ca%20href%3D%27https%3A%2F%2Fupgini.com%2F%23data_sources%27%20target%3D%27_blank%27%20rel%3D%27noopener%20noreferrer%27%3ECalendar%20data%3C%2Fa%3E,%3Ca%20href%3D%27https%3A%2F%2Fupgini.com%2F%23data_sources%27%20target%3D%27_blank%27%20rel%3D%27noopener%20noreferrer%27%3EMarkets%20data%3C%2Fa%3E%09f_autofe_mul_61%09f_events_date_week_cos2_b0a07cfc%09f_financial_date_crude_oil_7d_to_1y_c3e0ad17%09mul%0A%3Ca%20href%3D%27https%3A%2F%2Fupgini.com%2F%23data_sources%27%20target%3D%27_blank%27%20rel%3D%27noopener%20noreferrer%27%3EMarkets%20data%3C%2Fa%3E%09f_autofe_div_1872%09f_events_date_week_cos2_b0a07cfc%09f_financial_date_silver_e4e33014%09%0A%3Ca%20href%3D%27https%3A%2F%2Fupgini.com%2F%23data_sources%27%20target%3D%27_blank%27%20rel%3D%27noopener%20noreferrer%27%3ECalendar%20data%3C%2Fa%3E,%3Ca%20href%3D%27https%3A%2F%2Fupgini.com%2F%23data_sources%27%20target%3D%27_blank%27%20rel%3D%27noopener%20noreferrer%27%3EMarkets%20data%3C%2Fa%3E%09f_autofe_mul_89%09f_events_date_week_cos2_b0a07cfc%09f_financial_date_vix_7d_to_1y_634c77eb%09mul%0A%3Ca%20href%3D%27https%3A%2F%2Fupgini.com%2F%23data_sources%27%20target%3D%27_blank%27%20rel%3D%27noopener%20noreferrer%27%3ECalendar%20data%3C%2Fa%3E,%3Ca%20href%3D%27https%3A%2F%2Fupgini.com%2F%23data_sources%27%20target%3D%27_blank%27%20rel%3D%27noopener%20noreferrer%27%3EMarkets%20data%3C%2Fa%3E%09f_autofe_div_1155%09f_events_date_week_cos2_b0a07cfc%09f_financial_date_silver_7d_to_7d_1y_shift_55fa8001%09div%0A%3Ca%20href%3D%27https%3A%2F%2Fupgini.com%2F%23data_sources%27%20target%3D%27_blank%27%20rel%3D%27noopener%20noreferrer%27%3ECalendar%20data%3C%2Fa%3E,%3Ca%20href%3D%27https%3A%2F%2Fupgini.com%2F%23data_sources%27%20target%3D%27_blank%27%20rel%3D%27noopener%20noreferrer%27%3EMarkets%20data%3C%2Fa%3E%09f_autofe_mul_104%09f_events_date_week_cos3_7525fe31%09f_financial_date_crude_oil_1f195998%09mul%0A%3Ca%20href%3D%27https%3A%2F%2Fupgini.com%2F%23data_sources%27%20target%3D%27_blank%27%20rel%3D%27noopener%20noreferrer%27%3ECalendar%20data%3C%2Fa%3E,%3Ca%20href%3D%27https%3A%2F%2Fupgini.com%2F%23data_sources%27%20target%3D%27_blank%27%20rel%3D%27noopener%20noreferrer%27%3EMarkets%20data%3C%2Fa%3E%09f_autofe_mul_106%09f_events_date_week_cos3_7525fe31%09f_financial_date_crude_oil_7d_to_7d_1y_shift_718136ef%09mul%0A%3Ca%20href%3D%27https%3A%2F%2Fupgini.com%2F%23data_sources%27%20target%3D%27_blank%27%20rel%3D%27noopener%20noreferrer%27%3ECalendar%20data%3C%2Fa%3E,%3Ca%20href%3D%27https%3A%2F%2Fupgini.com%2F%23data_sources%27%20target%3D%27_blank%27%20rel%3D%27noopener%20noreferrer%27%3EMarkets%20data%3C%2Fa%3E%09f_autofe_mul_133%09f_events_date_week_cos3_7525fe31%09f_financial_date_vix_7d_to_1y_634c77eb%09mul%0A%3Ca%20href%3D%27https%3A%2F%2Fupgini.com%2F%23data_sources%27%20target%3D%27_blank%27%20rel%3D%27noopener%20noreferrer%27%3ECalendar%20data%3C%2Fa%3E,%3Ca%20href%3D%27https%3A%2F%2Fupgini.com%2F%23data_sources%27%20target%3D%27_blank%27%20rel%3D%27noopener%20noreferrer%27%3EMarkets%20data%3C%2Fa%3E%09f_autofe_div_1186%09f_events_date_week_cos3_7525fe31%09f_financial_date_crude_oil_7d_to_1y_c3e0ad17%09div%0A%3Ca%20href%3D%27https%3A%2F%2Fupgini.com%2F%23data_sources%27%20target%3D%27_blank%27%20rel%3D%27noopener%20noreferrer%27%3ECalendar%20data%3C%2Fa%3E,%3Ca%20href%3D%27https%3A%2F%2Fupgini.com%2F%23data_sources%27%20target%3D%27_blank%27%20rel%3D%27noopener%20noreferrer%27%3EMarkets%20data%3C%2Fa%3E%09f_autofe_div_1199%09f_events_date_week_cos3_7525fe31%09f_financial_date_silver_7d_to_7d_1y_shift_55fa8001%09div%0A%3Ca%20href%3D%27https%3A%2F%2Fupgini.com%2F%23data_sources%27%20target%3D%27_blank%27%20rel%3D%27noopener%20noreferrer%27%3ECalendar%20data%3C%2Fa%3E%09f_autofe_mul_144%09f_events_date_week_sin1_847b5db1%09f_events_date_year_sin3_e4c1ec0e%09mul%0A%3Ca%20href%3D%27https%3A%2F%2Fupgini.com%2F%23data_sources%27%20target%3D%27_blank%27%20rel%3D%27noopener%20noreferrer%27%3ECalendar%20data%3C%2Fa%3E,%3Ca%20href%3D%27https%3A%2F%2Fupgini.com%2F%23data_sources%27%20target%3D%27_blank%27%20rel%3D%27noopener%20noreferrer%27%3EMarkets%20data%3C%2Fa%3E%09f_autofe_mul_147%09f_events_date_week_sin1_847b5db1%09f_financial_date_crude_oil_1f195998%09mul%0A%3Ca%20href%3D%27https%3A%2F%2Fupgini.com%2F%23data_sources%27%20target%3D%27_blank%27%20rel%3D%27noopener%20noreferrer%27%3ECalendar%20data%3C%2Fa%3E,%3Ca%20href%3D%27https%3A%2F%2Fupgini.com%2F%23data_sources%27%20target%3D%27_blank%27%20rel%3D%27noopener%20noreferrer%27%3EMarkets%20data%3C%2Fa%3E%09f_autofe_mul_148%09f_events_date_week_sin1_847b5db1%09f_financial_date_crude_oil_7d_to_1y_c3e0ad17%09mul%0A%3Ca%20href%3D%27https%3A%2F%2Fupgini.com%2F%23data_sources%27%20target%3D%27_blank%27%20rel%3D%27noopener%20noreferrer%27%3ECalendar%20data%3C%2Fa%3E,%3Ca%20href%3D%27https%3A%2F%2Fupgini.com%2F%23data_sources%27%20target%3D%27_blank%27%20rel%3D%27noopener%20noreferrer%27%3EMarkets%20data%3C%2Fa%3E%09f_autofe_mul_149%09f_events_date_week_sin1_847b5db1%09f_financial_date_crude_oil_7d_to_7d_1y_shift_718136ef%09mul%0A%3Ca%20href%3D%27https%3A%2F%2Fupgini.com%2F%23data_sources%27%20target%3D%27_blank%27%20rel%3D%27noopener%20noreferrer%27%3ECalendar%20data%3C%2Fa%3E,%3Ca%20href%3D%27https%3A%2F%2Fupgini.com%2F%23data_sources%27%20target%3D%27_blank%27%20rel%3D%27noopener%20noreferrer%27%3EMarkets%20data%3C%2Fa%3E%09f_autofe_mul_151%09f_events_date_week_sin1_847b5db1%09f_financial_date_gold_7d_to_1y_ae310379%09mul%0A%3Ca%20href%3D%27https%3A%2F%2Fupgini.com%2F%23data_sources%27%20target%3D%27_blank%27%20rel%3D%27noopener%20noreferrer%27%3ECalendar%20data%3C%2Fa%3E,%3Ca%20href%3D%27https%3A%2F%2Fupgini.com%2F%23data_sources%27%20target%3D%27_blank%27%20rel%3D%27noopener%20noreferrer%27%3EMarkets%20data%3C%2Fa%3E%09f_autofe_mul_158%09f_events_date_week_sin1_847b5db1%09f_financial_date_natural_gas_7d_to_7d_1y_shift_a5c3c07f%09mul%0A%3Ca%20href%3D%27https%3A%2F%2Fupgini.com%2F%23data_sources%27%20target%3D%27_blank%27%20rel%3D%27noopener%20noreferrer%27%3ECalendar%20data%3C%2Fa%3E,%3Ca%20href%3D%27https%3A%2F%2Fupgini.com%2F%23data_sources%27%20target%3D%27_blank%27%20rel%3D%27noopener%20noreferrer%27%3EMarkets%20data%3C%2Fa%3E%09f_autofe_div_1228%09f_events_date_week_sin1_847b5db1%09f_financial_date_crude_oil_1f195998%09div%0A%3Ca%20href%3D%27https%3A%2F%2Fupgini.com%2F%23data_sources%27%20target%3D%27_blank%27%20rel%3D%27noopener%20noreferrer%27%3ECalendar%20data%3C%2Fa%3E,%3Ca%20href%3D%27https%3A%2F%2Fupgini.com%2F%23data_sources%27%20target%3D%27_blank%27%20rel%3D%27noopener%20noreferrer%27%3EMarkets%20data%3C%2Fa%3E%09f_autofe_div_1229%09f_events_date_week_sin1_847b5db1%09f_financial_date_crude_oil_7d_to_1y_c3e0ad17%09div%0A%3Ca%20href%3D%27https%3A%2F%2Fupgini.com%2F%23data_sources%27%20target%3D%27_blank%27%20rel%3D%27noopener%20noreferrer%27%3ECalendar%20data%3C%2Fa%3E,%3Ca%20href%3D%27https%3A%2F%2Fupgini.com%2F%23data_sources%27%20target%3D%27_blank%27%20rel%3D%27noopener%20noreferrer%27%3EMarkets%20data%3C%2Fa%3E%09f_autofe_div_1234%09f_events_date_week_sin1_847b5db1%09f_financial_date_nasdaq_7d_to_1y_b00bfaa7%09div%0A%3Ca%20href%3D%27https%3A%2F%2Fupgini.com%2F%23data_sources%27%20target%3D%27_blank%27%20rel%3D%27noopener%20noreferrer%27%3ECalendar%20data%3C%2Fa%3E,%3Ca%20href%3D%27https%3A%2F%2Fupgini.com%2F%23data_sources%27%20target%3D%27_blank%27%20rel%3D%27noopener%20noreferrer%27%3EMarkets%20data%3C%2Fa%3E%09f_autofe_div_1235%09f_events_date_week_sin1_847b5db1%09f_financial_date_nasdaq_7d_to_7d_1y_shift_4a4dd6ce%09div%0A%3Ca%20href%3D%27https%3A%2F%2Fupgini.com%2F%23data_sources%27%20target%3D%27_blank%27%20rel%3D%27noopener%20noreferrer%27%3ECalendar%20data%3C%2Fa%3E,%3Ca%20href%3D%27https%3A%2F%2Fupgini.com%2F%23data_sources%27%20target%3D%27_blank%27%20rel%3D%27noopener%20noreferrer%27%3EMarkets%20data%3C%2Fa%3E%09f_autofe_mul_200%09f_events_date_week_sin2_e28440a5%09f_financial_date_natural_gas_7d_to_7d_1y_shift_a5c3c07f%09mul%0A%3Ca%20href%3D%27https%3A%2F%2Fupgini.com%2F%23data_sources%27%20target%3D%27_blank%27%20rel%3D%27noopener%20noreferrer%27%3ECalendar%20data%3C%2Fa%3E,%3Ca%20href%3D%27https%3A%2F%2Fupgini.com%2F%23data_sources%27%20target%3D%27_blank%27%20rel%3D%27noopener%20noreferrer%27%3EMarkets%20data%3C%2Fa%3E%09f_autofe_mul_203%09f_events_date_week_sin2_e28440a5%09f_financial_date_silver_7d_to_7d_1y_shift_55fa8001%09mul%0A%3Ca%20href%3D%27https%3A%2F%2Fupgini.com%2F%23data_sources%27%20target%3D%27_blank%27%20rel%3D%27noopener%20noreferrer%27%3ECalendar%20data%3C%2Fa%3E,%3Ca%20href%3D%27https%3A%2F%2Fupgini.com%2F%23data_sources%27%20target%3D%27_blank%27%20rel%3D%27noopener%20noreferrer%27%3EMarkets%20data%3C%2Fa%3E%09f_autofe_mul_218%09f_events_date_week_sin2_e28440a5%09f_financial_date_vix_7d_to_1y_634c77eb%09mul%0A%3Ca%20href%3D%27https%3A%2F%2Fupgini.com%2F%23data_sources%27%20target%3D%27_blank%27%20rel%3D%27noopener%20noreferrer%27%3ECalendar%20data%3C%2Fa%3E,%3Ca%20href%3D%27https%3A%2F%2Fupgini.com%2F%23data_sources%27%20target%3D%27_blank%27%20rel%3D%27noopener%20noreferrer%27%3EMarkets%20data%3C%2Fa%3E%09f_autofe_div_1271%09f_events_date_week_sin2_e28440a5%09f_financial_date_crude_oil_7d_to_1y_c3e0ad17%09div%0A%3Ca%20href%3D%27https%3A%2F%2Fupgini.com%2F%23data_sources%27%20target%3D%27_blank%27%20rel%3D%27noopener%20noreferrer%27%3ECalendar%20data%3C%2Fa%3E,%3Ca%20href%3D%27https%3A%2F%2Fupgini.com%2F%23data_sources%27%20target%3D%27_blank%27%20rel%3D%27noopener%20noreferrer%27%3EMarkets%20data%3C%2Fa%3E%09f_autofe_div_1311%09f_events_date_year_cos1_9014a856%09f_financial_date_crude_oil_1f195998%09div%0A%3Ca%20href%3D%27https%3A%2F%2Fupgini.com%2F%23data_sources%27%20target%3D%27_blank%27%20rel%3D%27noopener%20noreferrer%27%3ECalendar%20data%3C%2Fa%3E,%3Ca%20href%3D%27https%3A%2F%2Fupgini.com%2F%23data_sources%27%20target%3D%27_blank%27%20rel%3D%27noopener%20noreferrer%27%3EMarkets%20data%3C%2Fa%3E%09f_autofe_div_1312%09f_events_date_year_cos1_9014a856%09f_financial_date_crude_oil_7d_to_1y_c3e0ad17%09div%0A%3Ca%20href%3D%27https%3A%2F%2Fupgini.com%2F%23data_sources%27%20target%3D%27_blank%27%20rel%3D%27noopener%20noreferrer%27%3ECalendar%20data%3C%2Fa%3E,%3Ca%20href%3D%27https%3A%2F%2Fupgini.com%2F%23data_sources%27%20target%3D%27_blank%27%20rel%3D%27noopener%20noreferrer%27%3EMarkets%20data%3C%2Fa%3E%09f_autofe_div_1313%09f_events_date_year_cos1_9014a856%09f_financial_date_crude_oil_7d_to_7d_1y_shift_718136ef%09div%0A%3Ca%20href%3D%27https%3A%2F%2Fupgini.com%2F%23data_sources%27%20target%3D%27_blank%27%20rel%3D%27noopener%20noreferrer%27%3ECalendar%20data%3C%2Fa%3E%09f_autofe_mul_265%09f_events_date_year_cos2_7acbaf1b%09f_events_date_year_sin1_3c44bc64%09mul%0A%3Ca%20href%3D%27https%3A%2F%2Fupgini.com%2F%23data_sources%27%20target%3D%27_blank%27%20rel%3D%27noopener%20noreferrer%27%3ECalendar%20data%3C%2Fa%3E%09f_autofe_mul_342%09f_events_date_year_cos5_59183b20%09f_events_date_year_sin1_3c44bc64%09mul%0A%3Ca%20href%3D%27https%3A%2F%2Fupgini.com%2F%23data_sources%27%20target%3D%27_blank%27%20rel%3D%27noopener%20noreferrer%27%3ECalendar%20data%3C%2Fa%3E%09f_autofe_mul_453%09f_events_date_year_sin1_3c44bc64%09f_events_date_year_sin6_af4ea895%09mul%0A%3Ca%20href%3D%27https%3A%2F%2Fupgini.com%2F%23data_sources%27%20target%3D%27_blank%27%20rel%3D%27noopener%20noreferrer%27%3ECalendar%20data%3C%2Fa%3E,%3Ca%20href%3D%27https%3A%2F%2Fupgini.com%2F%23data_sources%27%20target%3D%27_blank%27%20rel%3D%27noopener%20noreferrer%27%3EMarkets%20data%3C%2Fa%3E%09f_autofe_div_1611%09f_events_date_year_sin3_e4c1ec0e%09f_financial_date_natural_gas_92dac942%09div%0A%3Ca%20href%3D%27https%3A%2F%2Fupgini.com%2F%23data_sources%27%20target%3D%27_blank%27%20rel%3D%27noopener%20noreferrer%27%3EMarkets%20data%3C%2Fa%3E%09f_autofe_mul_626%09f_financial_date_crude_oil_1f195998%09f_financial_date_natural_gas_7d_to_7d_1y_shift_a5c3c07f%09mul%0A%3Ca%20href%3D%27https%3A%2F%2Fupgini.com%2F%23data_sources%27%20target%3D%27_blank%27%20rel%3D%27noopener%20noreferrer%27%3EMarkets%20data%3C%2Fa%3E%09f_autofe_mul_658%09f_financial_date_crude_oil_7d_to_1y_c3e0ad17%09f_financial_date_silver_7d_to_7d_1y_shift_55fa8001%09mul%0A%3Ca%20href%3D%27https%3A%2F%2Fupgini.com%2F%23data_sources%27%20target%3D%27_blank%27%20rel%3D%27noopener%20noreferrer%27%3EMarkets%20data%3C%2Fa%3E%09f_autofe_div_1732%09f_financial_date_crude_oil_7d_to_1y_c3e0ad17%09f_financial_date_nasdaq_7d_to_7d_1y_shift_4a4dd6ce%09div%0A%3Ca%20href%3D%27https%3A%2F%2Fupgini.com%2F%23data_sources%27%20target%3D%27_blank%27%20rel%3D%27noopener%20noreferrer%27%3EMarkets%20data%3C%2Fa%3E%09f_autofe_mul_710%09f_financial_date_gold_1d_to_7d_742a0045%09f_financial_date_natural_gas_7d_to_7d_1y_shift_a5c3c07f%09mul%0A%3Ca%20href%3D%27https%3A%2F%2Fupgini.com%2F%23data_sources%27%20target%3D%27_blank%27%20rel%3D%27noopener%20noreferrer%27%3EMarkets%20data%3C%2Fa%3E%09f_autofe_mul_794%09f_financial_date_nasdaq_7d_to_1y_b00bfaa7%09f_financial_date_stoxx_7d_to_1y_2ea815f4%09mul%0A%3Ca%20href%3D%27https%3A%2F%2Fupgini.com%2F%23data_sources%27%20target%3D%27_blank%27%20rel%3D%27noopener%20noreferrer%27%3EMarkets%20data%3C%2Fa%3E%09f_autofe_div_1872%09f_financial_date_nasdaq_7d_to_1y_b00bfaa7%09f_financial_date_snp500_7d_to_1y_378b9f99%09div%0A%3Ca%20href%3D%27https%3A%2F%2Fupgini.com%2F%23data_sources%27%20target%3D%27_blank%27%20rel%3D%27noopener%20noreferrer%27%3EMarkets%20data%3C%2Fa%3E%09f_autofe_div_1876%09f_financial_date_nasdaq_7d_to_1y_b00bfaa7%09f_financial_date_stoxx_7d_to_7d_1y_shift_abef6e91%09div%0A%3Ca%20href%3D%27https%3A%2F%2Fupgini.com%2F%23data_sources%27%20target%3D%27_blank%27%20rel%3D%27noopener%20noreferrer%27%3EMarkets%20data%3C%2Fa%3E%09f_autofe_mul_815%09f_financial_date_nasdaq_7d_to_7d_1y_shift_4a4dd6ce%09f_financial_date_stoxx_043cbcd4%09mul%0A%3Ca%20href%3D%27https%3A%2F%2Fupgini.com%2F%23data_sources%27%20target%3D%27_blank%27%20rel%3D%27noopener%20noreferrer%27%3EMarkets%20data%3C%2Fa%3E%09f_autofe_div_1895%09f_financial_date_nasdaq_7d_to_7d_1y_shift_4a4dd6ce%09f_financial_date_snp500_7d_to_1y_378b9f99%09div%0A%3Ca%20href%3D%27https%3A%2F%2Fupgini.com%2F%23data_sources%27%20target%3D%27_blank%27%20rel%3D%27noopener%20noreferrer%27%3EMarkets%20data%3C%2Fa%3E%09f_autofe_div_1910%09f_financial_date_natural_gas_92dac942%09f_financial_date_natural_gas_7d_to_1y_7a6f300d%09div%0A%3Ca%20href%3D%27https%3A%2F%2Fupgini.com%2F%23data_sources%27%20target%3D%27_blank%27%20rel%3D%27noopener%20noreferrer%27%3EMarkets%20data%3C%2Fa%3E%09f_autofe_div_1974%09f_financial_date_natural_gas_7d_to_7d_1y_shift_a5c3c07f%09f_financial_date_silver_7d_to_7d_1y_shift_55fa8001%09div%0A%3Ca%20href%3D%27https%3A%2F%2Fupgini.com%2F%23data_sources%27%20target%3D%27_blank%27%20rel%3D%27noopener%20noreferrer%27%3EMarkets%20data%3C%2Fa%3E%09f_autofe_div_1992%09f_financial_date_silver_e4e33014%09f_financial_date_silver_7d_to_7d_1y_shift_55fa8001%09div%0A%3Ca%20href%3D%27https%3A%2F%2Fupgini.com%2F%23data_sources%27%20target%3D%27_blank%27%20rel%3D%27noopener%20noreferrer%27%3EMarkets%20data%3C%2Fa%3E%09f_autofe_div_1998%09f_financial_date_silver_e4e33014%09f_financial_date_stoxx_7d_to_1y_2ea815f4%09div%0A%3Ca%20href%3D%27https%3A%2F%2Fupgini.com%2F%23data_sources%27%20target%3D%27_blank%27%20rel%3D%27noopener%20noreferrer%27%3EMarkets%20data%3C%2Fa%3E%09f_autofe_div_2028%09f_financial_date_silver_7d_to_7d_1y_shift_55fa8001%09f_financial_date_snp500_7d_to_1y_378b9f99%09div%0A%3Ca%20href%3D%27https%3A%2F%2Fupgini.com%2F%23data_sources%27%20target%3D%27_blank%27%20rel%3D%27noopener%20noreferrer%27%3EMarkets%20data%3C%2Fa%3E%09f_autofe_div_2040%09f_financial_date_silver_7d_to_7d_1y_shift_55fa8001%09f_financial_date_vix_7d_to_1y_634c77eb%09div%0A%3Ca%20href%3D%27https%3A%2F%2Fupgini.com%2F%23data_sources%27%20target%3D%27_blank%27%20rel%3D%27noopener%20noreferrer%27%3EMarkets%20data%3C%2Fa%3E%09f_autofe_div_2071%09f_financial_date_snp500_7d_to_1y_378b9f99%09f_financial_date_stoxx_043cbcd4%09div%0A%3Ca%20href%3D%27https%3A%2F%2Fupgini.com%2F%23data_sources%27%20target%3D%27_blank%27%20rel%3D%27noopener%20noreferrer%27%3EMarkets%20data%3C%2Fa%3E%09f_autofe_div_2088%09f_financial_date_stoxx_043cbcd4%09f_financial_date_usd_7d_to_7d_1y_shift_35cb53e9%09div%0A'>\n",
              "                    <button>📨 Share</button>\n",
              "                </a>\n",
              "            </div>\n",
              "            <table class='upgini-df'><thead><th>Sources</th><th>Feature name</th><th>Feature 1</th><th>Feature 2</th><th>Function</th></thead><tbody><tr><td class='upgini-text'><a href='https://upgini.com/#data_sources' target='_blank' rel='noopener noreferrer'>Calendar data</a>,<a href='https://upgini.com/#data_sources' target='_blank' rel='noopener noreferrer'>Markets data</a></td><td class='upgini-text'>f_autofe_mul_27</td><td class='upgini-text'>f_events_date_week_cos1_f6a8c1fc</td><td class='upgini-text'>f_financial_date_silver_e4e33014</td><td class='upgini-text'>mul</td></tr><tr><td class='upgini-text'><a href='https://upgini.com/#data_sources' target='_blank' rel='noopener noreferrer'>Calendar data</a>,<a href='https://upgini.com/#data_sources' target='_blank' rel='noopener noreferrer'>Markets data</a></td><td class='upgini-text'>f_autofe_div_1229</td><td class='upgini-text'>f_events_date_week_cos1_f6a8c1fc</td><td class='upgini-text'>f_financial_date_silver_7d_to_7d_1y_shift_55fa8001</td><td class='upgini-text'>&nbsp;</td></tr><tr><td class='upgini-text'><a href='https://upgini.com/#data_sources' target='_blank' rel='noopener noreferrer'>Calendar data</a></td><td class='upgini-text'>f_autofe_div_1083</td><td class='upgini-text'>f_events_date_week_cos1_f6a8c1fc</td><td class='upgini-text'>f_events_date_week_sin1_847b5db1</td><td class='upgini-text'>div</td></tr><tr><td class='upgini-text'><a href='https://upgini.com/#data_sources' target='_blank' rel='noopener noreferrer'>Calendar data</a>,<a href='https://upgini.com/#data_sources' target='_blank' rel='noopener noreferrer'>Markets data</a></td><td class='upgini-text'>f_autofe_div_1096</td><td class='upgini-text'>f_events_date_week_cos1_f6a8c1fc</td><td class='upgini-text'>f_financial_date_crude_oil_1f195998</td><td class='upgini-text'>div</td></tr><tr><td class='upgini-text'><a href='https://upgini.com/#data_sources' target='_blank' rel='noopener noreferrer'>Calendar data</a>,<a href='https://upgini.com/#data_sources' target='_blank' rel='noopener noreferrer'>Markets data</a></td><td class='upgini-text'>f_autofe_div_1097</td><td class='upgini-text'>f_events_date_week_cos1_f6a8c1fc</td><td class='upgini-text'>f_financial_date_crude_oil_7d_to_1y_c3e0ad17</td><td class='upgini-text'>div</td></tr><tr><td class='upgini-text'><a href='https://upgini.com/#data_sources' target='_blank' rel='noopener noreferrer'>Calendar data</a>,<a href='https://upgini.com/#data_sources' target='_blank' rel='noopener noreferrer'>Markets data</a></td><td class='upgini-text'>f_autofe_div_1107</td><td class='upgini-text'>f_events_date_week_cos1_f6a8c1fc</td><td class='upgini-text'>f_financial_date_natural_gas_7d_to_7d_1y_shift_a5c3c07f</td><td class='upgini-text'>div</td></tr><tr><td class='upgini-text'><a href='https://upgini.com/#data_sources' target='_blank' rel='noopener noreferrer'>Calendar data</a>,<a href='https://upgini.com/#data_sources' target='_blank' rel='noopener noreferrer'>Markets data</a></td><td class='upgini-text'>f_autofe_mul_61</td><td class='upgini-text'>f_events_date_week_cos2_b0a07cfc</td><td class='upgini-text'>f_financial_date_crude_oil_7d_to_1y_c3e0ad17</td><td class='upgini-text'>mul</td></tr><tr><td class='upgini-text'><a href='https://upgini.com/#data_sources' target='_blank' rel='noopener noreferrer'>Markets data</a></td><td class='upgini-text'>f_autofe_div_1872</td><td class='upgini-text'>f_events_date_week_cos2_b0a07cfc</td><td class='upgini-text'>f_financial_date_silver_e4e33014</td><td class='upgini-text'>&nbsp;</td></tr><tr><td class='upgini-text'><a href='https://upgini.com/#data_sources' target='_blank' rel='noopener noreferrer'>Calendar data</a>,<a href='https://upgini.com/#data_sources' target='_blank' rel='noopener noreferrer'>Markets data</a></td><td class='upgini-text'>f_autofe_mul_89</td><td class='upgini-text'>f_events_date_week_cos2_b0a07cfc</td><td class='upgini-text'>f_financial_date_vix_7d_to_1y_634c77eb</td><td class='upgini-text'>mul</td></tr><tr><td class='upgini-text'><a href='https://upgini.com/#data_sources' target='_blank' rel='noopener noreferrer'>Calendar data</a>,<a href='https://upgini.com/#data_sources' target='_blank' rel='noopener noreferrer'>Markets data</a></td><td class='upgini-text'>f_autofe_div_1155</td><td class='upgini-text'>f_events_date_week_cos2_b0a07cfc</td><td class='upgini-text'>f_financial_date_silver_7d_to_7d_1y_shift_55fa8001</td><td class='upgini-text'>div</td></tr><tr><td class='upgini-text'><a href='https://upgini.com/#data_sources' target='_blank' rel='noopener noreferrer'>Calendar data</a>,<a href='https://upgini.com/#data_sources' target='_blank' rel='noopener noreferrer'>Markets data</a></td><td class='upgini-text'>f_autofe_mul_104</td><td class='upgini-text'>f_events_date_week_cos3_7525fe31</td><td class='upgini-text'>f_financial_date_crude_oil_1f195998</td><td class='upgini-text'>mul</td></tr><tr><td class='upgini-text'><a href='https://upgini.com/#data_sources' target='_blank' rel='noopener noreferrer'>Calendar data</a>,<a href='https://upgini.com/#data_sources' target='_blank' rel='noopener noreferrer'>Markets data</a></td><td class='upgini-text'>f_autofe_mul_106</td><td class='upgini-text'>f_events_date_week_cos3_7525fe31</td><td class='upgini-text'>f_financial_date_crude_oil_7d_to_7d_1y_shift_718136ef</td><td class='upgini-text'>mul</td></tr><tr><td class='upgini-text'><a href='https://upgini.com/#data_sources' target='_blank' rel='noopener noreferrer'>Calendar data</a>,<a href='https://upgini.com/#data_sources' target='_blank' rel='noopener noreferrer'>Markets data</a></td><td class='upgini-text'>f_autofe_mul_133</td><td class='upgini-text'>f_events_date_week_cos3_7525fe31</td><td class='upgini-text'>f_financial_date_vix_7d_to_1y_634c77eb</td><td class='upgini-text'>mul</td></tr><tr><td class='upgini-text'><a href='https://upgini.com/#data_sources' target='_blank' rel='noopener noreferrer'>Calendar data</a>,<a href='https://upgini.com/#data_sources' target='_blank' rel='noopener noreferrer'>Markets data</a></td><td class='upgini-text'>f_autofe_div_1186</td><td class='upgini-text'>f_events_date_week_cos3_7525fe31</td><td class='upgini-text'>f_financial_date_crude_oil_7d_to_1y_c3e0ad17</td><td class='upgini-text'>div</td></tr><tr><td class='upgini-text'><a href='https://upgini.com/#data_sources' target='_blank' rel='noopener noreferrer'>Calendar data</a>,<a href='https://upgini.com/#data_sources' target='_blank' rel='noopener noreferrer'>Markets data</a></td><td class='upgini-text'>f_autofe_div_1199</td><td class='upgini-text'>f_events_date_week_cos3_7525fe31</td><td class='upgini-text'>f_financial_date_silver_7d_to_7d_1y_shift_55fa8001</td><td class='upgini-text'>div</td></tr><tr><td class='upgini-text'><a href='https://upgini.com/#data_sources' target='_blank' rel='noopener noreferrer'>Calendar data</a></td><td class='upgini-text'>f_autofe_mul_144</td><td class='upgini-text'>f_events_date_week_sin1_847b5db1</td><td class='upgini-text'>f_events_date_year_sin3_e4c1ec0e</td><td class='upgini-text'>mul</td></tr><tr><td class='upgini-text'><a href='https://upgini.com/#data_sources' target='_blank' rel='noopener noreferrer'>Calendar data</a>,<a href='https://upgini.com/#data_sources' target='_blank' rel='noopener noreferrer'>Markets data</a></td><td class='upgini-text'>f_autofe_mul_147</td><td class='upgini-text'>f_events_date_week_sin1_847b5db1</td><td class='upgini-text'>f_financial_date_crude_oil_1f195998</td><td class='upgini-text'>mul</td></tr><tr><td class='upgini-text'><a href='https://upgini.com/#data_sources' target='_blank' rel='noopener noreferrer'>Calendar data</a>,<a href='https://upgini.com/#data_sources' target='_blank' rel='noopener noreferrer'>Markets data</a></td><td class='upgini-text'>f_autofe_mul_148</td><td class='upgini-text'>f_events_date_week_sin1_847b5db1</td><td class='upgini-text'>f_financial_date_crude_oil_7d_to_1y_c3e0ad17</td><td class='upgini-text'>mul</td></tr><tr><td class='upgini-text'><a href='https://upgini.com/#data_sources' target='_blank' rel='noopener noreferrer'>Calendar data</a>,<a href='https://upgini.com/#data_sources' target='_blank' rel='noopener noreferrer'>Markets data</a></td><td class='upgini-text'>f_autofe_mul_149</td><td class='upgini-text'>f_events_date_week_sin1_847b5db1</td><td class='upgini-text'>f_financial_date_crude_oil_7d_to_7d_1y_shift_718136ef</td><td class='upgini-text'>mul</td></tr><tr><td class='upgini-text'><a href='https://upgini.com/#data_sources' target='_blank' rel='noopener noreferrer'>Calendar data</a>,<a href='https://upgini.com/#data_sources' target='_blank' rel='noopener noreferrer'>Markets data</a></td><td class='upgini-text'>f_autofe_mul_151</td><td class='upgini-text'>f_events_date_week_sin1_847b5db1</td><td class='upgini-text'>f_financial_date_gold_7d_to_1y_ae310379</td><td class='upgini-text'>mul</td></tr><tr><td class='upgini-text'><a href='https://upgini.com/#data_sources' target='_blank' rel='noopener noreferrer'>Calendar data</a>,<a href='https://upgini.com/#data_sources' target='_blank' rel='noopener noreferrer'>Markets data</a></td><td class='upgini-text'>f_autofe_mul_158</td><td class='upgini-text'>f_events_date_week_sin1_847b5db1</td><td class='upgini-text'>f_financial_date_natural_gas_7d_to_7d_1y_shift_a5c3c07f</td><td class='upgini-text'>mul</td></tr><tr><td class='upgini-text'><a href='https://upgini.com/#data_sources' target='_blank' rel='noopener noreferrer'>Calendar data</a>,<a href='https://upgini.com/#data_sources' target='_blank' rel='noopener noreferrer'>Markets data</a></td><td class='upgini-text'>f_autofe_div_1228</td><td class='upgini-text'>f_events_date_week_sin1_847b5db1</td><td class='upgini-text'>f_financial_date_crude_oil_1f195998</td><td class='upgini-text'>div</td></tr><tr><td class='upgini-text'><a href='https://upgini.com/#data_sources' target='_blank' rel='noopener noreferrer'>Calendar data</a>,<a href='https://upgini.com/#data_sources' target='_blank' rel='noopener noreferrer'>Markets data</a></td><td class='upgini-text'>f_autofe_div_1229</td><td class='upgini-text'>f_events_date_week_sin1_847b5db1</td><td class='upgini-text'>f_financial_date_crude_oil_7d_to_1y_c3e0ad17</td><td class='upgini-text'>div</td></tr><tr><td class='upgini-text'><a href='https://upgini.com/#data_sources' target='_blank' rel='noopener noreferrer'>Calendar data</a>,<a href='https://upgini.com/#data_sources' target='_blank' rel='noopener noreferrer'>Markets data</a></td><td class='upgini-text'>f_autofe_div_1234</td><td class='upgini-text'>f_events_date_week_sin1_847b5db1</td><td class='upgini-text'>f_financial_date_nasdaq_7d_to_1y_b00bfaa7</td><td class='upgini-text'>div</td></tr><tr><td class='upgini-text'><a href='https://upgini.com/#data_sources' target='_blank' rel='noopener noreferrer'>Calendar data</a>,<a href='https://upgini.com/#data_sources' target='_blank' rel='noopener noreferrer'>Markets data</a></td><td class='upgini-text'>f_autofe_div_1235</td><td class='upgini-text'>f_events_date_week_sin1_847b5db1</td><td class='upgini-text'>f_financial_date_nasdaq_7d_to_7d_1y_shift_4a4dd6ce</td><td class='upgini-text'>div</td></tr><tr><td class='upgini-text'><a href='https://upgini.com/#data_sources' target='_blank' rel='noopener noreferrer'>Calendar data</a>,<a href='https://upgini.com/#data_sources' target='_blank' rel='noopener noreferrer'>Markets data</a></td><td class='upgini-text'>f_autofe_mul_200</td><td class='upgini-text'>f_events_date_week_sin2_e28440a5</td><td class='upgini-text'>f_financial_date_natural_gas_7d_to_7d_1y_shift_a5c3c07f</td><td class='upgini-text'>mul</td></tr><tr><td class='upgini-text'><a href='https://upgini.com/#data_sources' target='_blank' rel='noopener noreferrer'>Calendar data</a>,<a href='https://upgini.com/#data_sources' target='_blank' rel='noopener noreferrer'>Markets data</a></td><td class='upgini-text'>f_autofe_mul_203</td><td class='upgini-text'>f_events_date_week_sin2_e28440a5</td><td class='upgini-text'>f_financial_date_silver_7d_to_7d_1y_shift_55fa8001</td><td class='upgini-text'>mul</td></tr><tr><td class='upgini-text'><a href='https://upgini.com/#data_sources' target='_blank' rel='noopener noreferrer'>Calendar data</a>,<a href='https://upgini.com/#data_sources' target='_blank' rel='noopener noreferrer'>Markets data</a></td><td class='upgini-text'>f_autofe_mul_218</td><td class='upgini-text'>f_events_date_week_sin2_e28440a5</td><td class='upgini-text'>f_financial_date_vix_7d_to_1y_634c77eb</td><td class='upgini-text'>mul</td></tr><tr><td class='upgini-text'><a href='https://upgini.com/#data_sources' target='_blank' rel='noopener noreferrer'>Calendar data</a>,<a href='https://upgini.com/#data_sources' target='_blank' rel='noopener noreferrer'>Markets data</a></td><td class='upgini-text'>f_autofe_div_1271</td><td class='upgini-text'>f_events_date_week_sin2_e28440a5</td><td class='upgini-text'>f_financial_date_crude_oil_7d_to_1y_c3e0ad17</td><td class='upgini-text'>div</td></tr><tr><td class='upgini-text'><a href='https://upgini.com/#data_sources' target='_blank' rel='noopener noreferrer'>Calendar data</a>,<a href='https://upgini.com/#data_sources' target='_blank' rel='noopener noreferrer'>Markets data</a></td><td class='upgini-text'>f_autofe_div_1311</td><td class='upgini-text'>f_events_date_year_cos1_9014a856</td><td class='upgini-text'>f_financial_date_crude_oil_1f195998</td><td class='upgini-text'>div</td></tr><tr><td class='upgini-text'><a href='https://upgini.com/#data_sources' target='_blank' rel='noopener noreferrer'>Calendar data</a>,<a href='https://upgini.com/#data_sources' target='_blank' rel='noopener noreferrer'>Markets data</a></td><td class='upgini-text'>f_autofe_div_1312</td><td class='upgini-text'>f_events_date_year_cos1_9014a856</td><td class='upgini-text'>f_financial_date_crude_oil_7d_to_1y_c3e0ad17</td><td class='upgini-text'>div</td></tr><tr><td class='upgini-text'><a href='https://upgini.com/#data_sources' target='_blank' rel='noopener noreferrer'>Calendar data</a>,<a href='https://upgini.com/#data_sources' target='_blank' rel='noopener noreferrer'>Markets data</a></td><td class='upgini-text'>f_autofe_div_1313</td><td class='upgini-text'>f_events_date_year_cos1_9014a856</td><td class='upgini-text'>f_financial_date_crude_oil_7d_to_7d_1y_shift_718136ef</td><td class='upgini-text'>div</td></tr><tr><td class='upgini-text'><a href='https://upgini.com/#data_sources' target='_blank' rel='noopener noreferrer'>Calendar data</a></td><td class='upgini-text'>f_autofe_mul_265</td><td class='upgini-text'>f_events_date_year_cos2_7acbaf1b</td><td class='upgini-text'>f_events_date_year_sin1_3c44bc64</td><td class='upgini-text'>mul</td></tr><tr><td class='upgini-text'><a href='https://upgini.com/#data_sources' target='_blank' rel='noopener noreferrer'>Calendar data</a></td><td class='upgini-text'>f_autofe_mul_342</td><td class='upgini-text'>f_events_date_year_cos5_59183b20</td><td class='upgini-text'>f_events_date_year_sin1_3c44bc64</td><td class='upgini-text'>mul</td></tr><tr><td class='upgini-text'><a href='https://upgini.com/#data_sources' target='_blank' rel='noopener noreferrer'>Calendar data</a></td><td class='upgini-text'>f_autofe_mul_453</td><td class='upgini-text'>f_events_date_year_sin1_3c44bc64</td><td class='upgini-text'>f_events_date_year_sin6_af4ea895</td><td class='upgini-text'>mul</td></tr><tr><td class='upgini-text'><a href='https://upgini.com/#data_sources' target='_blank' rel='noopener noreferrer'>Calendar data</a>,<a href='https://upgini.com/#data_sources' target='_blank' rel='noopener noreferrer'>Markets data</a></td><td class='upgini-text'>f_autofe_div_1611</td><td class='upgini-text'>f_events_date_year_sin3_e4c1ec0e</td><td class='upgini-text'>f_financial_date_natural_gas_92dac942</td><td class='upgini-text'>div</td></tr><tr><td class='upgini-text'><a href='https://upgini.com/#data_sources' target='_blank' rel='noopener noreferrer'>Markets data</a></td><td class='upgini-text'>f_autofe_mul_626</td><td class='upgini-text'>f_financial_date_crude_oil_1f195998</td><td class='upgini-text'>f_financial_date_natural_gas_7d_to_7d_1y_shift_a5c3c07f</td><td class='upgini-text'>mul</td></tr><tr><td class='upgini-text'><a href='https://upgini.com/#data_sources' target='_blank' rel='noopener noreferrer'>Markets data</a></td><td class='upgini-text'>f_autofe_mul_658</td><td class='upgini-text'>f_financial_date_crude_oil_7d_to_1y_c3e0ad17</td><td class='upgini-text'>f_financial_date_silver_7d_to_7d_1y_shift_55fa8001</td><td class='upgini-text'>mul</td></tr><tr><td class='upgini-text'><a href='https://upgini.com/#data_sources' target='_blank' rel='noopener noreferrer'>Markets data</a></td><td class='upgini-text'>f_autofe_div_1732</td><td class='upgini-text'>f_financial_date_crude_oil_7d_to_1y_c3e0ad17</td><td class='upgini-text'>f_financial_date_nasdaq_7d_to_7d_1y_shift_4a4dd6ce</td><td class='upgini-text'>div</td></tr><tr><td class='upgini-text'><a href='https://upgini.com/#data_sources' target='_blank' rel='noopener noreferrer'>Markets data</a></td><td class='upgini-text'>f_autofe_mul_710</td><td class='upgini-text'>f_financial_date_gold_1d_to_7d_742a0045</td><td class='upgini-text'>f_financial_date_natural_gas_7d_to_7d_1y_shift_a5c3c07f</td><td class='upgini-text'>mul</td></tr><tr><td class='upgini-text'><a href='https://upgini.com/#data_sources' target='_blank' rel='noopener noreferrer'>Markets data</a></td><td class='upgini-text'>f_autofe_mul_794</td><td class='upgini-text'>f_financial_date_nasdaq_7d_to_1y_b00bfaa7</td><td class='upgini-text'>f_financial_date_stoxx_7d_to_1y_2ea815f4</td><td class='upgini-text'>mul</td></tr><tr><td class='upgini-text'><a href='https://upgini.com/#data_sources' target='_blank' rel='noopener noreferrer'>Markets data</a></td><td class='upgini-text'>f_autofe_div_1872</td><td class='upgini-text'>f_financial_date_nasdaq_7d_to_1y_b00bfaa7</td><td class='upgini-text'>f_financial_date_snp500_7d_to_1y_378b9f99</td><td class='upgini-text'>div</td></tr><tr><td class='upgini-text'><a href='https://upgini.com/#data_sources' target='_blank' rel='noopener noreferrer'>Markets data</a></td><td class='upgini-text'>f_autofe_div_1876</td><td class='upgini-text'>f_financial_date_nasdaq_7d_to_1y_b00bfaa7</td><td class='upgini-text'>f_financial_date_stoxx_7d_to_7d_1y_shift_abef6e91</td><td class='upgini-text'>div</td></tr><tr><td class='upgini-text'><a href='https://upgini.com/#data_sources' target='_blank' rel='noopener noreferrer'>Markets data</a></td><td class='upgini-text'>f_autofe_mul_815</td><td class='upgini-text'>f_financial_date_nasdaq_7d_to_7d_1y_shift_4a4dd6ce</td><td class='upgini-text'>f_financial_date_stoxx_043cbcd4</td><td class='upgini-text'>mul</td></tr><tr><td class='upgini-text'><a href='https://upgini.com/#data_sources' target='_blank' rel='noopener noreferrer'>Markets data</a></td><td class='upgini-text'>f_autofe_div_1895</td><td class='upgini-text'>f_financial_date_nasdaq_7d_to_7d_1y_shift_4a4dd6ce</td><td class='upgini-text'>f_financial_date_snp500_7d_to_1y_378b9f99</td><td class='upgini-text'>div</td></tr><tr><td class='upgini-text'><a href='https://upgini.com/#data_sources' target='_blank' rel='noopener noreferrer'>Markets data</a></td><td class='upgini-text'>f_autofe_div_1910</td><td class='upgini-text'>f_financial_date_natural_gas_92dac942</td><td class='upgini-text'>f_financial_date_natural_gas_7d_to_1y_7a6f300d</td><td class='upgini-text'>div</td></tr><tr><td class='upgini-text'><a href='https://upgini.com/#data_sources' target='_blank' rel='noopener noreferrer'>Markets data</a></td><td class='upgini-text'>f_autofe_div_1974</td><td class='upgini-text'>f_financial_date_natural_gas_7d_to_7d_1y_shift_a5c3c07f</td><td class='upgini-text'>f_financial_date_silver_7d_to_7d_1y_shift_55fa8001</td><td class='upgini-text'>div</td></tr><tr><td class='upgini-text'><a href='https://upgini.com/#data_sources' target='_blank' rel='noopener noreferrer'>Markets data</a></td><td class='upgini-text'>f_autofe_div_1992</td><td class='upgini-text'>f_financial_date_silver_e4e33014</td><td class='upgini-text'>f_financial_date_silver_7d_to_7d_1y_shift_55fa8001</td><td class='upgini-text'>div</td></tr><tr><td class='upgini-text'><a href='https://upgini.com/#data_sources' target='_blank' rel='noopener noreferrer'>Markets data</a></td><td class='upgini-text'>f_autofe_div_1998</td><td class='upgini-text'>f_financial_date_silver_e4e33014</td><td class='upgini-text'>f_financial_date_stoxx_7d_to_1y_2ea815f4</td><td class='upgini-text'>div</td></tr><tr><td class='upgini-text'><a href='https://upgini.com/#data_sources' target='_blank' rel='noopener noreferrer'>Markets data</a></td><td class='upgini-text'>f_autofe_div_2028</td><td class='upgini-text'>f_financial_date_silver_7d_to_7d_1y_shift_55fa8001</td><td class='upgini-text'>f_financial_date_snp500_7d_to_1y_378b9f99</td><td class='upgini-text'>div</td></tr><tr><td class='upgini-text'><a href='https://upgini.com/#data_sources' target='_blank' rel='noopener noreferrer'>Markets data</a></td><td class='upgini-text'>f_autofe_div_2040</td><td class='upgini-text'>f_financial_date_silver_7d_to_7d_1y_shift_55fa8001</td><td class='upgini-text'>f_financial_date_vix_7d_to_1y_634c77eb</td><td class='upgini-text'>div</td></tr><tr><td class='upgini-text'><a href='https://upgini.com/#data_sources' target='_blank' rel='noopener noreferrer'>Markets data</a></td><td class='upgini-text'>f_autofe_div_2071</td><td class='upgini-text'>f_financial_date_snp500_7d_to_1y_378b9f99</td><td class='upgini-text'>f_financial_date_stoxx_043cbcd4</td><td class='upgini-text'>div</td></tr><tr><td class='upgini-text'><a href='https://upgini.com/#data_sources' target='_blank' rel='noopener noreferrer'>Markets data</a></td><td class='upgini-text'>f_autofe_div_2088</td><td class='upgini-text'>f_financial_date_stoxx_043cbcd4</td><td class='upgini-text'>f_financial_date_usd_7d_to_7d_1y_shift_35cb53e9</td><td class='upgini-text'>div</td></tr></tbody></table>\n",
              "        </div>\n",
              "        "
            ]
          },
          "metadata": {}
        },
        {
          "output_type": "stream",
          "name": "stdout",
          "text": [
            "We detected 113 outliers in your sample.\n",
            "Examples of outliers with maximum value of target:\n",
            "84    205\n",
            "47    196\n",
            "38    187\n",
            "Name: target, dtype: int64\n",
            "Outliers will be excluded during the metrics calculation.\n",
            "Before dropping target outliers size: 19000\n",
            "After dropping target outliers size: 18887\n",
            "Calculating accuracy uplift after enrichment...\n",
            "\n",
            "WARNING: y distributions from the training sample and eval_set differ according to the Kolmogorov-Smirnov test,\n",
            "which makes metrics between the train and eval_set incomparable.\n"
          ]
        },
        {
          "output_type": "display_data",
          "data": {
            "text/plain": [
              "<IPython.core.display.HTML object>"
            ],
            "text/html": [
              "<style>\n",
              "            .upgini-df thead th {\n",
              "                font-weight:bold;\n",
              "                text-align: center;\n",
              "                padding: 0.5em;\n",
              "                border-bottom: 2px solid black;\n",
              "            }\n",
              "\n",
              "            .upgini-df tbody td {\n",
              "                padding: 0.5em;\n",
              "            }\n",
              "\n",
              "            .upgini-df tbody tr:nth-child(odd) {\n",
              "                background-color: #ffffff;\n",
              "            }\n",
              "\n",
              "            .upgini-df tbody tr:nth-child(even) {\n",
              "                background-color: #f2f2f2;\n",
              "            }\n",
              "\n",
              "            .upgini-text {\n",
              "                text-align: left;\n",
              "            }\n",
              "\n",
              "            .upgini-number {\n",
              "                text-align: center;\n",
              "            }\n",
              "        </style>\n",
              "        <h2>Accuracy after enrichment</h2>\n",
              "        <div style=\"display:flex; flex-direction:column; align-items:flex-end; width: fit-content;\">\n",
              "            <div style=\"text-align: right\">\n",
              "                <button onclick=navigator.clipboard.writeText(decodeURI('Dataset%20type%09Rows%09Mean%20target%09Baseline%20mean_squared_error%09Enriched%20mean_squared_error%09Uplift%0ATrain%0915213%0949.9541%09319.71112809943713%09219.17584854410333%09100.5352795553338%0AEval%201%093787%0959.2424%09512.6347770828363%09474.3847663906137%0938.25001069222259%0A'))>📂 Copy</button>\n",
              "                <a href='mailto:<Share with...>?subject=Relevant external data sources from Upgini.com&body=Dataset%20type%09Rows%09Mean%20target%09Baseline%20mean_squared_error%09Enriched%20mean_squared_error%09Uplift%0ATrain%0915213%0949.9541%09319.71112809943713%09219.17584854410333%09100.5352795553338%0AEval%201%093787%0959.2424%09512.6347770828363%09474.3847663906137%0938.25001069222259%0A'>\n",
              "                    <button>📨 Share</button>\n",
              "                </a>\n",
              "            </div>\n",
              "            <table class='upgini-df'><thead><th>Dataset type</th><th>Rows</th><th>Mean target</th><th>Baseline mean_squared_error</th><th>Enriched mean_squared_error</th><th>Uplift</th></thead><tbody><tr><td class='upgini-text'>Train</td><td class='upgini-number'>15213</td><td class='upgini-number'>49.9541</td><td class='upgini-number'>319.7111</td><td class='upgini-number'>219.1758</td><td class='upgini-number'>100.5353</td></tr><tr><td class='upgini-text'>Eval 1</td><td class='upgini-number'>3787</td><td class='upgini-number'>59.2424</td><td class='upgini-number'>512.6348</td><td class='upgini-number'>474.3848</td><td class='upgini-number'>38.2500</td></tr></tbody></table>\n",
              "        </div>\n",
              "        "
            ]
          },
          "metadata": {}
        },
        {
          "output_type": "display_data",
          "data": {
            "text/plain": [
              "<IPython.core.display.HTML object>"
            ],
            "text/html": [
              "<a download=\"upgini-report-a02321bc-dfb7-4f5c-b27c-663576708feb.pdf\" href=\"data:application/pdf;base64,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\" target=\"_blank\">\n",
              "        <button>📊 Download PDF report</button></a>"
            ]
          },
          "metadata": {}
        }
      ]
    },
    {
      "cell_type": "code",
      "source": [
        "from catboost import CatBoostRegressor\n",
        "from catboost.utils import eval_metric\n",
        "\n",
        "model = CatBoostRegressor(verbose= False, allow_writing_files=True, random_state=0)\n",
        "\n",
        "enricher.calculate_metrics(\n",
        "    train_features, train_target,\n",
        "    eval_set = [(test_features, test_target)],\n",
        "    estimator= model,\n",
        "    scoring = \"mean_absolute_percentage_error\"\n",
        ")"
      ],
      "metadata": {
        "colab": {
          "base_uri": "https://localhost:8080/",
          "height": 221
        },
        "id": "uJy3Kx7UPdFb",
        "outputId": "01925987-45bc-4ae6-94ab-37d6bd11ebc8"
      },
      "execution_count": null,
      "outputs": [
        {
          "output_type": "stream",
          "name": "stdout",
          "text": [
            "Calculating accuracy uplift after enrichment...\n",
            "-\r\n",
            "WARNING: y distributions from the training sample and eval_set differ according to the Kolmogorov-Smirnov test,\n",
            "which makes metrics between the train and eval_set incomparable.\n"
          ]
        },
        {
          "output_type": "execute_result",
          "data": {
            "text/plain": [
              "  Dataset type   Rows  Mean target  Baseline mean_absolute_percentage_error  \\\n",
              "0        Train  15213      49.9541                                 0.314875   \n",
              "1       Eval 1   3787      59.2424                                 0.284111   \n",
              "\n",
              "   Enriched mean_absolute_percentage_error    Uplift  \n",
              "0                                 0.203531  0.111343  \n",
              "1                                 0.219429  0.064682  "
            ],
            "text/html": [
              "\n",
              "  <div id=\"df-5c3dc878-844b-4272-b4a5-ab46d7ef1793\" class=\"colab-df-container\">\n",
              "    <div>\n",
              "<style scoped>\n",
              "    .dataframe tbody tr th:only-of-type {\n",
              "        vertical-align: middle;\n",
              "    }\n",
              "\n",
              "    .dataframe tbody tr th {\n",
              "        vertical-align: top;\n",
              "    }\n",
              "\n",
              "    .dataframe thead th {\n",
              "        text-align: right;\n",
              "    }\n",
              "</style>\n",
              "<table border=\"1\" class=\"dataframe\">\n",
              "  <thead>\n",
              "    <tr style=\"text-align: right;\">\n",
              "      <th></th>\n",
              "      <th>Dataset type</th>\n",
              "      <th>Rows</th>\n",
              "      <th>Mean target</th>\n",
              "      <th>Baseline mean_absolute_percentage_error</th>\n",
              "      <th>Enriched mean_absolute_percentage_error</th>\n",
              "      <th>Uplift</th>\n",
              "    </tr>\n",
              "  </thead>\n",
              "  <tbody>\n",
              "    <tr>\n",
              "      <th>0</th>\n",
              "      <td>Train</td>\n",
              "      <td>15213</td>\n",
              "      <td>49.9541</td>\n",
              "      <td>0.314875</td>\n",
              "      <td>0.203531</td>\n",
              "      <td>0.111343</td>\n",
              "    </tr>\n",
              "    <tr>\n",
              "      <th>1</th>\n",
              "      <td>Eval 1</td>\n",
              "      <td>3787</td>\n",
              "      <td>59.2424</td>\n",
              "      <td>0.284111</td>\n",
              "      <td>0.219429</td>\n",
              "      <td>0.064682</td>\n",
              "    </tr>\n",
              "  </tbody>\n",
              "</table>\n",
              "</div>\n",
              "    <div class=\"colab-df-buttons\">\n",
              "\n",
              "  <div class=\"colab-df-container\">\n",
              "    <button class=\"colab-df-convert\" onclick=\"convertToInteractive('df-5c3dc878-844b-4272-b4a5-ab46d7ef1793')\"\n",
              "            title=\"Convert this dataframe to an interactive table.\"\n",
              "            style=\"display:none;\">\n",
              "\n",
              "  <svg xmlns=\"http://www.w3.org/2000/svg\" height=\"24px\" viewBox=\"0 -960 960 960\">\n",
              "    <path d=\"M120-120v-720h720v720H120Zm60-500h600v-160H180v160Zm220 220h160v-160H400v160Zm0 220h160v-160H400v160ZM180-400h160v-160H180v160Zm440 0h160v-160H620v160ZM180-180h160v-160H180v160Zm440 0h160v-160H620v160Z\"/>\n",
              "  </svg>\n",
              "    </button>\n",
              "\n",
              "  <style>\n",
              "    .colab-df-container {\n",
              "      display:flex;\n",
              "      gap: 12px;\n",
              "    }\n",
              "\n",
              "    .colab-df-convert {\n",
              "      background-color: #E8F0FE;\n",
              "      border: none;\n",
              "      border-radius: 50%;\n",
              "      cursor: pointer;\n",
              "      display: none;\n",
              "      fill: #1967D2;\n",
              "      height: 32px;\n",
              "      padding: 0 0 0 0;\n",
              "      width: 32px;\n",
              "    }\n",
              "\n",
              "    .colab-df-convert:hover {\n",
              "      background-color: #E2EBFA;\n",
              "      box-shadow: 0px 1px 2px rgba(60, 64, 67, 0.3), 0px 1px 3px 1px rgba(60, 64, 67, 0.15);\n",
              "      fill: #174EA6;\n",
              "    }\n",
              "\n",
              "    .colab-df-buttons div {\n",
              "      margin-bottom: 4px;\n",
              "    }\n",
              "\n",
              "    [theme=dark] .colab-df-convert {\n",
              "      background-color: #3B4455;\n",
              "      fill: #D2E3FC;\n",
              "    }\n",
              "\n",
              "    [theme=dark] .colab-df-convert:hover {\n",
              "      background-color: #434B5C;\n",
              "      box-shadow: 0px 1px 3px 1px rgba(0, 0, 0, 0.15);\n",
              "      filter: drop-shadow(0px 1px 2px rgba(0, 0, 0, 0.3));\n",
              "      fill: #FFFFFF;\n",
              "    }\n",
              "  </style>\n",
              "\n",
              "    <script>\n",
              "      const buttonEl =\n",
              "        document.querySelector('#df-5c3dc878-844b-4272-b4a5-ab46d7ef1793 button.colab-df-convert');\n",
              "      buttonEl.style.display =\n",
              "        google.colab.kernel.accessAllowed ? 'block' : 'none';\n",
              "\n",
              "      async function convertToInteractive(key) {\n",
              "        const element = document.querySelector('#df-5c3dc878-844b-4272-b4a5-ab46d7ef1793');\n",
              "        const dataTable =\n",
              "          await google.colab.kernel.invokeFunction('convertToInteractive',\n",
              "                                                    [key], {});\n",
              "        if (!dataTable) return;\n",
              "\n",
              "        const docLinkHtml = 'Like what you see? Visit the ' +\n",
              "          '<a target=\"_blank\" href=https://colab.research.google.com/notebooks/data_table.ipynb>data table notebook</a>'\n",
              "          + ' to learn more about interactive tables.';\n",
              "        element.innerHTML = '';\n",
              "        dataTable['output_type'] = 'display_data';\n",
              "        await google.colab.output.renderOutput(dataTable, element);\n",
              "        const docLink = document.createElement('div');\n",
              "        docLink.innerHTML = docLinkHtml;\n",
              "        element.appendChild(docLink);\n",
              "      }\n",
              "    </script>\n",
              "  </div>\n",
              "\n",
              "\n",
              "<div id=\"df-255ba793-5219-4538-bc92-3bce8beffd53\">\n",
              "  <button class=\"colab-df-quickchart\" onclick=\"quickchart('df-255ba793-5219-4538-bc92-3bce8beffd53')\"\n",
              "            title=\"Suggest charts\"\n",
              "            style=\"display:none;\">\n",
              "\n",
              "<svg xmlns=\"http://www.w3.org/2000/svg\" height=\"24px\"viewBox=\"0 0 24 24\"\n",
              "     width=\"24px\">\n",
              "    <g>\n",
              "        <path d=\"M19 3H5c-1.1 0-2 .9-2 2v14c0 1.1.9 2 2 2h14c1.1 0 2-.9 2-2V5c0-1.1-.9-2-2-2zM9 17H7v-7h2v7zm4 0h-2V7h2v10zm4 0h-2v-4h2v4z\"/>\n",
              "    </g>\n",
              "</svg>\n",
              "  </button>\n",
              "\n",
              "<style>\n",
              "  .colab-df-quickchart {\n",
              "      --bg-color: #E8F0FE;\n",
              "      --fill-color: #1967D2;\n",
              "      --hover-bg-color: #E2EBFA;\n",
              "      --hover-fill-color: #174EA6;\n",
              "      --disabled-fill-color: #AAA;\n",
              "      --disabled-bg-color: #DDD;\n",
              "  }\n",
              "\n",
              "  [theme=dark] .colab-df-quickchart {\n",
              "      --bg-color: #3B4455;\n",
              "      --fill-color: #D2E3FC;\n",
              "      --hover-bg-color: #434B5C;\n",
              "      --hover-fill-color: #FFFFFF;\n",
              "      --disabled-bg-color: #3B4455;\n",
              "      --disabled-fill-color: #666;\n",
              "  }\n",
              "\n",
              "  .colab-df-quickchart {\n",
              "    background-color: var(--bg-color);\n",
              "    border: none;\n",
              "    border-radius: 50%;\n",
              "    cursor: pointer;\n",
              "    display: none;\n",
              "    fill: var(--fill-color);\n",
              "    height: 32px;\n",
              "    padding: 0;\n",
              "    width: 32px;\n",
              "  }\n",
              "\n",
              "  .colab-df-quickchart:hover {\n",
              "    background-color: var(--hover-bg-color);\n",
              "    box-shadow: 0 1px 2px rgba(60, 64, 67, 0.3), 0 1px 3px 1px rgba(60, 64, 67, 0.15);\n",
              "    fill: var(--button-hover-fill-color);\n",
              "  }\n",
              "\n",
              "  .colab-df-quickchart-complete:disabled,\n",
              "  .colab-df-quickchart-complete:disabled:hover {\n",
              "    background-color: var(--disabled-bg-color);\n",
              "    fill: var(--disabled-fill-color);\n",
              "    box-shadow: none;\n",
              "  }\n",
              "\n",
              "  .colab-df-spinner {\n",
              "    border: 2px solid var(--fill-color);\n",
              "    border-color: transparent;\n",
              "    border-bottom-color: var(--fill-color);\n",
              "    animation:\n",
              "      spin 1s steps(1) infinite;\n",
              "  }\n",
              "\n",
              "  @keyframes spin {\n",
              "    0% {\n",
              "      border-color: transparent;\n",
              "      border-bottom-color: var(--fill-color);\n",
              "      border-left-color: var(--fill-color);\n",
              "    }\n",
              "    20% {\n",
              "      border-color: transparent;\n",
              "      border-left-color: var(--fill-color);\n",
              "      border-top-color: var(--fill-color);\n",
              "    }\n",
              "    30% {\n",
              "      border-color: transparent;\n",
              "      border-left-color: var(--fill-color);\n",
              "      border-top-color: var(--fill-color);\n",
              "      border-right-color: var(--fill-color);\n",
              "    }\n",
              "    40% {\n",
              "      border-color: transparent;\n",
              "      border-right-color: var(--fill-color);\n",
              "      border-top-color: var(--fill-color);\n",
              "    }\n",
              "    60% {\n",
              "      border-color: transparent;\n",
              "      border-right-color: var(--fill-color);\n",
              "    }\n",
              "    80% {\n",
              "      border-color: transparent;\n",
              "      border-right-color: var(--fill-color);\n",
              "      border-bottom-color: var(--fill-color);\n",
              "    }\n",
              "    90% {\n",
              "      border-color: transparent;\n",
              "      border-bottom-color: var(--fill-color);\n",
              "    }\n",
              "  }\n",
              "</style>\n",
              "\n",
              "  <script>\n",
              "    async function quickchart(key) {\n",
              "      const quickchartButtonEl =\n",
              "        document.querySelector('#' + key + ' button');\n",
              "      quickchartButtonEl.disabled = true;  // To prevent multiple clicks.\n",
              "      quickchartButtonEl.classList.add('colab-df-spinner');\n",
              "      try {\n",
              "        const charts = await google.colab.kernel.invokeFunction(\n",
              "            'suggestCharts', [key], {});\n",
              "      } catch (error) {\n",
              "        console.error('Error during call to suggestCharts:', error);\n",
              "      }\n",
              "      quickchartButtonEl.classList.remove('colab-df-spinner');\n",
              "      quickchartButtonEl.classList.add('colab-df-quickchart-complete');\n",
              "    }\n",
              "    (() => {\n",
              "      let quickchartButtonEl =\n",
              "        document.querySelector('#df-255ba793-5219-4538-bc92-3bce8beffd53 button');\n",
              "      quickchartButtonEl.style.display =\n",
              "        google.colab.kernel.accessAllowed ? 'block' : 'none';\n",
              "    })();\n",
              "  </script>\n",
              "</div>\n",
              "    </div>\n",
              "  </div>\n"
            ]
          },
          "metadata": {},
          "execution_count": 21
        }
      ]
    },
    {
      "cell_type": "code",
      "source": [
        "# enriched_train_features = enricher.transform(train_features, keep_input = True)\n",
        "# enriched_test_features = enricher.transform(test_features, keep_input = True)\n",
        "\n",
        "batch_size = 10000\n",
        "\n",
        "# Train the model on the training data\n",
        "for i in range(0, len(train_features), batch_size):\n",
        "    batch_train_features = train_features.iloc[i:i + batch_size]\n",
        "    batch_train_labels = train_target.iloc[i:i + batch_size]\n",
        "    batch_enriched_train_features = enricher.transform(batch_train_features, keep_input=True)\n",
        "    model.fit(batch_enriched_train_features, batch_train_labels)\n",
        "\n",
        "# Evaluate the model on the test data\n",
        "for i in range(0, len(test_features), batch_size):\n",
        "    batch_test_features = test_features.iloc[i:i + batch_size]\n",
        "    batch_test_labels = test_target.iloc[i:i + batch_size]\n",
        "    batch_enriched_test_features = enricher.transform(batch_test_features, keep_input=True)\n",
        "    predictions = model.predict(batch_enriched_test_features)\n"
      ],
      "metadata": {
        "colab": {
          "base_uri": "https://localhost:8080/",
          "height": 813
        },
        "id": "iuATabSLg8ED",
        "outputId": "d440bbee-7db5-43f9-dec4-d453b4b5aed3"
      },
      "execution_count": null,
      "outputs": [
        {
          "output_type": "display_data",
          "data": {
            "text/plain": [
              "[============================================================] 100% Finished"
            ],
            "text/html": [
              "<progress style='width:60ex' max='100' value='100'></progress>  100% Finished</br>"
            ]
          },
          "metadata": {}
        },
        {
          "output_type": "stream",
          "name": "stdout",
          "text": [
            "You use Trial access to Upgini data enrichment. Limit for Trial: 10000 rows. You have already enriched: 0 rows.\n",
            "\n",
            "WARNING: Search started with DATE search key only\n",
            "Try to add other keys like the COUNTRY, POSTAL_CODE, PHONE NUMBER, EMAIL/HEM, IPv4 to your training dataset\n",
            "for search through all the available data sources.\n",
            "See docs https://github.com/upgini/upgini#-total-239-countries-and-up-to-41-years-of-history\n"
          ]
        },
        {
          "output_type": "display_data",
          "data": {
            "text/plain": [
              "<IPython.core.display.HTML object>"
            ],
            "text/html": [
              "<table><tr><th style='font-weight:bold'>Column name</th><th style='font-weight:bold'>Status</th><th style='font-weight:bold'>Errors</th></tr><tr><td>date</td><td style='background-color:#DAF7A6;color:black'>All valid</td><td>-</td></tr></table>"
            ]
          },
          "metadata": {}
        },
        {
          "output_type": "stream",
          "name": "stdout",
          "text": [
            "\n",
            "Running search request, search_id=bc1f36e7-0aaf-4cf3-afac-e9cb714704f6\n",
            "We'll send email notification once it's completed, just use your personal api_key from profile.upgini.com\n",
            "\n",
            "Retrieving selected features from data sources...\n"
          ]
        },
        {
          "output_type": "display_data",
          "data": {
            "text/plain": [
              "[============================================================] 100% Finished"
            ],
            "text/html": [
              "<progress style='width:60ex' max='100' value='100'></progress>  100% Finished</br>"
            ]
          },
          "metadata": {}
        },
        {
          "output_type": "stream",
          "name": "stdout",
          "text": [
            "You use Trial access to Upgini data enrichment. Limit for Trial: 10000 rows. You have already enriched: 0 rows.\n",
            "\n",
            "WARNING: Search started with DATE search key only\n",
            "Try to add other keys like the COUNTRY, POSTAL_CODE, PHONE NUMBER, EMAIL/HEM, IPv4 to your training dataset\n",
            "for search through all the available data sources.\n",
            "See docs https://github.com/upgini/upgini#-total-239-countries-and-up-to-41-years-of-history\n"
          ]
        },
        {
          "output_type": "display_data",
          "data": {
            "text/plain": [
              "<IPython.core.display.HTML object>"
            ],
            "text/html": [
              "<table><tr><th style='font-weight:bold'>Column name</th><th style='font-weight:bold'>Status</th><th style='font-weight:bold'>Errors</th></tr><tr><td>date</td><td style='background-color:#DAF7A6;color:black'>All valid</td><td>-</td></tr></table>"
            ]
          },
          "metadata": {}
        },
        {
          "output_type": "stream",
          "name": "stdout",
          "text": [
            "\n",
            "Running search request, search_id=aeb78bcd-0f8f-4f15-a9b2-57116387b57e\n",
            "We'll send email notification once it's completed, just use your personal api_key from profile.upgini.com\n",
            "\n",
            "Retrieving selected features from data sources...\n"
          ]
        },
        {
          "output_type": "display_data",
          "data": {
            "text/plain": [
              "[============================================================] 100% Finished"
            ],
            "text/html": [
              "<progress style='width:60ex' max='100' value='100'></progress>  100% Finished</br>"
            ]
          },
          "metadata": {}
        },
        {
          "output_type": "stream",
          "name": "stdout",
          "text": [
            "You use Trial access to Upgini data enrichment. Limit for Trial: 10000 rows. You have already enriched: 0 rows.\n",
            "\n",
            "WARNING: Search started with DATE search key only\n",
            "Try to add other keys like the COUNTRY, POSTAL_CODE, PHONE NUMBER, EMAIL/HEM, IPv4 to your training dataset\n",
            "for search through all the available data sources.\n",
            "See docs https://github.com/upgini/upgini#-total-239-countries-and-up-to-41-years-of-history\n"
          ]
        },
        {
          "output_type": "display_data",
          "data": {
            "text/plain": [
              "<IPython.core.display.HTML object>"
            ],
            "text/html": [
              "<table><tr><th style='font-weight:bold'>Column name</th><th style='font-weight:bold'>Status</th><th style='font-weight:bold'>Errors</th></tr><tr><td>date</td><td style='background-color:#DAF7A6;color:black'>All valid</td><td>-</td></tr></table>"
            ]
          },
          "metadata": {}
        },
        {
          "output_type": "stream",
          "name": "stdout",
          "text": [
            "\n",
            "Running search request, search_id=ddc2af18-f6a4-4831-8dc5-e94f20e925ab\n",
            "We'll send email notification once it's completed, just use your personal api_key from profile.upgini.com\n",
            "\n",
            "Retrieving selected features from data sources...\n"
          ]
        }
      ]
    },
    {
      "cell_type": "code",
      "source": [
        "batch_enriched_train_features.head()"
      ],
      "metadata": {
        "colab": {
          "base_uri": "https://localhost:8080/",
          "height": 342
        },
        "id": "UJQr4gG2jsLq",
        "outputId": "f2ae2b78-615b-4944-eca9-25033fea2d99"
      },
      "execution_count": null,
      "outputs": [
        {
          "output_type": "execute_result",
          "data": {
            "text/plain": [
              "            date store item  f_weather_date_weather_umap_31_fa6d9a99  \\\n",
              "10000 2015-08-13     4   38                                 5.427661   \n",
              "10001 2015-08-13    10   27                                 5.427661   \n",
              "10002 2015-08-13     1   50                                 5.427661   \n",
              "10003 2015-08-13     4   24                                 5.427661   \n",
              "10004 2015-08-13     9   30                                 5.427661   \n",
              "\n",
              "       f_autofe_div_1974  f_autofe_div_1910  \\\n",
              "10000           0.952119           3.309973   \n",
              "10001           0.952119           3.309973   \n",
              "10002           0.952119           3.309973   \n",
              "10003           0.952119           3.309973   \n",
              "10004           0.952119           3.309973   \n",
              "\n",
              "       f_economic_date_cbpol_pca_9_bde660b4  f_autofe_div_1313  \\\n",
              "10000                             -2.531744          -1.402788   \n",
              "10001                             -2.531744          -1.402788   \n",
              "10002                             -2.531744          -1.402788   \n",
              "10003                             -2.531744          -1.402788   \n",
              "10004                             -2.531744          -1.402788   \n",
              "\n",
              "       f_autofe_div_1235  f_autofe_mul_626  ...  \\\n",
              "10000           0.375288         31.062431  ...   \n",
              "10001           0.375288         31.062431  ...   \n",
              "10002           0.375288         31.062431  ...   \n",
              "10003           0.375288         31.062431  ...   \n",
              "10004           0.375288         31.062431  ...   \n",
              "\n",
              "       f_economic_date_cbpol_umap_4_c5ce4e90  f_autofe_div_2071  \\\n",
              "10000                               8.467068            0.00265   \n",
              "10001                               8.467068            0.00265   \n",
              "10002                               8.467068            0.00265   \n",
              "10003                               8.467068            0.00265   \n",
              "10004                               8.467068            0.00265   \n",
              "\n",
              "       f_autofe_div_1998  f_autofe_mul_710  f_autofe_mul_453  \\\n",
              "10000          14.429237          0.731795          0.636549   \n",
              "10001          14.429237          0.731795          0.636549   \n",
              "10002          14.429237          0.731795          0.636549   \n",
              "10003          14.429237          0.731795          0.636549   \n",
              "10004          14.429237          0.731795          0.636549   \n",
              "\n",
              "       f_economic_date_cpi_umap_9_b7d42666  f_autofe_mul_342  \\\n",
              "10000                             1.530799         -0.213943   \n",
              "10001                             1.530799         -0.213943   \n",
              "10002                             1.530799         -0.213943   \n",
              "10003                             1.530799         -0.213943   \n",
              "10004                             1.530799         -0.213943   \n",
              "\n",
              "       f_economic_date_cbpol_pca_1_31e5f62c  f_autofe_div_1732  \\\n",
              "10000                             -4.003987           0.600421   \n",
              "10001                             -4.003987           0.600421   \n",
              "10002                             -4.003987           0.600421   \n",
              "10003                             -4.003987           0.600421   \n",
              "10004                             -4.003987           0.600421   \n",
              "\n",
              "       f_autofe_mul_265  \n",
              "10000          0.155667  \n",
              "10001          0.155667  \n",
              "10002          0.155667  \n",
              "10003          0.155667  \n",
              "10004          0.155667  \n",
              "\n",
              "[5 rows x 35 columns]"
            ],
            "text/html": [
              "\n",
              "  <div id=\"df-c9dd1150-18f7-400d-bf9a-5cc563dcf094\" class=\"colab-df-container\">\n",
              "    <div>\n",
              "<style scoped>\n",
              "    .dataframe tbody tr th:only-of-type {\n",
              "        vertical-align: middle;\n",
              "    }\n",
              "\n",
              "    .dataframe tbody tr th {\n",
              "        vertical-align: top;\n",
              "    }\n",
              "\n",
              "    .dataframe thead th {\n",
              "        text-align: right;\n",
              "    }\n",
              "</style>\n",
              "<table border=\"1\" class=\"dataframe\">\n",
              "  <thead>\n",
              "    <tr style=\"text-align: right;\">\n",
              "      <th></th>\n",
              "      <th>date</th>\n",
              "      <th>store</th>\n",
              "      <th>item</th>\n",
              "      <th>f_weather_date_weather_umap_31_fa6d9a99</th>\n",
              "      <th>f_autofe_div_1974</th>\n",
              "      <th>f_autofe_div_1910</th>\n",
              "      <th>f_economic_date_cbpol_pca_9_bde660b4</th>\n",
              "      <th>f_autofe_div_1313</th>\n",
              "      <th>f_autofe_div_1235</th>\n",
              "      <th>f_autofe_mul_626</th>\n",
              "      <th>...</th>\n",
              "      <th>f_economic_date_cbpol_umap_4_c5ce4e90</th>\n",
              "      <th>f_autofe_div_2071</th>\n",
              "      <th>f_autofe_div_1998</th>\n",
              "      <th>f_autofe_mul_710</th>\n",
              "      <th>f_autofe_mul_453</th>\n",
              "      <th>f_economic_date_cpi_umap_9_b7d42666</th>\n",
              "      <th>f_autofe_mul_342</th>\n",
              "      <th>f_economic_date_cbpol_pca_1_31e5f62c</th>\n",
              "      <th>f_autofe_div_1732</th>\n",
              "      <th>f_autofe_mul_265</th>\n",
              "    </tr>\n",
              "  </thead>\n",
              "  <tbody>\n",
              "    <tr>\n",
              "      <th>10000</th>\n",
              "      <td>2015-08-13</td>\n",
              "      <td>4</td>\n",
              "      <td>38</td>\n",
              "      <td>5.427661</td>\n",
              "      <td>0.952119</td>\n",
              "      <td>3.309973</td>\n",
              "      <td>-2.531744</td>\n",
              "      <td>-1.402788</td>\n",
              "      <td>0.375288</td>\n",
              "      <td>31.062431</td>\n",
              "      <td>...</td>\n",
              "      <td>8.467068</td>\n",
              "      <td>0.00265</td>\n",
              "      <td>14.429237</td>\n",
              "      <td>0.731795</td>\n",
              "      <td>0.636549</td>\n",
              "      <td>1.530799</td>\n",
              "      <td>-0.213943</td>\n",
              "      <td>-4.003987</td>\n",
              "      <td>0.600421</td>\n",
              "      <td>0.155667</td>\n",
              "    </tr>\n",
              "    <tr>\n",
              "      <th>10001</th>\n",
              "      <td>2015-08-13</td>\n",
              "      <td>10</td>\n",
              "      <td>27</td>\n",
              "      <td>5.427661</td>\n",
              "      <td>0.952119</td>\n",
              "      <td>3.309973</td>\n",
              "      <td>-2.531744</td>\n",
              "      <td>-1.402788</td>\n",
              "      <td>0.375288</td>\n",
              "      <td>31.062431</td>\n",
              "      <td>...</td>\n",
              "      <td>8.467068</td>\n",
              "      <td>0.00265</td>\n",
              "      <td>14.429237</td>\n",
              "      <td>0.731795</td>\n",
              "      <td>0.636549</td>\n",
              "      <td>1.530799</td>\n",
              "      <td>-0.213943</td>\n",
              "      <td>-4.003987</td>\n",
              "      <td>0.600421</td>\n",
              "      <td>0.155667</td>\n",
              "    </tr>\n",
              "    <tr>\n",
              "      <th>10002</th>\n",
              "      <td>2015-08-13</td>\n",
              "      <td>1</td>\n",
              "      <td>50</td>\n",
              "      <td>5.427661</td>\n",
              "      <td>0.952119</td>\n",
              "      <td>3.309973</td>\n",
              "      <td>-2.531744</td>\n",
              "      <td>-1.402788</td>\n",
              "      <td>0.375288</td>\n",
              "      <td>31.062431</td>\n",
              "      <td>...</td>\n",
              "      <td>8.467068</td>\n",
              "      <td>0.00265</td>\n",
              "      <td>14.429237</td>\n",
              "      <td>0.731795</td>\n",
              "      <td>0.636549</td>\n",
              "      <td>1.530799</td>\n",
              "      <td>-0.213943</td>\n",
              "      <td>-4.003987</td>\n",
              "      <td>0.600421</td>\n",
              "      <td>0.155667</td>\n",
              "    </tr>\n",
              "    <tr>\n",
              "      <th>10003</th>\n",
              "      <td>2015-08-13</td>\n",
              "      <td>4</td>\n",
              "      <td>24</td>\n",
              "      <td>5.427661</td>\n",
              "      <td>0.952119</td>\n",
              "      <td>3.309973</td>\n",
              "      <td>-2.531744</td>\n",
              "      <td>-1.402788</td>\n",
              "      <td>0.375288</td>\n",
              "      <td>31.062431</td>\n",
              "      <td>...</td>\n",
              "      <td>8.467068</td>\n",
              "      <td>0.00265</td>\n",
              "      <td>14.429237</td>\n",
              "      <td>0.731795</td>\n",
              "      <td>0.636549</td>\n",
              "      <td>1.530799</td>\n",
              "      <td>-0.213943</td>\n",
              "      <td>-4.003987</td>\n",
              "      <td>0.600421</td>\n",
              "      <td>0.155667</td>\n",
              "    </tr>\n",
              "    <tr>\n",
              "      <th>10004</th>\n",
              "      <td>2015-08-13</td>\n",
              "      <td>9</td>\n",
              "      <td>30</td>\n",
              "      <td>5.427661</td>\n",
              "      <td>0.952119</td>\n",
              "      <td>3.309973</td>\n",
              "      <td>-2.531744</td>\n",
              "      <td>-1.402788</td>\n",
              "      <td>0.375288</td>\n",
              "      <td>31.062431</td>\n",
              "      <td>...</td>\n",
              "      <td>8.467068</td>\n",
              "      <td>0.00265</td>\n",
              "      <td>14.429237</td>\n",
              "      <td>0.731795</td>\n",
              "      <td>0.636549</td>\n",
              "      <td>1.530799</td>\n",
              "      <td>-0.213943</td>\n",
              "      <td>-4.003987</td>\n",
              "      <td>0.600421</td>\n",
              "      <td>0.155667</td>\n",
              "    </tr>\n",
              "  </tbody>\n",
              "</table>\n",
              "<p>5 rows × 35 columns</p>\n",
              "</div>\n",
              "    <div class=\"colab-df-buttons\">\n",
              "\n",
              "  <div class=\"colab-df-container\">\n",
              "    <button class=\"colab-df-convert\" onclick=\"convertToInteractive('df-c9dd1150-18f7-400d-bf9a-5cc563dcf094')\"\n",
              "            title=\"Convert this dataframe to an interactive table.\"\n",
              "            style=\"display:none;\">\n",
              "\n",
              "  <svg xmlns=\"http://www.w3.org/2000/svg\" height=\"24px\" viewBox=\"0 -960 960 960\">\n",
              "    <path d=\"M120-120v-720h720v720H120Zm60-500h600v-160H180v160Zm220 220h160v-160H400v160Zm0 220h160v-160H400v160ZM180-400h160v-160H180v160Zm440 0h160v-160H620v160ZM180-180h160v-160H180v160Zm440 0h160v-160H620v160Z\"/>\n",
              "  </svg>\n",
              "    </button>\n",
              "\n",
              "  <style>\n",
              "    .colab-df-container {\n",
              "      display:flex;\n",
              "      gap: 12px;\n",
              "    }\n",
              "\n",
              "    .colab-df-convert {\n",
              "      background-color: #E8F0FE;\n",
              "      border: none;\n",
              "      border-radius: 50%;\n",
              "      cursor: pointer;\n",
              "      display: none;\n",
              "      fill: #1967D2;\n",
              "      height: 32px;\n",
              "      padding: 0 0 0 0;\n",
              "      width: 32px;\n",
              "    }\n",
              "\n",
              "    .colab-df-convert:hover {\n",
              "      background-color: #E2EBFA;\n",
              "      box-shadow: 0px 1px 2px rgba(60, 64, 67, 0.3), 0px 1px 3px 1px rgba(60, 64, 67, 0.15);\n",
              "      fill: #174EA6;\n",
              "    }\n",
              "\n",
              "    .colab-df-buttons div {\n",
              "      margin-bottom: 4px;\n",
              "    }\n",
              "\n",
              "    [theme=dark] .colab-df-convert {\n",
              "      background-color: #3B4455;\n",
              "      fill: #D2E3FC;\n",
              "    }\n",
              "\n",
              "    [theme=dark] .colab-df-convert:hover {\n",
              "      background-color: #434B5C;\n",
              "      box-shadow: 0px 1px 3px 1px rgba(0, 0, 0, 0.15);\n",
              "      filter: drop-shadow(0px 1px 2px rgba(0, 0, 0, 0.3));\n",
              "      fill: #FFFFFF;\n",
              "    }\n",
              "  </style>\n",
              "\n",
              "    <script>\n",
              "      const buttonEl =\n",
              "        document.querySelector('#df-c9dd1150-18f7-400d-bf9a-5cc563dcf094 button.colab-df-convert');\n",
              "      buttonEl.style.display =\n",
              "        google.colab.kernel.accessAllowed ? 'block' : 'none';\n",
              "\n",
              "      async function convertToInteractive(key) {\n",
              "        const element = document.querySelector('#df-c9dd1150-18f7-400d-bf9a-5cc563dcf094');\n",
              "        const dataTable =\n",
              "          await google.colab.kernel.invokeFunction('convertToInteractive',\n",
              "                                                    [key], {});\n",
              "        if (!dataTable) return;\n",
              "\n",
              "        const docLinkHtml = 'Like what you see? Visit the ' +\n",
              "          '<a target=\"_blank\" href=https://colab.research.google.com/notebooks/data_table.ipynb>data table notebook</a>'\n",
              "          + ' to learn more about interactive tables.';\n",
              "        element.innerHTML = '';\n",
              "        dataTable['output_type'] = 'display_data';\n",
              "        await google.colab.output.renderOutput(dataTable, element);\n",
              "        const docLink = document.createElement('div');\n",
              "        docLink.innerHTML = docLinkHtml;\n",
              "        element.appendChild(docLink);\n",
              "      }\n",
              "    </script>\n",
              "  </div>\n",
              "\n",
              "\n",
              "<div id=\"df-b78c36ee-87c6-4ff9-80aa-6d80e94da6ca\">\n",
              "  <button class=\"colab-df-quickchart\" onclick=\"quickchart('df-b78c36ee-87c6-4ff9-80aa-6d80e94da6ca')\"\n",
              "            title=\"Suggest charts\"\n",
              "            style=\"display:none;\">\n",
              "\n",
              "<svg xmlns=\"http://www.w3.org/2000/svg\" height=\"24px\"viewBox=\"0 0 24 24\"\n",
              "     width=\"24px\">\n",
              "    <g>\n",
              "        <path d=\"M19 3H5c-1.1 0-2 .9-2 2v14c0 1.1.9 2 2 2h14c1.1 0 2-.9 2-2V5c0-1.1-.9-2-2-2zM9 17H7v-7h2v7zm4 0h-2V7h2v10zm4 0h-2v-4h2v4z\"/>\n",
              "    </g>\n",
              "</svg>\n",
              "  </button>\n",
              "\n",
              "<style>\n",
              "  .colab-df-quickchart {\n",
              "      --bg-color: #E8F0FE;\n",
              "      --fill-color: #1967D2;\n",
              "      --hover-bg-color: #E2EBFA;\n",
              "      --hover-fill-color: #174EA6;\n",
              "      --disabled-fill-color: #AAA;\n",
              "      --disabled-bg-color: #DDD;\n",
              "  }\n",
              "\n",
              "  [theme=dark] .colab-df-quickchart {\n",
              "      --bg-color: #3B4455;\n",
              "      --fill-color: #D2E3FC;\n",
              "      --hover-bg-color: #434B5C;\n",
              "      --hover-fill-color: #FFFFFF;\n",
              "      --disabled-bg-color: #3B4455;\n",
              "      --disabled-fill-color: #666;\n",
              "  }\n",
              "\n",
              "  .colab-df-quickchart {\n",
              "    background-color: var(--bg-color);\n",
              "    border: none;\n",
              "    border-radius: 50%;\n",
              "    cursor: pointer;\n",
              "    display: none;\n",
              "    fill: var(--fill-color);\n",
              "    height: 32px;\n",
              "    padding: 0;\n",
              "    width: 32px;\n",
              "  }\n",
              "\n",
              "  .colab-df-quickchart:hover {\n",
              "    background-color: var(--hover-bg-color);\n",
              "    box-shadow: 0 1px 2px rgba(60, 64, 67, 0.3), 0 1px 3px 1px rgba(60, 64, 67, 0.15);\n",
              "    fill: var(--button-hover-fill-color);\n",
              "  }\n",
              "\n",
              "  .colab-df-quickchart-complete:disabled,\n",
              "  .colab-df-quickchart-complete:disabled:hover {\n",
              "    background-color: var(--disabled-bg-color);\n",
              "    fill: var(--disabled-fill-color);\n",
              "    box-shadow: none;\n",
              "  }\n",
              "\n",
              "  .colab-df-spinner {\n",
              "    border: 2px solid var(--fill-color);\n",
              "    border-color: transparent;\n",
              "    border-bottom-color: var(--fill-color);\n",
              "    animation:\n",
              "      spin 1s steps(1) infinite;\n",
              "  }\n",
              "\n",
              "  @keyframes spin {\n",
              "    0% {\n",
              "      border-color: transparent;\n",
              "      border-bottom-color: var(--fill-color);\n",
              "      border-left-color: var(--fill-color);\n",
              "    }\n",
              "    20% {\n",
              "      border-color: transparent;\n",
              "      border-left-color: var(--fill-color);\n",
              "      border-top-color: var(--fill-color);\n",
              "    }\n",
              "    30% {\n",
              "      border-color: transparent;\n",
              "      border-left-color: var(--fill-color);\n",
              "      border-top-color: var(--fill-color);\n",
              "      border-right-color: var(--fill-color);\n",
              "    }\n",
              "    40% {\n",
              "      border-color: transparent;\n",
              "      border-right-color: var(--fill-color);\n",
              "      border-top-color: var(--fill-color);\n",
              "    }\n",
              "    60% {\n",
              "      border-color: transparent;\n",
              "      border-right-color: var(--fill-color);\n",
              "    }\n",
              "    80% {\n",
              "      border-color: transparent;\n",
              "      border-right-color: var(--fill-color);\n",
              "      border-bottom-color: var(--fill-color);\n",
              "    }\n",
              "    90% {\n",
              "      border-color: transparent;\n",
              "      border-bottom-color: var(--fill-color);\n",
              "    }\n",
              "  }\n",
              "</style>\n",
              "\n",
              "  <script>\n",
              "    async function quickchart(key) {\n",
              "      const quickchartButtonEl =\n",
              "        document.querySelector('#' + key + ' button');\n",
              "      quickchartButtonEl.disabled = true;  // To prevent multiple clicks.\n",
              "      quickchartButtonEl.classList.add('colab-df-spinner');\n",
              "      try {\n",
              "        const charts = await google.colab.kernel.invokeFunction(\n",
              "            'suggestCharts', [key], {});\n",
              "      } catch (error) {\n",
              "        console.error('Error during call to suggestCharts:', error);\n",
              "      }\n",
              "      quickchartButtonEl.classList.remove('colab-df-spinner');\n",
              "      quickchartButtonEl.classList.add('colab-df-quickchart-complete');\n",
              "    }\n",
              "    (() => {\n",
              "      let quickchartButtonEl =\n",
              "        document.querySelector('#df-b78c36ee-87c6-4ff9-80aa-6d80e94da6ca button');\n",
              "      quickchartButtonEl.style.display =\n",
              "        google.colab.kernel.accessAllowed ? 'block' : 'none';\n",
              "    })();\n",
              "  </script>\n",
              "</div>\n",
              "    </div>\n",
              "  </div>\n"
            ]
          },
          "metadata": {},
          "execution_count": 24
        }
      ]
    },
    {
      "cell_type": "markdown",
      "source": [
        "Error rate when used original dataset"
      ],
      "metadata": {
        "id": "tGQquEuKq-ee"
      }
    },
    {
      "cell_type": "code",
      "source": [
        "model.fit(train_features, train_target)\n",
        "preds = model.predict(test_features)\n",
        "eval_metric(test_target.values, preds, \"SMAPE\" )"
      ],
      "metadata": {
        "colab": {
          "base_uri": "https://localhost:8080/"
        },
        "id": "huXm38XahvQR",
        "outputId": "dbb04efd-bf37-44ee-8bff-830bb6b1c5ec"
      },
      "execution_count": null,
      "outputs": [
        {
          "output_type": "execute_result",
          "data": {
            "text/plain": [
              "[37.65141857448004]"
            ]
          },
          "metadata": {},
          "execution_count": 25
        }
      ]
    },
    {
      "cell_type": "markdown",
      "source": [
        "Error rate when used enriched data set"
      ],
      "metadata": {
        "id": "_D0Q2TyyrCn9"
      }
    },
    {
      "cell_type": "code",
      "source": [
        "model.fit(batch_enriched_train_features, batch_train_labels)\n",
        "enriched_preds = model.predict(batch_enriched_test_features)\n",
        "eval_metric(batch_test_labels.values, enriched_preds, \"SMAPE\")\n"
      ],
      "metadata": {
        "colab": {
          "base_uri": "https://localhost:8080/"
        },
        "id": "uAQWSr5orBrS",
        "outputId": "dc76bcc6-f258-4f77-ea6a-fe0f8a762dfe"
      },
      "execution_count": null,
      "outputs": [
        {
          "output_type": "execute_result",
          "data": {
            "text/plain": [
              "[16.87304062725739]"
            ]
          },
          "metadata": {},
          "execution_count": 27
        }
      ]
    }
  ]
}